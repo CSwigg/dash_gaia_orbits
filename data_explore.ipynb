{
 "cells": [
  {
   "cell_type": "code",
   "execution_count": 1,
   "metadata": {},
   "outputs": [],
   "source": [
    "# notebook to explore data\n",
    "import pandas as pd\n",
    "import numpy as np\n",
    "import matplotlib.pyplot as plt\n",
    "%matplotlib widget"
   ]
  },
  {
   "cell_type": "code",
   "execution_count": 12,
   "metadata": {},
   "outputs": [
    {
     "name": "stdout",
     "output_type": "stream",
     "text": [
      "time\n",
      "name\n",
      "age_myr\n",
      "x\n",
      "y\n",
      "z\n"
     ]
    }
   ],
   "source": [
    "# read in data\n",
    "df = pd.read_csv('/Users/cam/Downloads/Hunt+2023 and Gagné+2018 (< 70 Myr)_integrated.csv')\n",
    "# limit to only important columns\n",
    "df = df[['time', 'name', 'age_myr', 'x', 'y', 'z']]\n",
    "for k in df.keys():\n",
    "    print(k)\n"
   ]
  },
  {
   "cell_type": "code",
   "execution_count": 7,
   "metadata": {},
   "outputs": [
    {
     "data": {
      "text/plain": [
       "0      196.715935\n",
       "1     -150.281448\n",
       "2     -141.129523\n",
       "3     -127.842069\n",
       "4     -113.275029\n",
       "          ...    \n",
       "249    -50.476750\n",
       "250   -177.952140\n",
       "251   -764.128415\n",
       "252   -805.843074\n",
       "253    344.360387\n",
       "Name: y_new, Length: 254, dtype: float64"
      ]
     },
     "execution_count": 7,
     "metadata": {},
     "output_type": "execute_result"
    }
   ],
   "source": [
    "df.y_new"
   ]
  },
  {
   "cell_type": "code",
   "execution_count": 8,
   "metadata": {},
   "outputs": [],
   "source": [
    "df = df.rename(columns = {\n",
    "    'x_new' : 'x',\n",
    "    'y_new' : 'y',\n",
    "    'z_new' : 'z'\n",
    "})\n",
    "\n",
    "df1 = df[['name', 'age_myr', 'x', 'y', 'z']]"
   ]
  },
  {
   "cell_type": "code",
   "execution_count": 9,
   "metadata": {},
   "outputs": [
    {
     "data": {
      "text/html": [
       "<div>\n",
       "<style scoped>\n",
       "    .dataframe tbody tr th:only-of-type {\n",
       "        vertical-align: middle;\n",
       "    }\n",
       "\n",
       "    .dataframe tbody tr th {\n",
       "        vertical-align: top;\n",
       "    }\n",
       "\n",
       "    .dataframe thead th {\n",
       "        text-align: right;\n",
       "    }\n",
       "</style>\n",
       "<table border=\"1\" class=\"dataframe\">\n",
       "  <thead>\n",
       "    <tr style=\"text-align: right;\">\n",
       "      <th></th>\n",
       "      <th>name</th>\n",
       "      <th>age_myr</th>\n",
       "      <th>x</th>\n",
       "      <th>y</th>\n",
       "      <th>z</th>\n",
       "    </tr>\n",
       "  </thead>\n",
       "  <tbody>\n",
       "    <tr>\n",
       "      <th>0</th>\n",
       "      <td>ADS_16795</td>\n",
       "      <td>56.909672</td>\n",
       "      <td>-73.862809</td>\n",
       "      <td>196.715935</td>\n",
       "      <td>-9.738821</td>\n",
       "    </tr>\n",
       "    <tr>\n",
       "      <th>1</th>\n",
       "      <td>ASCC_18</td>\n",
       "      <td>9.258260</td>\n",
       "      <td>-366.024718</td>\n",
       "      <td>-150.281448</td>\n",
       "      <td>-132.553109</td>\n",
       "    </tr>\n",
       "    <tr>\n",
       "      <th>2</th>\n",
       "      <td>ASCC_19</td>\n",
       "      <td>7.449458</td>\n",
       "      <td>-305.273980</td>\n",
       "      <td>-141.129523</td>\n",
       "      <td>-118.114080</td>\n",
       "    </tr>\n",
       "    <tr>\n",
       "      <th>3</th>\n",
       "      <td>ASCC_20</td>\n",
       "      <td>12.542164</td>\n",
       "      <td>-322.138982</td>\n",
       "      <td>-127.842069</td>\n",
       "      <td>-110.920692</td>\n",
       "    </tr>\n",
       "    <tr>\n",
       "      <th>4</th>\n",
       "      <td>ASCC_21</td>\n",
       "      <td>6.898220</td>\n",
       "      <td>-310.387864</td>\n",
       "      <td>-113.275029</td>\n",
       "      <td>-97.642340</td>\n",
       "    </tr>\n",
       "    <tr>\n",
       "      <th>...</th>\n",
       "      <td>...</td>\n",
       "      <td>...</td>\n",
       "      <td>...</td>\n",
       "      <td>...</td>\n",
       "      <td>...</td>\n",
       "    </tr>\n",
       "    <tr>\n",
       "      <th>249</th>\n",
       "      <td>UPK_640</td>\n",
       "      <td>9.619756</td>\n",
       "      <td>167.606319</td>\n",
       "      <td>-50.476750</td>\n",
       "      <td>14.257240</td>\n",
       "    </tr>\n",
       "    <tr>\n",
       "      <th>250</th>\n",
       "      <td>ZHBJZ_1</td>\n",
       "      <td>13.495854</td>\n",
       "      <td>-224.325823</td>\n",
       "      <td>-177.952140</td>\n",
       "      <td>-10.698767</td>\n",
       "    </tr>\n",
       "    <tr>\n",
       "      <th>251</th>\n",
       "      <td>vdBergh_83</td>\n",
       "      <td>6.283996</td>\n",
       "      <td>-506.317207</td>\n",
       "      <td>-764.128415</td>\n",
       "      <td>-233.860920</td>\n",
       "    </tr>\n",
       "    <tr>\n",
       "      <th>252</th>\n",
       "      <td>vdBergh_92</td>\n",
       "      <td>4.396395</td>\n",
       "      <td>-817.275865</td>\n",
       "      <td>-805.843074</td>\n",
       "      <td>-47.290891</td>\n",
       "    </tr>\n",
       "    <tr>\n",
       "      <th>253</th>\n",
       "      <td>vdBergh_152</td>\n",
       "      <td>3.996555</td>\n",
       "      <td>-126.920789</td>\n",
       "      <td>344.360387</td>\n",
       "      <td>73.394491</td>\n",
       "    </tr>\n",
       "  </tbody>\n",
       "</table>\n",
       "<p>254 rows × 5 columns</p>\n",
       "</div>"
      ],
      "text/plain": [
       "            name    age_myr           x           y           z\n",
       "0      ADS_16795  56.909672  -73.862809  196.715935   -9.738821\n",
       "1        ASCC_18   9.258260 -366.024718 -150.281448 -132.553109\n",
       "2        ASCC_19   7.449458 -305.273980 -141.129523 -118.114080\n",
       "3        ASCC_20  12.542164 -322.138982 -127.842069 -110.920692\n",
       "4        ASCC_21   6.898220 -310.387864 -113.275029  -97.642340\n",
       "..           ...        ...         ...         ...         ...\n",
       "249      UPK_640   9.619756  167.606319  -50.476750   14.257240\n",
       "250      ZHBJZ_1  13.495854 -224.325823 -177.952140  -10.698767\n",
       "251   vdBergh_83   6.283996 -506.317207 -764.128415 -233.860920\n",
       "252   vdBergh_92   4.396395 -817.275865 -805.843074  -47.290891\n",
       "253  vdBergh_152   3.996555 -126.920789  344.360387   73.394491\n",
       "\n",
       "[254 rows x 5 columns]"
      ]
     },
     "execution_count": 9,
     "metadata": {},
     "output_type": "execute_result"
    }
   ],
   "source": [
    "df1"
   ]
  },
  {
   "cell_type": "code",
   "execution_count": null,
   "metadata": {},
   "outputs": [],
   "source": []
  }
 ],
 "metadata": {
  "kernelspec": {
   "display_name": "p311",
   "language": "python",
   "name": "python3"
  },
  "language_info": {
   "codemirror_mode": {
    "name": "ipython",
    "version": 3
   },
   "file_extension": ".py",
   "mimetype": "text/x-python",
   "name": "python",
   "nbconvert_exporter": "python",
   "pygments_lexer": "ipython3",
   "version": "3.11.0"
  }
 },
 "nbformat": 4,
 "nbformat_minor": 2
}
