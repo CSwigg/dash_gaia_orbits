{
 "cells": [
  {
   "cell_type": "code",
   "execution_count": 1,
   "metadata": {},
   "outputs": [],
   "source": [
    "import numpy as np \n",
    "import pandas as pd\n",
    "import copy\n",
    "import sys\n",
    "from astropy.io import fits\n",
    "import plotly.graph_objects as go\n",
    "from astropy.coordinates import SkyCoord, GalacticLSR, Galactic\n",
    "import astropy.units as u\n",
    "sys.path.append('../')\n",
    "\n",
    "# Package imports\n",
    "from oviz import Trace, TraceCollection, Animate3D\n",
    "\n",
    "column_renaming_dict = {'n_stars_hunt' : 'n_stars', 'U_new' : 'U', 'V_new' : 'V', 'W_new' : 'W', 'x_hunt_50' : 'x', 'y_hunt_50' : 'y', 'z_hunt_50' : 'z', 'U_err_new' : 'U_err', 'V_err_new' : 'V_err', 'W_err_new' : 'W_err'}"
   ]
  },
  {
   "cell_type": "code",
   "execution_count": 2,
   "metadata": {},
   "outputs": [],
   "source": [
    "df_hunt_full = pd.read_csv('/Users/cam/Downloads/hunt_catalog_oct_13.csv')\n",
    "df_hunt_full = df_hunt_full.rename(columns={'n_stars_hunt' : 'n_stars', 'U_new' : 'U', 'V_new' : 'V', 'W_new' : 'W', 'x_hunt_50' : 'x', 'y_hunt_50' : 'y', 'z_hunt_50' : 'z', 'U_err_new' : 'U_err', 'V_err_new' : 'V_err', 'W_err_new' : 'W_err'})\n",
    "\n",
    "dfme = pd.read_csv('/Users/cam/Downloads/cluster_sample_data.csv')\n",
    "dfme = dfme.drop(columns=['x', 'y', 'z'])\n",
    "dfme = dfme[['name', 'family', 'age_myr', 'U', 'V', 'W', 'x_helio', 'y_helio', 'z_helio', 'n_stars', 'mass_50', 'n_sne_50']]\n",
    "dfme = dfme.rename(columns={'x_helio' : 'x', 'y_helio' : 'y', 'z_helio' : 'z'})"
   ]
  },
  {
   "cell_type": "code",
   "execution_count": 3,
   "metadata": {},
   "outputs": [],
   "source": [
    "dfgamma_ivs = dfme.loc[dfme['name'].isin(['Pozzo_1', 'CWNU_1083', 'CWNU_1096', 'OC_0470', 'OC_0479'])]\n",
    "dfgamma = dfme.loc[dfme['family'] == 'gamma_velorum']\n",
    "dfcr135 = dfme.loc[dfme['name'].isin(['Alessi_36', 'Collinder_135', 'Collinder_140', 'NGC_2451B', 'OCSN_82'])] \n",
    "dft10 = dfme.loc[dfme['name'].isin(['Trumpler_10'])]\n",
    "dfsun = pd.DataFrame({'name' : ['Sun'], 'age_myr' : [100000], 'U' : [0], 'V' : [0], 'W' : [0], 'x' : [0], 'y' : [0], 'z' : [0], 'n_stars' : [1]})\n",
    "\n",
    "dfcr135_full = dfme.loc[dfme['family'] == 'cr135']\n",
    "dfm6_full = dfme.loc[dfme['family'] == 'm6']"
   ]
  },
  {
   "cell_type": "code",
   "execution_count": 4,
   "metadata": {},
   "outputs": [],
   "source": [
    "cr135 = Trace(dfcr135, data_name = 'Cr135 family (IVS)', min_size = 3, max_size = 12, color = 'orange', opacity = 1, marker_style = 'circle', show_tracks = True)\n",
    "# gamma = Trace(dfgamma, data_name = 'Gamma Vel family (IVS)', min_size = 3, max_size = 12, color = 'red', opacity = 1, marker_style = 'circle', show_tracks = True)\n",
    "gamma_ivs = Trace(dfgamma_ivs, data_name = 'Gamma Vel family (IVS)', min_size = 3, max_size = 12, color = 'red', opacity = .5, marker_style = 'circle', show_tracks = True)\n",
    "t10 = Trace(dft10, data_name = 'Trumpler 10', min_size = 3, max_size = 12, color = 'cyan', opacity = 1, marker_style = 'circle', show_tracks = True)\n",
    "# cr135_full = Trace(dfcr135_full, data_name = 'Cr135 family (full)', min_size = 3, max_size = 12, color = 'orange', opacity = .2, marker_style = 'circle', show_tracks = False)\n",
    "# m6_full = Trace(dfm6_full, data_name = 'M6 family (full)', min_size = 3, max_size = 12, color = 'cyan', opacity = .2, marker_style = 'circle', show_tracks = False)\n",
    "# sun = Trace(dfsun, data_name = 'Sun', min_size = 0, max_size = 7, color = 'yellow', opacity = 1, marker_style = 'circle', show_tracks = False)\n",
    "\n",
    "# sc = TraceCollection([cr135, gamma, t10, cr135_full, m6_full, sun])"
   ]
  },
  {
   "cell_type": "code",
   "execution_count": 5,
   "metadata": {},
   "outputs": [],
   "source": [
    "# read in Annie's paths\n",
    "annie_data = pd.read_csv('/Users/cam/Downloads/all_cluster_info.csv')\n",
    "annie_data.rename(columns={'age[Myr]' : 'age_myr', 'x_helio[pc]' : 'x', 'y_helio[pc]' : 'y', 'z_helio[pc]' : 'z', 'U_helio[km/s]' : 'U', 'V_helio[km/s]' : 'V', 'W_helio[km/s]' : 'W', 'Name':'name'}, inplace=True)\n",
    "\n",
    "stars = annie_data.loc[annie_data['name'].isin(['zeta pup', 'Gamma2 Vel'])]\n",
    "cr135_clusters = dfme.loc[dfme['name'].isin(['Alessi_36', 'Collinder_135', 'Collinder_140', 'NGC_2451B', 'OC_0450', 'OCSN_82'])]\n",
    "gamma_vel_clusters = dfme.loc[dfme['name'].isin(['CWNU_1083', 'CWNU_1096', 'OC_0470', 'OC_0479', 'Pozzo_1'])]\n",
    "t10_cluster = dfme.loc[dfme['name'].isin(['Trumpler_10'])]\n",
    "\n",
    "stars_trace = Trace(stars, data_name = 'Stars', min_size = 3, max_size = 12, color = 'forestgreen', opacity = 1, marker_style = 'circle', show_tracks = True)\n",
    "cr135_trace = Trace(cr135_clusters, data_name = 'Cr135 family', min_size = 3, max_size = 12, color = 'purple', opacity = 1, marker_style = 'circle', show_tracks = True)\n",
    "gamma_vel_trace = Trace(gamma_vel_clusters, data_name = 'Gamma Vel family', min_size = 3, max_size = 12, color = 'crimson', opacity = 1, marker_style = 'circle', show_tracks = True)\n",
    "t10_trace = Trace(t10_cluster, data_name = 'Trumpler 10', min_size = 3, max_size = 12, color = 'darkcyan', opacity = 1, marker_style = 'circle', show_tracks = True)\n",
    "\n"
   ]
  },
  {
   "cell_type": "code",
   "execution_count": 6,
   "metadata": {},
   "outputs": [],
   "source": [
    "gv2 = copy.deepcopy(gamma_vel_clusters)\n",
    "c2 = copy.deepcopy(cr135_clusters)\n",
    "t2 = copy.deepcopy(t10_cluster)\n",
    "s2 = copy.deepcopy(stars)\n",
    "\n",
    "for t in [gv2, c2, t2, s2]:\n",
    "    t['U'] = t['U'] - 11.1\n",
    "    t['V'] = t['V'] - 12.24\n",
    "    t['W'] = t['W'] - 7.25\n",
    "\n",
    "Um = gv2['U'].median()\n",
    "Vm = gv2['V'].median()\n",
    "Wm = gv2['W'].median()\n",
    "\n",
    "gv2_trace = Trace(gv2, data_name = 'Gamma Vel family (γVel family frame)', min_size = 3, max_size = 12, color = 'crimson', opacity = 1, marker_style = 'circle', show_tracks = True, shifted_rf = [0, 0, 0, Um, Vm, Wm])\n",
    "c2_trace = Trace(c2, data_name = 'Cr135 family (γVel family frame)', min_size = 3, max_size = 12, color = 'purple', opacity = 1, marker_style = 'circle', show_tracks = True, shifted_rf = [0, 0, 0, Um, Vm, Wm])\n",
    "t2_trace = Trace(t2, data_name = 'Trumpler 10 (γVel family frame)', min_size = 3, max_size = 12, color = 'darkcyan', opacity = 1, marker_style = 'circle', show_tracks = True, shifted_rf = [0, 0, 0, Um, Vm, Wm])\n",
    "s2_trace = Trace(s2, data_name = 'Stars (γVel family frame)', min_size = 3, max_size = 12, color = 'forestgreen', opacity = 1, marker_style = 'circle', show_tracks = True, shifted_rf = [0, 0, 0, Um, Vm, Wm])"
   ]
  },
  {
   "cell_type": "code",
   "execution_count": 7,
   "metadata": {},
   "outputs": [],
   "source": [
    "sc = TraceCollection([\n",
    "    cr135_trace, gamma_vel_trace, t10_trace, stars_trace,\n",
    "    c2_trace, gv2_trace, t2_trace, s2_trace\n",
    "    ])\n",
    "gdict = {\n",
    "    'LSR Frame' : ['Cr135 family', 'Gamma Vel family', 'Trumpler 10', 'Stars'],\n",
    "    'γVel Frame' : ['Cr135 family (γVel family frame)', 'Gamma Vel family (γVel family frame)', 'Trumpler 10 (γVel family frame)', 'Stars (γVel family frame)']\n",
    "}"
   ]
  },
  {
   "cell_type": "code",
   "execution_count": 8,
   "metadata": {},
   "outputs": [],
   "source": [
    "# in LSR frame\n",
    "\n",
    "# Create traces\n",
    "static_traces = []\n",
    "static_trace_times = []\n",
    "\n",
    "\n",
    "time_show_ivs = np.round(np.arange(0., -4., -0.5), 1)\n",
    "\n",
    "ivs = pd.read_csv('/Users/cam/Downloads/npix128boundary_mean_sigma10.csv')\n",
    "ivs = pd.read_csv('/Users/cam/Downloads/peaks_meanmap_xyz.csv')\n",
    "#ivs_out = pd.read_csv('/Users/cam/Downloads/npix128boundaryout_mean_sigma10.csv')\n",
    "#ivs = pd.concat([ivs, ivs_out])\n",
    "ivs = ivs.sample(frac=.7)\n",
    "scatter_ivs = go.Scatter3d(\n",
    "    x = ivs['x[pc]'].values,\n",
    "    y = ivs['y[pc]'].values,\n",
    "    z = ivs['z[pc]'].values,\n",
    "    mode='markers',\n",
    "    marker=dict(size=.3,\n",
    "                color='dodgerblue',\n",
    "                symbol='circle',\n",
    "                opacity=.3),\n",
    "    name='IVS',\n",
    "    visible = True,\n",
    "    hoverinfo='skip'\n",
    "    )\n",
    "static_traces.append(scatter_ivs)\n",
    "static_trace_times.append([0])\n",
    "\n",
    "\n",
    "scatter_sun_dir = go.Scatter3d(\n",
    "    x = [-44, 0],\n",
    "    y = [-242, 0],\n",
    "    z = [-47, 0],\n",
    "    mode='lines',\n",
    "    line=dict(color='yellow', width=10),\n",
    "    name='Sun direction',\n",
    "    visible = 'legendonly',\n",
    "    hoverinfo='skip'\n",
    "    )\n",
    "static_traces.append(scatter_sun_dir)\n",
    "static_trace_times.append([0])"
   ]
  },
  {
   "cell_type": "code",
   "execution_count": 9,
   "metadata": {},
   "outputs": [],
   "source": [
    "#time_int = np.round(np.arange(0., -30.5, -0.5),1)\n",
    "time_int = np.round(np.arange(-20., 20.5, .5),1)"
   ]
  },
  {
   "cell_type": "code",
   "execution_count": 10,
   "metadata": {},
   "outputs": [
    {
     "name": "stderr",
     "output_type": "stream",
     "text": [
      "                                     \r"
     ]
    },
    {
     "name": "stdout",
     "output_type": "stream",
     "text": [
      "hit 0.0\n",
      "hit 0.0\n",
      "hit 0.0\n",
      "hit 0.0\n",
      "hit 0.0\n",
      "hit 0.0\n",
      "hit 0.0\n",
      "hit 0.0\n",
      "hit 0.0\n",
      "hit 0.0\n"
     ]
    }
   ],
   "source": [
    "xyz_ranges = (\n",
    "    [np.nanmedian(ivs['x[pc]']) - 201, np.nanmedian(ivs['x[pc]']) + 201],\n",
    "    [np.nanmedian(ivs['y[pc]']) - 201, np.nanmedian(ivs['y[pc]']) + 201],\n",
    "    [np.nanmedian(ivs['z[pc]']) - 150, np.nanmedian(ivs['z[pc]']) + 150]\n",
    ")\n",
    "\n",
    "plot_3d = Animate3D(\n",
    "    data_collection = sc, \n",
    "    figure_title='Interactive Figure 8 from Gao et al. (2024)',\n",
    "    xyz_ranges=xyz_ranges,\n",
    "    figure_theme = 'light', \n",
    "    trace_grouping_dict=gdict\n",
    "    )\n",
    "\n",
    "save_name = '/Users/cam/Desktop/astro_research/radcliffe/cam_website_clone/cam_website/ivs_plots/gao24_fig8_interactive.html'\n",
    "\n",
    "\n",
    "fig3d = plot_3d.make_plot(\n",
    "    time = time_int,\n",
    "    show = False, \n",
    "    save_name =save_name, \n",
    "    static_traces = static_traces, \n",
    "    static_traces_times = static_trace_times,\n",
    "    static_traces_legendonly=False,\n",
    "    focus_group = None,\n",
    "    fade_in_time = 5, # Myr,\n",
    "    show_gc_line=False,\n",
    "    fade_in_and_out = False\n",
    ")"
   ]
  },
  {
   "cell_type": "code",
   "execution_count": 11,
   "metadata": {},
   "outputs": [],
   "source": [
    "# xyz_widths = (201, 201, 151)\n",
    "\n",
    "# plot_3d = Animate3D(\n",
    "#     data_collection = sc, \n",
    "#     figure_title='Interactive Figure 8 from Gao et al. (2024)',\n",
    "#     xyz_widths = xyz_widths, \n",
    "#     #xyz_ranges=xyz_ranges,\n",
    "#     figure_theme = 'light', \n",
    "#     trace_grouping_dict=None)\n",
    "\n",
    "# #save_name = '/Users/cam/Downloads/ivs_clusters_movie_gvel_frame.html'\n",
    "# save_name = '/Users/cam/Desktop/astro_research/radcliffe/cam_website_clone/cam_website/ivs_plots/gao24_fig8_interactive.html'\n",
    "\n",
    "\n",
    "# fig3d = plot_3d.make_plot(\n",
    "#     time = time_int,\n",
    "#     show = False, \n",
    "#     save_name =save_name, \n",
    "#     static_traces = static_traces, \n",
    "#     static_traces_times = static_trace_times,\n",
    "#     static_traces_legendonly=False,\n",
    "#     focus_group = 'Gamma Vel family',\n",
    "#     #focus_group = None,\n",
    "#     fade_in_time = 0, # Myr,\n",
    "#     show_gc_line=False,\n",
    "#     fade_in_and_out = False\n",
    "# )"
   ]
  }
 ],
 "metadata": {
  "kernelspec": {
   "display_name": "p311",
   "language": "python",
   "name": "python3"
  },
  "language_info": {
   "codemirror_mode": {
    "name": "ipython",
    "version": 3
   },
   "file_extension": ".py",
   "mimetype": "text/x-python",
   "name": "python",
   "nbconvert_exporter": "python",
   "pygments_lexer": "ipython3",
   "version": "3.11.0"
  }
 },
 "nbformat": 4,
 "nbformat_minor": 2
}
