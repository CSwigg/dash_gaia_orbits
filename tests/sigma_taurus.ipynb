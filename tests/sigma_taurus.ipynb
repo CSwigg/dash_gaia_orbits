{
 "cells": [
  {
   "cell_type": "code",
   "execution_count": 1,
   "metadata": {},
   "outputs": [],
   "source": [
    "import numpy as np \n",
    "import pandas as pd\n",
    "import sys\n",
    "from astropy.io import fits\n",
    "from astropy.coordinates import SkyCoord\n",
    "from astropy import units as u\n",
    "import plotly.graph_objects as go\n",
    "import sys\n",
    "sys.path.append('..')\n",
    "\n",
    "from oviz import Trace, TraceCollection, Animate3D"
   ]
  },
  {
   "cell_type": "code",
   "execution_count": 2,
   "metadata": {},
   "outputs": [],
   "source": [
    "delta_t = -1\n",
    "static_traces = []\n",
    "static_traces_times = []\n",
    "\n",
    "\n",
    "# read in Gordian scatter map\n",
    "#dfv = pd.read_csv('/Users/cam/Downloads/edenhofer_dust_scatter_new.csv')\n",
    "dfv = pd.read_csv('/Users/cam/Desktop/astro_research/radcliffe/mustache_work/figures/cubes/edenhofer_scatterized_4pc.csv')\n",
    "dfv = dfv.loc[dfv['e'].between(0.003, 1)]\n",
    "#dfv = dfv.loc[dfv['extinction'].between(0.0007, 1)]\n",
    "ds_index = 1\n",
    "scatter_edenhofer = go.Scatter3d(\n",
    "    x=dfv['x'].values[::ds_index],\n",
    "    y=dfv['y'].values[::ds_index],\n",
    "    z=dfv['z'].values[::ds_index],\n",
    "    mode='markers',\n",
    "    marker=dict(size=2,\n",
    "                color='gray',\n",
    "                symbol='circle',\n",
    "                opacity=.08),\n",
    "    line = dict(color = 'gray', width = 0.),\n",
    "    name='Edenhofer Dust',\n",
    "    visible = True,\n",
    "    hovertext='Edenhofer Dust',\n",
    "    hoverinfo='skip'\n",
    "    )\n",
    "static_traces.append(scatter_edenhofer)\n",
    "static_traces_times.append([0.]) # only show at t=0\n",
    "\n",
    "# read in leike map\n",
    "\n",
    "hdu = fits.open('/Users/cam/Downloads/Local_Bubble_Pelgrims2020.fits')\n",
    "x = hdu[1].data['x'][::4]\n",
    "y = hdu[1].data['y'][::4]\n",
    "z = hdu[1].data['z'][::4]\n",
    "\n",
    "scatter_lb = go.Scatter3d(\n",
    "    x=x,\n",
    "    y=y,\n",
    "    z=z,\n",
    "    mode='markers',\n",
    "    marker=dict(size=1,\n",
    "                color='#6495ED',\n",
    "                symbol='circle',\n",
    "                opacity=.05),\n",
    "    name='Local Bubble',\n",
    "    visible = 'legendonly',\n",
    "    hovertext='Local Bubble')\n",
    "static_traces.append(scatter_lb)\n",
    "static_traces_times.append([0.]) # only show at t=0"
   ]
  },
  {
   "cell_type": "code",
   "execution_count": 3,
   "metadata": {},
   "outputs": [],
   "source": [
    "# Annotations\n",
    "text_trace = go.Scatter3d(\n",
    "    x=[100],\n",
    "    y=[-300],\n",
    "    z=[-40],\n",
    "    mode='text',\n",
    "    text=['Vela OB2 forms'],\n",
    "    textposition='top center',\n",
    "    textfont=dict(\n",
    "        family=\"Arial\", \n",
    "        size=12, \n",
    "        color=\"white\"\n",
    "        ),\n",
    "    name='text',\n",
    "    hoverinfo='text',\n",
    "    visible = True,\n",
    "    showlegend=False\n",
    ")\n",
    "# static_traces.append(text_trace)\n",
    "# static_traces_times.append(np.arange(-5, -15, delta_t)) # only show at t=0"
   ]
  },
  {
   "cell_type": "code",
   "execution_count": 4,
   "metadata": {},
   "outputs": [],
   "source": [
    "labels = pd.read_csv('/Users/cam/Downloads/sco_cen_grouped_clusters.csv')\n",
    "df_sc = pd.read_csv('/Users/cam/Desktop/astro_research/radcliffe/cluster_data/files_formatted/ratzi_2022.csv')\n",
    "\n",
    "sun = pd.DataFrame({'name' : ['Sun'], 'family' : ['Sun'], 'age_myr' : [8000], 'U' : [0.], 'V' : [0.], 'W' : [0.], 'x' : [0.], 'y' : [0.], 'z' : [0], 'n_stars' : [1]})"
   ]
  },
  {
   "cell_type": "code",
   "execution_count": 5,
   "metadata": {},
   "outputs": [],
   "source": [
    "lcc = ['sig Cen', 'Acrux', 'Musca-foreground', 'eps Cham', 'eta Cham']\n",
    "df_lcc = df_sc.loc[df_sc['name'].isin(lcc)]"
   ]
  },
  {
   "cell_type": "code",
   "execution_count": 6,
   "metadata": {},
   "outputs": [],
   "source": [
    "df = pd.read_csv('/Users/cam/Downloads/taurus_core_sigma_final_age.csv')\n",
    "a = df[['X', 'Y', 'Z', 'U', 'V', 'W', 'labels', 'age_myr']]\n",
    "a = a.rename(columns={'X' : 'x', 'Y' : 'y', 'Z' : 'z', 'labels' : 'name'})\n",
    "# for k in df.keys():\n",
    "#     print(k)"
   ]
  },
  {
   "cell_type": "code",
   "execution_count": 7,
   "metadata": {},
   "outputs": [],
   "source": [
    "# spica\n",
    "N = 50\n",
    "\n",
    "ra = [201.2983] * N\n",
    "dec = [-11.1612] * N\n",
    "\n",
    "pmra = -41.58\n",
    "pmdec = -30.35\n",
    "pmra_err = 0.2\n",
    "pmdec_err = 0.19\n",
    "rv = -0.5\n",
    "rv_err = 1.1\n",
    "\n",
    "dist = 80\n",
    "dist_err = 5\n",
    "\n",
    "pmra_samples = np.random.uniform(pmra - pmra_err, pmra + pmra_err, N)\n",
    "pmdec_samples = np.random.uniform(pmdec - pmdec_err, pmdec + pmdec_err, N)\n",
    "distance_samples = np.random.uniform(dist - dist_err, dist + dist_err, N)\n",
    "rv_samples = np.random.uniform(rv - rv_err, rv + rv_err, N)\n",
    "names = ['Spica (RV = {}, pmra = {}, pmdec = {}, distance = {})'.format(rv, pmra, pmdec, dist)] * N\n",
    "\n",
    "i = SkyCoord(\n",
    "    ra=ra * u.deg,\n",
    "    dec=dec * u.deg,\n",
    "    distance=distance_samples * u.pc,\n",
    "    pm_ra_cosdec=pmra_samples * (u.mas / u.yr),\n",
    "    pm_dec=pmdec_samples * (u.mas / u.yr),\n",
    "    radial_velocity=rv_samples * u.km / u.s,\n",
    "    frame='icrs'\n",
    ")\n",
    "g = i.transform_to('galactic')\n",
    "g.representation_type = 'cartesian'\n",
    "g.differential_type = 'cartesian'\n",
    "spica = pd.DataFrame({\n",
    "    'x': g.u.value,\n",
    "    'y': g.v.value,\n",
    "    'z': g.w.value,\n",
    "    'U': g.U.value,\n",
    "    'V': g.V.value,\n",
    "    'W': g.W.value,\n",
    "    'name': names,\n",
    "    'age_myr': [12] * N\n",
    "})\n"
   ]
  },
  {
   "cell_type": "code",
   "execution_count": 8,
   "metadata": {},
   "outputs": [],
   "source": [
    "taurus = a.groupby('name').median().reset_index()\n",
    "taurus['U_err'] = a.groupby('name')['U'].std() / np.sqrt(a.groupby('name')['U'].count())\n",
    "taurus['V_err'] = a.groupby('name')['V'].std() / np.sqrt(a.groupby('name')['V'].count())\n",
    "taurus['W_err'] = a.groupby('name')['W'].std() / np.sqrt(a.groupby('name')['W'].count())\n",
    "taurus = taurus.loc[taurus['age_myr'] < 5]"
   ]
  },
  {
   "cell_type": "code",
   "execution_count": 9,
   "metadata": {},
   "outputs": [],
   "source": [
    "df_hunt_gagne = pd.read_csv('/Users/cam/Downloads/cluster_sample_data.csv')\n",
    "df_hunt_gagne = df_hunt_gagne[['name', 'family', 'age_myr', 'U', 'V', 'W', 'x_helio', 'y_helio', 'z_helio', 'n_stars']]\n",
    "df_hunt_gagne = df_hunt_gagne.rename(columns={'x_helio' : 'x', 'y_helio' : 'y', 'z_helio' : 'z'})\n",
    "ap = df_hunt_gagne.loc[df_hunt_gagne['family'] == 'alphaPer']\n",
    "#ap = ap.loc[ap['age_myr'] < 15]\n",
    "m6 = df_hunt_gagne.loc[df_hunt_gagne['family'] == 'm6']\n",
    "cr135 = df_hunt_gagne.loc[df_hunt_gagne['family'] == 'cr135']\n",
    "\n",
    "young_clusters = df_hunt_gagne.loc[df_hunt_gagne['age_myr'] < 15]\n",
    "older_clusters = df_hunt_gagne.loc[df_hunt_gagne['age_myr'] > 15]"
   ]
  },
  {
   "cell_type": "code",
   "execution_count": 10,
   "metadata": {},
   "outputs": [
    {
     "name": "stderr",
     "output_type": "stream",
     "text": [
      "                                       \r"
     ]
    }
   ],
   "source": [
    "taurus_data = Trace(taurus, data_name = 'Taurus', min_size = 0, max_size = 12, color = 'white', opacity = 1., marker_style = 'circle', show_tracks=True)\n",
    "young_clusters_data = Trace(young_clusters, data_name = 'Young clusters (Hunt)', min_size = 0, max_size = 12, color = 'white', opacity = .5, marker_style = 'circle', show_tracks=True)\n",
    "older_clusters_data = Trace(older_clusters, data_name = 'Older clusters (Hunt)', min_size = 0, max_size = 12, color = 'gray', opacity = .5, marker_style = 'circle', show_tracks=True, size_by_n_stars=True)\n",
    "full_data = Trace(df_hunt_gagne, data_name = 'All clusters (Hunt)', min_size = 0, max_size = 15, color = 'grey', opacity = .1, marker_style = 'circle')\n",
    "spica_data = Trace(spica, data_name = 'Spicae', min_size = 5, max_size = 5, color = 'lime', opacity = 1, marker_style = 'circle', show_tracks=True)\n",
    "ap_data = Trace(ap, data_name = '⍺Per family', min_size = 0, max_size = 13, color = 'violet', opacity = .3, marker_style = 'circle', show_tracks=True)\n",
    "cr135_data = Trace(cr135, data_name = 'Cr 135', min_size = 0, max_size = 13, color = 'orange', opacity = .3, marker_style = 'circle', show_tracks=True)\n",
    "sco_cen_data = Trace(df_sc, data_name = 'Sco-Cen (SigMA)', min_size = 0, max_size = 13, color = 'violet', opacity = .5, marker_style = 'circle', show_tracks=True)\n",
    "lcc_data = Trace(df_lcc, data_name = 'LCC Chain', min_size = 0, max_size = 13, color = 'violet', opacity = .85, marker_style = 'circle', show_tracks=True)\n",
    "sun_data = Trace(sun, data_name = 'Sun', min_size = 3, max_size = 3, color = 'yellow', opacity = 1, marker_style = 'circle')\n",
    "\n",
    "#sc = TraceCollection([young_clusters_data, ap_data, cr135_data, sco_cen_data, lcc_data, sun_data, taurus_data])\n",
    "sc = TraceCollection([young_clusters_data, older_clusters_data, sco_cen_data, sun_data, taurus_data])\n",
    "\n",
    "plot_3d = Animate3D(\n",
    "    data_collection = sc, \n",
    "    xyz_widths = (1001, 1001, 300), \n",
    "    figure_theme = 'dark', \n",
    "    trace_grouping_dict=None)\n",
    "\n",
    "#save_name = '/Users/cam/Downloads/spica.html'\n",
    "save_name = '/Users/cam/Desktop/astro_research/radcliffe/cam_website_clone/cam_website/interactive_figures/local_sf.html'\n",
    "#time_int = np.round(np.arange(0., -40 + delta_t, delta_t), 1)\n",
    "#time_int = np.round(np.arange(0., 20 - delta_t, -delta_t), 1)\n",
    "time_int = np.round(np.arange(-20, 20 - delta_t, - delta_t), 1)\n",
    "\n",
    "fig3d = plot_3d.make_plot(\n",
    "    time = time_int,\n",
    "    show = False, \n",
    "    save_name =save_name, \n",
    "    static_traces = static_traces, \n",
    "    static_traces_times = static_traces_times, \n",
    "    static_traces_legendonly=True,\n",
    "    focus_group = None,\n",
    "    fade_in_time = 0, # Myr,\n",
    "    fade_in_and_out = False,\n",
    "    show_gc_line = False\n",
    ")"
   ]
  },
  {
   "cell_type": "code",
   "execution_count": null,
   "metadata": {},
   "outputs": [],
   "source": []
  }
 ],
 "metadata": {
  "kernelspec": {
   "display_name": "p311",
   "language": "python",
   "name": "python3"
  },
  "language_info": {
   "codemirror_mode": {
    "name": "ipython",
    "version": 3
   },
   "file_extension": ".py",
   "mimetype": "text/x-python",
   "name": "python",
   "nbconvert_exporter": "python",
   "pygments_lexer": "ipython3",
   "version": "3.11.0"
  }
 },
 "nbformat": 4,
 "nbformat_minor": 2
}
