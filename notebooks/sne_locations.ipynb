{
 "cells": [
  {
   "cell_type": "code",
   "execution_count": 1,
   "metadata": {},
   "outputs": [
    {
     "name": "stdout",
     "output_type": "stream",
     "text": [
      "\u001b[91mA new version of galpy (1.10.0) is available, please upgrade using pip/conda/... to get the latest features and bug fixes!\u001b[0m\n"
     ]
    }
   ],
   "source": [
    "import numpy as np\n",
    "import pandas as pd\n",
    "import plotly.graph_objects as go\n",
    "import copy\n",
    "import ast\n",
    "import sys\n",
    "sys.path.append('../../dash_gaia_orbits/')\n",
    "from dash_gaia_orbits import StarClusterData, StarClusterCollection, StarClusters3DPlotter\n",
    "df = pd.read_csv('/Users/cam/Downloads/clusters_sne_times.csv')\n",
    "df = df[['name', 'family', 'age_myr', 'U', 'V', 'W', 'x_helio', 'y_helio', 'z_helio', 'n_stars', 'mass_50', 'n_sne_50', 'time', 'count']]\n",
    "df = df.rename(columns={'x_helio' : 'x', 'y_helio' : 'y', 'z_helio' : 'z', 'count' : 'sne_count', 'time' : 'sne_time'})\n",
    "df = df[df['n_sne_50'] >= 1]\n",
    "df['sne_time'] = df['sne_time'].apply(lambda x: np.fromstring(x.strip('[]'), sep=' '))\n",
    "df['sne_count'] = df['sne_count'].apply(lambda x: np.fromstring(x.strip('[]'), sep=' '))\n",
    "\n",
    "df_copy = copy.deepcopy(df)\n",
    "df_copy.drop(columns=['sne_count', 'sne_time'], inplace=True)"
   ]
  },
  {
   "cell_type": "code",
   "execution_count": 17,
   "metadata": {},
   "outputs": [
    {
     "data": {
      "text/html": [
       "<div>\n",
       "<style scoped>\n",
       "    .dataframe tbody tr th:only-of-type {\n",
       "        vertical-align: middle;\n",
       "    }\n",
       "\n",
       "    .dataframe tbody tr th {\n",
       "        vertical-align: top;\n",
       "    }\n",
       "\n",
       "    .dataframe thead th {\n",
       "        text-align: right;\n",
       "    }\n",
       "</style>\n",
       "<table border=\"1\" class=\"dataframe\">\n",
       "  <thead>\n",
       "    <tr style=\"text-align: right;\">\n",
       "      <th></th>\n",
       "      <th>n_sne_50</th>\n",
       "      <th>mass_50</th>\n",
       "    </tr>\n",
       "  </thead>\n",
       "  <tbody>\n",
       "    <tr>\n",
       "      <th>249</th>\n",
       "      <td>1.0</td>\n",
       "      <td>538.879143</td>\n",
       "    </tr>\n",
       "  </tbody>\n",
       "</table>\n",
       "</div>"
      ],
      "text/plain": [
       "     n_sne_50     mass_50\n",
       "249       1.0  538.879143"
      ]
     },
     "execution_count": 17,
     "metadata": {},
     "output_type": "execute_result"
    }
   ],
   "source": [
    "df.loc[df['name'] == 'UPK_640'][['n_sne_50', 'mass_50']]"
   ]
  },
  {
   "cell_type": "code",
   "execution_count": 14,
   "metadata": {},
   "outputs": [
    {
     "data": {
      "text/plain": [
       "18.25"
      ]
     },
     "execution_count": 14,
     "metadata": {},
     "output_type": "execute_result"
    }
   ],
   "source": [
    "1825/100"
   ]
  },
  {
   "cell_type": "code",
   "execution_count": 8,
   "metadata": {},
   "outputs": [
    {
     "data": {
      "text/plain": [
       "3.65"
      ]
     },
     "execution_count": 8,
     "metadata": {},
     "output_type": "execute_result"
    }
   ],
   "source": [
    "df_young = df[df['age_myr'] < 20]\n",
    "df_young.n_sne_50.sum()/20"
   ]
  },
  {
   "cell_type": "code",
   "execution_count": 47,
   "metadata": {},
   "outputs": [
    {
     "name": "stderr",
     "output_type": "stream",
     "text": [
      "                                       \r"
     ]
    }
   ],
   "source": [
    "time_int = np.round(np.arange(0., -61, -1), 1)\n",
    "c = StarClusterData(df_copy, data_name = 'Clusters', min_size = 0, max_size = 6, color = 'gray', opacity = 1, marker_style = 'circle', show_tracks = False)\n",
    "c_copy = StarClusterData(df, data_name = 'Clusters', min_size = 0, max_size = 6, color = 'gray', opacity = 1, marker_style = 'circle', show_tracks = False)\n",
    "c_copy.integrate_orbits(time=time_int)\n",
    "df_int = c_copy.df_int"
   ]
  },
  {
   "cell_type": "code",
   "execution_count": 48,
   "metadata": {},
   "outputs": [],
   "source": [
    "clusters = df_int.groupby('name')\n",
    "\n",
    "x_sne = []\n",
    "y_sne = []\n",
    "z_sne = []\n",
    "weight = []\n",
    "\n",
    "for cluster_name, cluster in clusters:\n",
    "    cluster_sne_data = df.loc[df['name'] == cluster_name]\n",
    "    #sne_times = -1*np.round(np.array(cluster_sne_data['sne_time'].values[0]))/2\n",
    "    sne_times = -1*np.round(np.array(cluster_sne_data['sne_time'].values[0]), 0)\n",
    "    sne_counts = np.array(cluster_sne_data['sne_count'].values[0])\n",
    "    for sne_t, sne_c in zip(sne_times, sne_counts):\n",
    "        x_t = np.array(cluster['x'].loc[cluster['time'] == sne_t].values)\n",
    "        y_t = np.array(cluster['y'].loc[cluster['time'] == sne_t].values)\n",
    "        z_t = np.array(cluster['z'].loc[cluster['time'] == sne_t].values)\n",
    "        if len(x_t) != 0:\n",
    "            x_sne.append(x_t[0])\n",
    "            y_sne.append(y_t[0])\n",
    "            z_sne.append(z_t[0])\n",
    "            weight.append(sne_c)"
   ]
  },
  {
   "cell_type": "code",
   "execution_count": 49,
   "metadata": {},
   "outputs": [],
   "source": [
    "scs = StarClusterCollection([c])"
   ]
  },
  {
   "cell_type": "code",
   "execution_count": 50,
   "metadata": {},
   "outputs": [],
   "source": [
    "scatter_sne = go.Scatter3d(x=x_sne, y=y_sne, z=z_sne, mode='markers', marker=dict(size=5, color=weight, opacity=.08, cmax = .05), name='SNe')\n",
    "time_show_sne = [0]"
   ]
  },
  {
   "cell_type": "code",
   "execution_count": 51,
   "metadata": {},
   "outputs": [
    {
     "name": "stderr",
     "output_type": "stream",
     "text": [
      "                                       \r"
     ]
    }
   ],
   "source": [
    "xyz_widths = (1000, 1000, 300)\n",
    "\n",
    "plot_3d = StarClusters3DPlotter(\n",
    "    data_collection = scs, \n",
    "    figure_title=None,\n",
    "    xyz_widths = xyz_widths, \n",
    "    #xyz_ranges=xyz_ranges,\n",
    "    figure_theme = 'dark', \n",
    "    trace_grouping_dict=None)\n",
    "\n",
    "save_name = '/Users/cam/Downloads/sne_locations.html'\n",
    "fig3d = plot_3d.generate_3d_plot(\n",
    "    time = time_int,\n",
    "    show = False, \n",
    "    save_name =save_name, \n",
    "    static_traces = [scatter_sne], \n",
    "    static_traces_times = [[time_int]],\n",
    ")"
   ]
  },
  {
   "cell_type": "code",
   "execution_count": null,
   "metadata": {},
   "outputs": [],
   "source": []
  }
 ],
 "metadata": {
  "kernelspec": {
   "display_name": "p311",
   "language": "python",
   "name": "python3"
  },
  "language_info": {
   "codemirror_mode": {
    "name": "ipython",
    "version": 3
   },
   "file_extension": ".py",
   "mimetype": "text/x-python",
   "name": "python",
   "nbconvert_exporter": "python",
   "pygments_lexer": "ipython3",
   "version": "3.11.0"
  }
 },
 "nbformat": 4,
 "nbformat_minor": 2
}
