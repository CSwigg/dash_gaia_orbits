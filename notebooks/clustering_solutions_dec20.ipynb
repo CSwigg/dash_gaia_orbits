{
 "cells": [
  {
   "cell_type": "code",
   "execution_count": 1,
   "metadata": {},
   "outputs": [
    {
     "name": "stdout",
     "output_type": "stream",
     "text": [
      "\u001b[91mA new version of galpy (1.10.1) is available, please upgrade using pip/conda/... to get the latest features and bug fixes!\u001b[0m\n"
     ]
    }
   ],
   "source": [
    "import numpy as np \n",
    "import pandas as pd\n",
    "import sys\n",
    "from astropy.io import fits\n",
    "from astropy.coordinates import SkyCoord\n",
    "from astropy import units as u\n",
    "import plotly.graph_objects as go\n",
    "sys.path.append('../../dash_gaia_orbits/')\n",
    "\n",
    "#'Alessi_36', 'Collinder_135', 'NGC_2451B', 'OC_0450' Package imports\n",
    "from dash_gaia_orbits.dash_test import create_dash_app\n",
    "from dash_gaia_orbits import StarClusterData, StarClusterCollection, StarClusters3DPlotter\n",
    "\n",
    "column_renaming_dict = {'n_stars_hunt' : 'n_stars', 'U_new' : 'U', 'V_new' : 'V', 'W_new' : 'W', 'x_hunt_50' : 'x', 'y_hunt_50' : 'y', 'z_hunt_50' : 'z', 'U_err_new' : 'U_err', 'V_err_new' : 'V_err', 'W_err_new' : 'W_err'}"
   ]
  },
  {
   "cell_type": "code",
   "execution_count": 2,
   "metadata": {},
   "outputs": [],
   "source": [
    "df_hunt_full = pd.read_csv('/Users/cam/Downloads/hunt_catalog_oct_13.csv')\n",
    "#df_hunt_full = pd.read_csv('/Users/cam/Downloads/hunt_sample_chronos_ages.csv')\n",
    "df_hunt_full = df_hunt_full.rename(columns={'n_stars_hunt' : 'n_stars', 'U_new' : 'U', 'V_new' : 'V', 'W_new' : 'W', 'x_hunt_50' : 'x', 'y_hunt_50' : 'y', 'z_hunt_50' : 'z', 'U_err_new' : 'U_err', 'V_err_new' : 'V_err', 'W_err_new' : 'W_err'})\n",
    "\n",
    "df_hunt_good = df_hunt_full.loc[\n",
    "    (df_hunt_full['n_rv_gaia_apogee_galah'] >= 5) & \n",
    "    (df_hunt_full['U_err'] < 5) & \n",
    "    (df_hunt_full['V_err'] < 5) & \n",
    "    (df_hunt_full['W_err'] < 5) &\n",
    "    (df_hunt_full['x'].between(-1000, 1000)) &\n",
    "    (df_hunt_full['y'].between(-1000, 1000)) &\n",
    "    (df_hunt_full['z'].between(-300, 300)) &\n",
    "    (df_hunt_full['class_50'] >0.5) &\n",
    "    (df_hunt_full['cst'] > 5)\n",
    "    #(df_hunt_full['n_stars'] > 100)\n",
    "    ]\n",
    "df_hunt_young = df_hunt_good.loc[df_hunt_good['age_myr'] < 15]\n",
    "df_hunt_older = df_hunt_good.loc[df_hunt_good['age_myr'].between(70, 150)]\n",
    "df_hunt_older_2 = df_hunt_good.loc[df_hunt_good['age_myr'].between(150, 1000)]\n",
    "df_hunt_older.to_csv('/Users/cam/Downloads/hunt_catalog_0_70_myr.csv', index=False)\n",
    "df_hunt_young.to_csv('/Users/cam/Downloads/hunt_catalog_0_15_myr.csv', index=False)"
   ]
  },
  {
   "cell_type": "code",
   "execution_count": 3,
   "metadata": {},
   "outputs": [],
   "source": [
    "df_hunt_gagne = pd.read_csv('/Users/cam/Downloads/cluster_sample_data.csv')\n",
    "#df_hunt_gagne = df_hunt_gagne.loc[df_hunt_gagne['n_stars'] >= 100]\n",
    "\n",
    "# # CHRONOS ages\n",
    "# df_hunt_new_ages = pd.read_csv('/Users/cam/Downloads/hunt_sample_chronos_ages_2.csv')\n",
    "# df_hunt_gagne = df_hunt_gagne.merge(df_hunt_new_ages, on='name', how='left', suffixes=('', '_new_ages'))\n",
    "\n",
    "# # use 'age_chronos_mode' for age if it exists, otherwise use 'age_myr'\n",
    "# df_hunt_gagne['age'] = df_hunt_gagne['age_chronos_mode']\n",
    "# df_hunt_gagne.loc[df_hunt_gagne['age'].isnull(), 'age'] = df_hunt_gagne['age_myr']\n",
    "# df_hunt_gagne['age_myr'] = df_hunt_gagne['age']\n",
    "# df_hunt_gagne.to_csv('/Users/cam/Downloads/cluster_sample_data_chornos_ages.csv', index=False)\n",
    "\n",
    "df_hunt_gagne = df_hunt_gagne[['name', 'family', 'age_myr', 'U', 'V', 'W', 'x_helio', 'y_helio', 'z_helio', 'n_stars']]\n",
    "df_hunt_gagne = df_hunt_gagne.rename(columns={'x_helio' : 'x', 'y_helio' : 'y', 'z_helio' : 'z'})\n",
    "\n",
    "m6 = df_hunt_gagne[df_hunt_gagne['family'] == 'm6']\n",
    "cr135 = df_hunt_gagne[df_hunt_gagne['family'] == 'cr135']\n",
    "ap = df_hunt_gagne[df_hunt_gagne['family'] == 'alphaPer']\n",
    "gamma_vel = df_hunt_gagne[df_hunt_gagne['family'] == 'gamma_velorum']\n",
    "\n",
    "df_hunt_partIII = pd.read_csv('/Users/cam/Downloads/hunt_part3_clusters.csv')\n",
    "df_hunt_partIII_to_merge = df_hunt_partIII[['name', 'kind']]\n",
    "m6 = m6.merge(df_hunt_partIII_to_merge, on='name', how='left')\n",
    "\n",
    "sun = pd.DataFrame({'name' : ['Sun'], 'family' : ['Sun'], 'age_myr' : [8000], 'U' : [0.], 'V' : [0.], 'W' : [0.], 'x' : [0.], 'y' : [0.], 'z' : [27.], 'n_stars' : [1]})\n"
   ]
  },
  {
   "cell_type": "code",
   "execution_count": 4,
   "metadata": {},
   "outputs": [],
   "source": [
    "g1_names = pd.read_csv('/Users/cam/Downloads/g1.csv')\n",
    "g2_names = pd.read_csv('/Users/cam/Downloads/g2.csv')\n",
    "g3_names = pd.read_csv('/Users/cam/Downloads/g3.csv')\n",
    "g1 = df_hunt_full.loc[df_hunt_full['name'].isin(g1_names['name'])]\n",
    "g2 = df_hunt_full.loc[df_hunt_full['name'].isin(g2_names['name'])]\n",
    "g3 = df_hunt_full.loc[df_hunt_full['name'].isin(g3_names['name'])]\n",
    "\n",
    "g1_data = StarClusterData(g1, data_name = 'Sirius MG', min_size = 0, max_size = 7.5, color = '#6495ED', opacity = .8, marker_style = 'circle', show_tracks = False)\n",
    "g2_data = StarClusterData(g2, data_name = 'Coma MG', min_size = 0, max_size = 7.5, color = '#6495ED', opacity = .8, marker_style = 'circle', show_tracks = False)\n",
    "g3_data = StarClusterData(g3, data_name = 'Pleiades MG', min_size = 0, max_size = 7.5, color = '#6495ED', opacity = .8, marker_style = 'circle', show_tracks = False)\n"
   ]
  },
  {
   "cell_type": "code",
   "execution_count": 5,
   "metadata": {},
   "outputs": [],
   "source": [
    "import random\n",
    "\n",
    "#df_hdbscan = pd.read_csv('/Users/cam/Downloads/clusters_hdbscan_results.csv')\n",
    "#df_hdbscan = pd.read_csv('/Users/cam/Downloads/clusters_hdbscanned_dec21.csv')\n",
    "df_hdbscan = pd.read_csv('/Users/cam/Downloads/clusters_hdbscanned_jan6.csv')\n",
    "# Group by 'final_label' and create a new StarClusterData object for each group\n",
    "grouped = df_hdbscan.groupby('final_label')\n",
    "cluster_data_objects = []\n",
    "\n",
    "for label, group in grouped:\n",
    "    if label == -1:\n",
    "        continue\n",
    "    color = \"#{:06x}\".format(random.randint(0, 0xFFFFFF))\n",
    "    cluster_data = StarClusterData(group, data_name=f'Cluster {label}', min_size=0, max_size=9, color=color, opacity=1., marker_style='circle')\n",
    "    cluster_data_objects.append(cluster_data)"
   ]
  },
  {
   "cell_type": "markdown",
   "metadata": {},
   "source": [
    "# Dark plot"
   ]
  },
  {
   "cell_type": "code",
   "execution_count": 6,
   "metadata": {},
   "outputs": [],
   "source": [
    "# families\n",
    "sample_data = StarClusterData(df_hunt_gagne, data_name = 'Clean Clusters Sample', min_size = 0, max_size = 9, color = 'gray', opacity = 1., marker_style = 'circle')\n",
    "ap_data = StarClusterData(ap, data_name = '⍺Per', min_size = 0, max_size = 9, color = 'violet', opacity = 1, marker_style = 'circle',  show_tracks = False)\n",
    "m6_data = StarClusterData(m6, data_name = 'M6', min_size = 0, max_size = 9, color = 'cyan', opacity = 1, marker_style = 'circle',  show_tracks = False)\n",
    "cr135_data = StarClusterData(cr135, data_name = 'Cr135', min_size = 0, max_size = 9, color = 'orange', opacity = 1, marker_style = 'circle',  show_tracks = False)\n",
    "gamma_vel_data = StarClusterData(gamma_vel, data_name = 'Gamma Vel', min_size = 0, max_size = 9, color = 'red', opacity = 1., marker_style = 'circle')\n",
    "\n",
    "young_data = StarClusterData(df_hunt_young, data_name = 'Clusters (< 15 Myr)', min_size = 0., max_size = 9, color = 'white', opacity = 0.5, marker_style = 'circle')\n",
    "older_data = StarClusterData(df_hunt_older, data_name = 'Clusters (Age = (0, 200 Myr))', min_size = 0., max_size = 5, color = 'gray', opacity = 1., marker_style = 'circle')\n",
    "older_data_2 = StarClusterData(df_hunt_older_2, data_name = 'Clusters (Age = (150, 500 Myr))', min_size = 0., max_size = 3, color = 'gray', opacity = 1., marker_style = 'circle')\n",
    "sun_data = StarClusterData(sun, data_name = 'Sun', min_size = 0, max_size = 8, color = 'yellow', opacity = 1., marker_style = 'circle')\n",
    "\n",
    "\n",
    "#df_pleiades = df_hunt_good.loc[df_hunt_good['name'] == 'Melotte_22']\n",
    "df_interesting_clusters = df_hunt_full.loc[df_hunt_full['name'].isin(['Melotte_22', 'Melotte_111', 'IC_4725', 'Melotte_25', 'NGC_2632', 'NGC_2516', 'Collinder_394', 'NGC_2287'])]\n",
    "interesting_clusters = StarClusterData(df_interesting_clusters, data_name = 'Interesting Clusters', min_size = 0, max_size = 15, color = '#FF7F50', opacity = 1., marker_style = 'circle')\n",
    "\n",
    "sc = StarClusterCollection([older_data, interesting_clusters] + cluster_data_objects)\n",
    "grouping_dict = None"
   ]
  },
  {
   "cell_type": "code",
   "execution_count": 7,
   "metadata": {},
   "outputs": [
    {
     "name": "stderr",
     "output_type": "stream",
     "text": [
      "                                                   \r"
     ]
    }
   ],
   "source": [
    "#xyz_widths = (1250, 1250, 400)\n",
    "xyz_widths = (3000, 3000, 400)\n",
    "\n",
    "\n",
    "plot_3d = StarClusters3DPlotter(\n",
    "    data_collection = sc, \n",
    "    xyz_widths = xyz_widths, \n",
    "    #xyz_ranges = ([-10000, 10000], [-10000, 10000], [-500, 500]),\n",
    "    figure_theme = 'dark', \n",
    "    trace_grouping_dict=grouping_dict)\n",
    "\n",
    "save_name = '/Users/cam/Downloads/clustering_solution_visualize.html'\n",
    "#save_name = '/Users/cam/Downloads/gal_movie_fade_in.html'\n",
    "#save_name = '/Users/cam/Downloads/edenhofer_dust_movie.html'\n",
    "#save_name = '/Users/cam/Desktop/astro_research/radcliffe/cam_website_clone/cam_website/interactive_figures/edenhoder_dust_movie.html'\n",
    "time_int = np.round(np.arange(0., -101, -1), 1)\n",
    "\n",
    "fig3d = plot_3d.generate_3d_plot(\n",
    "    time = time_int,\n",
    "    show = False, \n",
    "    save_name =save_name, \n",
    "    static_traces = None, \n",
    "    static_traces_times = None, \n",
    "    static_traces_legendonly=True,\n",
    "    focus_group = None,\n",
    "    fade_in_time = 10, # Myr,\n",
    "    fade_in_and_out = False,\n",
    "    show_gc_line = True\n",
    ")"
   ]
  },
  {
   "cell_type": "code",
   "execution_count": null,
   "metadata": {},
   "outputs": [],
   "source": []
  }
 ],
 "metadata": {
  "kernelspec": {
   "display_name": "p311",
   "language": "python",
   "name": "python3"
  },
  "language_info": {
   "codemirror_mode": {
    "name": "ipython",
    "version": 3
   },
   "file_extension": ".py",
   "mimetype": "text/x-python",
   "name": "python",
   "nbconvert_exporter": "python",
   "pygments_lexer": "ipython3",
   "version": "3.11.0"
  }
 },
 "nbformat": 4,
 "nbformat_minor": 2
}
