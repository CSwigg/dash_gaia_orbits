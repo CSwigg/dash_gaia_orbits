{
 "cells": [
  {
   "cell_type": "code",
   "execution_count": 42,
   "metadata": {},
   "outputs": [],
   "source": [
    "import numpy as np \n",
    "import pandas as pd\n",
    "import sys\n",
    "from astropy.io import fits\n",
    "import plotly.graph_objects as go\n",
    "sys.path.append('../../dash_gaia_orbits/')\n",
    "\n",
    "# Package imports\n",
    "from dash_gaia_orbits.dash_test import create_dash_app\n",
    "from dash_gaia_orbits import StarClusterData, StarClusterCollection, StarClusters3DPlotter\n",
    "\n",
    "column_renaming_dict = {'n_stars_hunt' : 'n_stars', 'U_new' : 'U', 'V_new' : 'V', 'W_new' : 'W', 'x_hunt_50' : 'x', 'y_hunt_50' : 'y', 'z_hunt_50' : 'z', 'U_err_new' : 'U_err', 'V_err_new' : 'V_err', 'W_err_new' : 'W_err'}"
   ]
  },
  {
   "cell_type": "code",
   "execution_count": 43,
   "metadata": {},
   "outputs": [],
   "source": [
    "df_hunt_gagne = pd.read_csv('/Users/cam/Downloads/cluster_sample_data.csv')\n",
    "df_hunt_gagne['name'] = df_hunt_gagne['name_both']\n",
    "df_hunt_gagne = df_hunt_gagne[['name', 'family', 'age_myr', 'U', 'V', 'W', 'x_helio', 'y_helio', 'z_helio', 'n_stars']]\n",
    "df_hunt_gagne = df_hunt_gagne.rename(columns={'x_helio' : 'x', 'y_helio' : 'y', 'z_helio' : 'z'})\n",
    "\n",
    "m6 = df_hunt_gagne[df_hunt_gagne['family'] == 'm6']\n",
    "cr135 = df_hunt_gagne[df_hunt_gagne['family'] == 'cr135']\n",
    "ap = df_hunt_gagne[df_hunt_gagne['family'] == 'alphaPer']\n",
    "gamma_vel = df_hunt_gagne[df_hunt_gagne['family'] == 'gamma_velorum']\n",
    "\n",
    "sun = pd.DataFrame({'name' : ['Sun'], 'family' : ['Sun'], 'age_myr' : [8000], 'U' : [0.], 'V' : [0.], 'W' : [0.], 'x' : [0.], 'y' : [0.], 'z' : [0.], 'n_stars' : [1]})\n"
   ]
  },
  {
   "cell_type": "code",
   "execution_count": 44,
   "metadata": {},
   "outputs": [],
   "source": [
    "clusters_data = StarClusterData(df_hunt_gagne, data_name = 'Parent cluster sample', min_size = 0, max_size = 7, color = 'gray', opacity = 0.6, marker_style = 'circle')\n",
    "ap_data = StarClusterData(ap, data_name = '⍺Per family', min_size = 0, max_size = 7, color = 'violet', opacity = 1., marker_style = 'circle')\n",
    "m6_data = StarClusterData(m6, data_name = 'M6 family', min_size = 0, max_size = 7, color = 'cyan', opacity = 1., marker_style = 'circle')\n",
    "cr135_data = StarClusterData(cr135, data_name = 'Cr135 family', min_size = 0, max_size = 7, color = 'orange', opacity = 1., marker_style = 'circle')\n",
    "sun_data = StarClusterData(sun, data_name = 'Sun', min_size = 0, max_size = 9, color = 'yellow', opacity = 1., marker_style = 'circle')\n",
    "sc = StarClusterCollection([clusters_data, cr135_data, m6_data, ap_data, sun_data])"
   ]
  },
  {
   "cell_type": "code",
   "execution_count": 45,
   "metadata": {},
   "outputs": [],
   "source": [
    "# time_int = np.round(np.arange(0., -60.5, -0.5), 1)\n",
    "# sc.integrate_all_orbits(time = time_int)\n",
    "# clusters_data.df_int"
   ]
  },
  {
   "cell_type": "code",
   "execution_count": 46,
   "metadata": {},
   "outputs": [
    {
     "name": "stderr",
     "output_type": "stream",
     "text": [
      "  0%|          | 0/272 [00:00<?, ?it/s]"
     ]
    },
    {
     "name": "stderr",
     "output_type": "stream",
     "text": [
      "                                                   \r"
     ]
    }
   ],
   "source": [
    "xyz_widths = (1300, 1300, 300)\n",
    "plot_3d = StarClusters3DPlotter(\n",
    "    data_collection = sc, \n",
    "    figure_title = 'Interactive Figure 1 (Swiggum et al. 2024)',\n",
    "    xyz_widths = xyz_widths, \n",
    "    figure_theme = 'dark', \n",
    "    trace_grouping_dict=None)\n",
    "\n",
    "\n",
    "save_name = '/Users/cam/Desktop/astro_research/radcliffe/cam_website_clone/cam_website/swiggum_2024_interactive/fig1_interactive.html'\n",
    "time_int = np.round(np.arange(0., -60.5, -0.5), 1)\n",
    "#time_int = np.round(np.arange(0., -20.1, -0.1), 1)\n",
    "\n",
    "fig3d_m6 = plot_3d.generate_3d_plot(\n",
    "    time = time_int,\n",
    "    show = False, \n",
    "    save_name =save_name, \n",
    "    static_traces = None, \n",
    "    static_traces_times = None, \n",
    "    static_traces_legendonly=False,\n",
    "    focus_group = None,\n",
    "    fade_in_time = 10, # Myr,\n",
    "    fade_in_and_out = False\n",
    ")"
   ]
  },
  {
   "cell_type": "code",
   "execution_count": 47,
   "metadata": {},
   "outputs": [],
   "source": [
    "clusters_data.df_int.to_csv('/Users/cam/Downloads/cluster_sample_data_integrated.csv', index = False)\n",
    "cr135_data.df_int.to_csv('/Users/cam/Downloads/cr135_integrated.csv', index = False)\n",
    "m6_data.df_int.to_csv('/Users/cam/Downloads/m6_integrated.csv', index = False)\n",
    "ap_data.df_int.to_csv('/Users/cam/Downloads/ap_integrated.csv', index = False)"
   ]
  },
  {
   "cell_type": "code",
   "execution_count": null,
   "metadata": {},
   "outputs": [],
   "source": []
  }
 ],
 "metadata": {
  "kernelspec": {
   "display_name": "p311",
   "language": "python",
   "name": "python3"
  },
  "language_info": {
   "codemirror_mode": {
    "name": "ipython",
    "version": 3
   },
   "file_extension": ".py",
   "mimetype": "text/x-python",
   "name": "python",
   "nbconvert_exporter": "python",
   "pygments_lexer": "ipython3",
   "version": "3.11.0"
  }
 },
 "nbformat": 4,
 "nbformat_minor": 2
}
