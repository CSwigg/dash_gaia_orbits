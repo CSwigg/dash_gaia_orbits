{
 "cells": [
  {
   "cell_type": "code",
   "execution_count": 62,
   "metadata": {},
   "outputs": [],
   "source": [
    "import numpy as np \n",
    "import pandas as pd\n",
    "import copy\n",
    "import sys\n",
    "from astropy.io import fits\n",
    "import plotly.graph_objects as go\n",
    "from astropy.coordinates import SkyCoord, GalacticLSR, Galactic\n",
    "import astropy.units as u\n",
    "sys.path.append('../../dash_gaia_orbits/')\n",
    "\n",
    "# Package imports\n",
    "from dash_gaia_orbits.dash_test import create_dash_app\n",
    "from dash_gaia_orbits import StarClusterData, StarClusterCollection, StarClusters3DPlotter\n",
    "\n",
    "column_renaming_dict = {'n_stars_hunt' : 'n_stars', 'U_new' : 'U', 'V_new' : 'V', 'W_new' : 'W', 'x_hunt_50' : 'x', 'y_hunt_50' : 'y', 'z_hunt_50' : 'z', 'U_err_new' : 'U_err', 'V_err_new' : 'V_err', 'W_err_new' : 'W_err'}"
   ]
  },
  {
   "cell_type": "code",
   "execution_count": 63,
   "metadata": {},
   "outputs": [],
   "source": [
    "# read in Annie's paths\n",
    "path_annie = '/Users/cam/Downloads/all_paths/'\n"
   ]
  },
  {
   "cell_type": "code",
   "execution_count": 64,
   "metadata": {},
   "outputs": [],
   "source": [
    "df_hunt_full = pd.read_csv('/Users/cam/Downloads/hunt_catalog_oct_13.csv')\n",
    "df_hunt_full = df_hunt_full.rename(columns={'n_stars_hunt' : 'n_stars', 'U_new' : 'U', 'V_new' : 'V', 'W_new' : 'W', 'x_hunt_50' : 'x', 'y_hunt_50' : 'y', 'z_hunt_50' : 'z', 'U_err_new' : 'U_err', 'V_err_new' : 'V_err', 'W_err_new' : 'W_err'})\n",
    "\n",
    "dfme = pd.read_csv('/Users/cam/Downloads/cluster_sample_data.csv')\n",
    "dfme = dfme.drop(columns=['x', 'y', 'z'])\n",
    "dfme = dfme[['name', 'family', 'age_myr', 'U', 'V', 'W', 'x_helio', 'y_helio', 'z_helio', 'n_stars', 'mass_50', 'n_sne_50']]\n",
    "dfme = dfme.rename(columns={'x_helio' : 'x', 'y_helio' : 'y', 'z_helio' : 'z'})"
   ]
  },
  {
   "cell_type": "code",
   "execution_count": 65,
   "metadata": {},
   "outputs": [],
   "source": [
    "dfgamma_ivs = dfme.loc[dfme['name'].isin(['Pozzo_1', 'CWNU_1083', 'CWNU_1096', 'OC_0470', 'OC_0479'])]\n",
    "dfgamma = dfme.loc[dfme['family'] == 'gamma_velorum']\n",
    "dfcr135 = dfme.loc[dfme['name'].isin(['Alessi_36', 'Collinder_135', 'Collinder_140', 'NGC_2451B', 'OCSN_82'])] \n",
    "dft10 = dfme.loc[dfme['name'].isin(['Trumpler_10'])]\n",
    "dfsun = pd.DataFrame({'name' : ['Sun'], 'age_myr' : [100000], 'U' : [0], 'V' : [0], 'W' : [0], 'x' : [0], 'y' : [0], 'z' : [0], 'n_stars' : [1]})\n",
    "\n",
    "dfcr135_full = dfme.loc[dfme['family'] == 'cr135']\n",
    "dfm6_full = dfme.loc[dfme['family'] == 'm6']"
   ]
  },
  {
   "cell_type": "code",
   "execution_count": 66,
   "metadata": {},
   "outputs": [],
   "source": [
    "# cr135_sc = SkyCoord(\n",
    "#     ra = dfcr135['ra'].values * u.deg,\n",
    "#     dec = dfcr135['dec'].values * u.deg,\n",
    "#     distance = dfcr135['distance_50'].values * u.pc,\n",
    "#     pm_ra_cosdec = dfcr135['pmra'].values * u.mas/u.yr,\n",
    "#     pm_dec = dfcr135['pmdec'].values * u.mas/u.yr,\n",
    "#     radial_velocity = dfcr135['radial_velocity'].values * u.km/u.s\n",
    "# )\n",
    "# cr135_sc = cr135_sc.transform_to(GalacticLSR)\n",
    "# cr135_sc.representation_type = 'cartesian'\n",
    "# cr135_sc.differential_type = 'cartesian'\n",
    "\n",
    "# uvw = cr135_sc.velocity.d_xyz.value\n",
    "# dfcr135[['U', 'V', 'W']] = uvw.T\n",
    "\n",
    "# dfcr135 = dfcr135[['name', 'family', 'age_myr', 'U', 'V', 'W', 'x', 'y', 'z', 'n_stars', 'mass_50']]\n",
    "# dfgamma = dfgamma[['name', 'family', 'age_myr', 'U', 'V', 'W', 'x', 'y', 'z', 'n_stars', 'mass_50']]\n",
    "# dft10 = dft10[['name', 'family', 'age_myr', 'U', 'V', 'W', 'x', 'y', 'z', 'n_stars', 'mass_50']]\n",
    "# dfsun = dfsun[['name', 'age_myr', 'U', 'V', 'W', 'x', 'y', 'z', 'n_stars']]\n",
    "# dfcr135_full = dfcr135_full[['name',  'age_myr', 'U', 'V', 'W', 'x', 'y', 'z', 'n_stars', 'mass_50']]\n",
    "# dfm6_full = dfm6_full[['name',  'age_myr', 'U', 'V', 'W', 'x', 'y', 'z', 'n_stars', 'mass_50']]"
   ]
  },
  {
   "cell_type": "code",
   "execution_count": 67,
   "metadata": {},
   "outputs": [
    {
     "data": {
      "text/plain": [
       "9.433106431411565"
      ]
     },
     "execution_count": 67,
     "metadata": {},
     "output_type": "execute_result"
    }
   ],
   "source": [
    "M_stars = dfgamma['mass_50'].sum()\n",
    "M_gas = (M_stars/.02)\n",
    "M_gas/1e4"
   ]
  },
  {
   "cell_type": "code",
   "execution_count": 68,
   "metadata": {},
   "outputs": [
    {
     "data": {
      "text/plain": [
       "15     0.0\n",
       "25     1.0\n",
       "41     0.0\n",
       "43     0.0\n",
       "62     1.0\n",
       "157    1.0\n",
       "158    0.0\n",
       "181    2.0\n",
       "Name: n_sne_50, dtype: float64"
      ]
     },
     "execution_count": 68,
     "metadata": {},
     "output_type": "execute_result"
    }
   ],
   "source": [
    "dfgamma['n_sne_50']"
   ]
  },
  {
   "cell_type": "code",
   "execution_count": 69,
   "metadata": {},
   "outputs": [
    {
     "data": {
      "text/plain": [
       "1886.6212862823131"
      ]
     },
     "execution_count": 69,
     "metadata": {},
     "output_type": "execute_result"
    }
   ],
   "source": [
    "M_stars"
   ]
  },
  {
   "cell_type": "code",
   "execution_count": 70,
   "metadata": {},
   "outputs": [],
   "source": [
    "cr135 = StarClusterData(dfcr135, data_name = 'Cr135 family (IVS)', min_size = 3, max_size = 12, color = 'orange', opacity = 1, marker_style = 'circle', show_tracks = True)\n",
    "gamma = StarClusterData(dfgamma, data_name = 'Gamma Vel family (IVS)', min_size = 3, max_size = 12, color = 'red', opacity = 1, marker_style = 'circle', show_tracks = True)\n",
    "gamma_ivs = StarClusterData(dfgamma_ivs, data_name = 'Gamma Vel family (IVS)', min_size = 3, max_size = 12, color = 'red', opacity = .5, marker_style = 'circle', show_tracks = True)\n",
    "t10 = StarClusterData(dft10, data_name = 'Trumpler 10', min_size = 3, max_size = 12, color = 'cyan', opacity = 1, marker_style = 'circle', show_tracks = True)\n",
    "cr135_full = StarClusterData(dfcr135_full, data_name = 'Cr135 family (full)', min_size = 3, max_size = 12, color = 'orange', opacity = .2, marker_style = 'circle', show_tracks = False)\n",
    "m6_full = StarClusterData(dfm6_full, data_name = 'M6 family (full)', min_size = 3, max_size = 12, color = 'cyan', opacity = .2, marker_style = 'circle', show_tracks = False)\n",
    "sun = StarClusterData(dfsun, data_name = 'Sun', min_size = 0, max_size = 7, color = 'yellow', opacity = 1, marker_style = 'circle', show_tracks = False)\n",
    "\n",
    "sc = StarClusterCollection([cr135, gamma, t10, cr135_full, m6_full, sun])"
   ]
  },
  {
   "cell_type": "code",
   "execution_count": 71,
   "metadata": {},
   "outputs": [],
   "source": [
    "time_int = np.round(np.arange(0., -30.5, -0.5),1)"
   ]
  },
  {
   "cell_type": "code",
   "execution_count": 72,
   "metadata": {},
   "outputs": [
    {
     "name": "stderr",
     "output_type": "stream",
     "text": [
      "                                     \r"
     ]
    }
   ],
   "source": [
    "sc_copy = StarClusterCollection([copy.deepcopy(cr135), copy.deepcopy(gamma), copy.deepcopy((t10))])\n",
    "sc_copy.integrate_all_orbits(time_int)\n",
    "dfcr135_int = sc_copy.get_all_clusters()[0].df_int\n",
    "dfgamma_int = sc_copy.get_all_clusters()[1].df_int\n",
    "dft10_int = sc_copy.get_all_clusters()[2].df_int"
   ]
  },
  {
   "cell_type": "code",
   "execution_count": 73,
   "metadata": {},
   "outputs": [],
   "source": [
    "# in LSR frame\n",
    "\n",
    "# Create traces\n",
    "static_traces = []\n",
    "static_trace_times = []\n",
    "\n",
    "\n",
    "time_show_ivs = np.round(np.arange(0., -4., -0.5), 1)\n",
    "\n",
    "ivs = pd.read_csv('/Users/cam/Downloads/npix128boundary_mean_sigma10.csv')\n",
    "ivs_out = pd.read_csv('/Users/cam/Downloads/npix128boundaryout_mean_sigma10.csv')\n",
    "ivs = pd.concat([ivs, ivs_out])\n",
    "ivs = ivs.sample(frac=.3)\n",
    "scatter_ivs = go.Scatter3d(\n",
    "    x = ivs['x[pc]'].values,\n",
    "    y = ivs['y[pc]'].values,\n",
    "    z = ivs['z[pc]'].values,\n",
    "    mode='markers',\n",
    "    marker=dict(size=.3,\n",
    "                color='cornflowerblue',\n",
    "                symbol='circle',\n",
    "                opacity=.2),\n",
    "    name='IVS (Annie)',\n",
    "    visible = True,\n",
    "    hovertext='IVS')\n",
    "static_traces.append(scatter_ivs)\n",
    "static_trace_times.append([0])\n",
    "\n",
    "\n",
    "scatter_cr135 = go.Scatter3d(\n",
    "    x=dfcr135_int['x'],\n",
    "    y=dfcr135_int['y'],\n",
    "    z=dfcr135_int['z'],\n",
    "    mode='markers',\n",
    "    name='Cr135 family trace',\n",
    "    marker=dict(\n",
    "        size=3.5*(1 - np.abs(dfcr135_int['time'])/np.abs(dfcr135_int['time']).max()),\n",
    "        color='orange',\n",
    "        line=dict(width=0),\n",
    "        opacity=0.4\n",
    "    )\n",
    ")\n",
    "\n",
    "scatter_gamma = go.Scatter3d(\n",
    "    x=dfgamma_int['x'],\n",
    "    y=dfgamma_int['y'],\n",
    "    z=dfgamma_int['z'],\n",
    "    mode='markers',\n",
    "    name='Gamma Vel family trace',\n",
    "    marker=dict(\n",
    "        size=3.5*(1 - np.abs(dfgamma_int['time'])/np.abs(dfgamma_int['time']).max()),\n",
    "        color='red',\n",
    "        line=dict(width=0),\n",
    "        opacity=0.4\n",
    "    )\n",
    ")\n",
    "\n",
    "scatter_t10 = go.Scatter3d(\n",
    "    x=dft10_int['x'],\n",
    "    y=dft10_int['y'],\n",
    "    z=dft10_int['z'],\n",
    "    mode='markers',\n",
    "    name='Trumpler 10 trace',\n",
    "    marker=dict(\n",
    "        size=3.5*(1 - np.abs(dft10_int['time'])/np.abs(dft10_int['time']).max()),\n",
    "        color='cyan',\n",
    "        line=dict(width=0),\n",
    "        opacity=0.4\n",
    "    )\n",
    ")\n",
    "\n",
    "\n",
    "# static_traces.append(scatter_cr135)\n",
    "# static_trace_times.append([0])\n",
    "\n",
    "# static_traces.append(scatter_gamma)\n",
    "# static_trace_times.append([0])\n",
    "\n",
    "# static_traces.append(scatter_t10)\n",
    "# static_trace_times.append([0])"
   ]
  },
  {
   "cell_type": "code",
   "execution_count": 74,
   "metadata": {},
   "outputs": [],
   "source": [
    "grouping_dict = {\n",
    "    'Clusters possibly related to IVS' : ['Gamma Vel family (IVS)', 'Cr135 family (IVS)', 'Trumpler 10', 'Sun'],\n",
    "    'All cluster families in IVS region' : ['Gamma Vel family (IVS)', 'Cr135 family (IVS)', 'Trumpler 10', 'IVS (Annie)', 'Cr135 family (full)', 'M6 family (full)', 'Sun']\n",
    "}"
   ]
  },
  {
   "cell_type": "code",
   "execution_count": 75,
   "metadata": {},
   "outputs": [],
   "source": [
    "# #xyz_widths = (500, 500, 300)\n",
    "# #xyz_ranges = ([-300, 300], [-800, -200], [-300, 300])\n",
    "# xyz_ranges = (\n",
    "#     [np.nanmedian(ivs['x[pc]']) - 451, np.nanmedian(ivs['x[pc]']) + 451],\n",
    "#     [np.nanmedian(ivs['y[pc]']) - 451, np.nanmedian(ivs['y[pc]']) + 451],\n",
    "#     [np.nanmedian(ivs['z[pc]']) - 150, np.nanmedian(ivs['z[pc]']) + 150]\n",
    "# )\n",
    "\n",
    "# plot_3d = StarClusters3DPlotter(\n",
    "#     data_collection = sc, \n",
    "#     #xyz_widths = xyz_widths, \n",
    "#     figure_title='Star Cluster Orbits in IVS Region (LSR Frame)',\n",
    "#     xyz_ranges=xyz_ranges,\n",
    "#     figure_theme = 'dark', \n",
    "#     trace_grouping_dict=grouping_dict)\n",
    "\n",
    "# #save_name = '/Users/cam/Downloads/ivs_clusters_movie_LSR_frame.html'\n",
    "# save_name = '/Users/cam/Desktop/astro_research/radcliffe/cam_website_clone/cam_website/ivs_plots/ivs_clusters_movie_LSR_frame.html'\n",
    "\n",
    "\n",
    "# fig3d = plot_3d.generate_3d_plot(\n",
    "#     time = time_int,\n",
    "#     show = False, \n",
    "#     save_name =save_name, \n",
    "#     static_traces = static_traces, \n",
    "#     static_traces_times = static_trace_times,\n",
    "#     static_traces_legendonly=False,\n",
    "#     #focus_group = 'Gamma Vel family (IVS)',\n",
    "#     focus_group = None,\n",
    "#     fade_in_time = 2, # Myr,\n",
    "#     show_gc_line=False,\n",
    "#     fade_in_and_out = False\n",
    "# )"
   ]
  },
  {
   "cell_type": "code",
   "execution_count": 76,
   "metadata": {},
   "outputs": [
    {
     "name": "stderr",
     "output_type": "stream",
     "text": [
      "                                      \r"
     ]
    }
   ],
   "source": [
    "xyz_widths = (450, 450, 150)\n",
    "\n",
    "plot_3d = StarClusters3DPlotter(\n",
    "    data_collection = sc, \n",
    "    figure_title='Star Cluster Orbits in IVS Region (Gamma Vel frame)',\n",
    "    xyz_widths = xyz_widths, \n",
    "    #xyz_ranges=xyz_ranges,\n",
    "    figure_theme = 'light', \n",
    "    trace_grouping_dict=grouping_dict)\n",
    "\n",
    "#save_name = '/Users/cam/Downloads/ivs_clusters_movie_gvel_frame.html'\n",
    "save_name = '/Users/cam/Desktop/astro_research/radcliffe/cam_website_clone/cam_website/ivs_plots/ivs_clusters_movie_gvel_frame.html'\n",
    "\n",
    "\n",
    "fig3d = plot_3d.generate_3d_plot(\n",
    "    time = time_int,\n",
    "    show = False, \n",
    "    save_name =save_name, \n",
    "    static_traces = static_traces, \n",
    "    static_traces_times = static_trace_times,\n",
    "    static_traces_legendonly=False,\n",
    "    focus_group = 'Gamma Vel family (IVS)',\n",
    "    #focus_group = None,\n",
    "    fade_in_time = 2, # Myr,\n",
    "    show_gc_line=False,\n",
    "    fade_in_and_out = False\n",
    ")"
   ]
  }
 ],
 "metadata": {
  "kernelspec": {
   "display_name": "p311",
   "language": "python",
   "name": "python3"
  },
  "language_info": {
   "codemirror_mode": {
    "name": "ipython",
    "version": 3
   },
   "file_extension": ".py",
   "mimetype": "text/x-python",
   "name": "python",
   "nbconvert_exporter": "python",
   "pygments_lexer": "ipython3",
   "version": "3.11.0"
  }
 },
 "nbformat": 4,
 "nbformat_minor": 2
}
