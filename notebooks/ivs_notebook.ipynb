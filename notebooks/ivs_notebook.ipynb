{
 "cells": [
  {
   "cell_type": "code",
   "execution_count": 23,
   "metadata": {},
   "outputs": [],
   "source": [
    "import numpy as np \n",
    "import pandas as pd\n",
    "import copy\n",
    "import sys\n",
    "from astropy.io import fits\n",
    "import plotly.graph_objects as go\n",
    "from astropy.coordinates import SkyCoord, GalacticLSR, Galactic\n",
    "import astropy.units as u\n",
    "sys.path.append('../../dash_gaia_orbits/')\n",
    "\n",
    "# Package imports\n",
    "from dash_gaia_orbits.dash_test import create_dash_app\n",
    "from dash_gaia_orbits import StarClusterData, StarClusterCollection, StarClusters3DPlotter\n",
    "\n",
    "column_renaming_dict = {'n_stars_hunt' : 'n_stars', 'U_new' : 'U', 'V_new' : 'V', 'W_new' : 'W', 'x_hunt_50' : 'x', 'y_hunt_50' : 'y', 'z_hunt_50' : 'z', 'U_err_new' : 'U_err', 'V_err_new' : 'V_err', 'W_err_new' : 'W_err'}"
   ]
  },
  {
   "cell_type": "code",
   "execution_count": 24,
   "metadata": {},
   "outputs": [],
   "source": [
    "df_hunt_full = pd.read_csv('/Users/cam/Downloads/hunt_catalog_oct_13.csv')\n",
    "df_hunt_full = df_hunt_full.rename(columns={'n_stars_hunt' : 'n_stars', 'U_new' : 'U', 'V_new' : 'V', 'W_new' : 'W', 'x_hunt_50' : 'x', 'y_hunt_50' : 'y', 'z_hunt_50' : 'z', 'U_err_new' : 'U_err', 'V_err_new' : 'V_err', 'W_err_new' : 'W_err'})\n",
    "\n",
    "dfme = pd.read_csv('/Users/cam/Downloads/cluster_sample_data.csv')\n",
    "dfme = dfme.drop(columns=['x', 'y', 'z'])\n",
    "dfme = dfme[['name', 'family', 'age_myr', 'U', 'V', 'W', 'x_helio', 'y_helio', 'z_helio', 'n_stars', 'mass_50', 'n_sne_50']]\n",
    "dfme = dfme.rename(columns={'x_helio' : 'x', 'y_helio' : 'y', 'z_helio' : 'z'})"
   ]
  },
  {
   "cell_type": "code",
   "execution_count": 25,
   "metadata": {},
   "outputs": [],
   "source": [
    "dfgamma_ivs = dfme.loc[dfme['name'].isin(['Pozzo_1', 'CWNU_1083', 'CWNU_1096', 'OC_0470', 'OC_0479'])]\n",
    "dfgamma = dfme.loc[dfme['family'] == 'gamma_velorum']\n",
    "dfcr135 = dfme.loc[dfme['name'].isin(['Alessi_36', 'Collinder_135', 'Collinder_140', 'NGC_2451B', 'OCSN_82'])] \n",
    "dft10 = dfme.loc[dfme['name'].isin(['Trumpler_10'])]\n",
    "dfsun = pd.DataFrame({'name' : ['Sun'], 'age_myr' : [100000], 'U' : [0], 'V' : [0], 'W' : [0], 'x' : [0], 'y' : [0], 'z' : [0], 'n_stars' : [1]})\n",
    "\n",
    "dfcr135_full = dfme.loc[dfme['family'] == 'cr135']\n",
    "dfm6_full = dfme.loc[dfme['family'] == 'm6']"
   ]
  },
  {
   "cell_type": "code",
   "execution_count": 26,
   "metadata": {},
   "outputs": [],
   "source": [
    "# cr135_sc = SkyCoord(\n",
    "#     ra = dfcr135['ra'].values * u.deg,\n",
    "#     dec = dfcr135['dec'].values * u.deg,\n",
    "#     distance = dfcr135['distance_50'].values * u.pc,\n",
    "#     pm_ra_cosdec = dfcr135['pmra'].values * u.mas/u.yr,\n",
    "#     pm_dec = dfcr135['pmdec'].values * u.mas/u.yr,\n",
    "#     radial_velocity = dfcr135['radial_velocity'].values * u.km/u.s\n",
    "# )\n",
    "# cr135_sc = cr135_sc.transform_to(GalacticLSR)\n",
    "# cr135_sc.representation_type = 'cartesian'\n",
    "# cr135_sc.differential_type = 'cartesian'\n",
    "\n",
    "# uvw = cr135_sc.velocity.d_xyz.value\n",
    "# dfcr135[['U', 'V', 'W']] = uvw.T\n",
    "\n",
    "# dfcr135 = dfcr135[['name', 'family', 'age_myr', 'U', 'V', 'W', 'x', 'y', 'z', 'n_stars', 'mass_50']]\n",
    "# dfgamma = dfgamma[['name', 'family', 'age_myr', 'U', 'V', 'W', 'x', 'y', 'z', 'n_stars', 'mass_50']]\n",
    "# dft10 = dft10[['name', 'family', 'age_myr', 'U', 'V', 'W', 'x', 'y', 'z', 'n_stars', 'mass_50']]\n",
    "# dfsun = dfsun[['name', 'age_myr', 'U', 'V', 'W', 'x', 'y', 'z', 'n_stars']]\n",
    "# dfcr135_full = dfcr135_full[['name',  'age_myr', 'U', 'V', 'W', 'x', 'y', 'z', 'n_stars', 'mass_50']]\n",
    "# dfm6_full = dfm6_full[['name',  'age_myr', 'U', 'V', 'W', 'x', 'y', 'z', 'n_stars', 'mass_50']]"
   ]
  },
  {
   "cell_type": "code",
   "execution_count": 27,
   "metadata": {},
   "outputs": [
    {
     "data": {
      "text/plain": [
       "9.433106431411565"
      ]
     },
     "execution_count": 27,
     "metadata": {},
     "output_type": "execute_result"
    }
   ],
   "source": [
    "M_stars = dfgamma['mass_50'].sum()\n",
    "M_gas = (M_stars/.02)\n",
    "M_gas/1e4"
   ]
  },
  {
   "cell_type": "code",
   "execution_count": 28,
   "metadata": {},
   "outputs": [],
   "source": [
    "cr135 = StarClusterData(dfcr135, data_name = 'Cr135 family (IVS)', min_size = 3, max_size = 12, color = 'orange', opacity = 1, marker_style = 'circle', show_tracks = True)\n",
    "# gamma = StarClusterData(dfgamma, data_name = 'Gamma Vel family (IVS)', min_size = 3, max_size = 12, color = 'red', opacity = 1, marker_style = 'circle', show_tracks = True)\n",
    "gamma_ivs = StarClusterData(dfgamma_ivs, data_name = 'Gamma Vel family (IVS)', min_size = 3, max_size = 12, color = 'red', opacity = .5, marker_style = 'circle', show_tracks = True)\n",
    "t10 = StarClusterData(dft10, data_name = 'Trumpler 10', min_size = 3, max_size = 12, color = 'cyan', opacity = 1, marker_style = 'circle', show_tracks = True)\n",
    "# cr135_full = StarClusterData(dfcr135_full, data_name = 'Cr135 family (full)', min_size = 3, max_size = 12, color = 'orange', opacity = .2, marker_style = 'circle', show_tracks = False)\n",
    "# m6_full = StarClusterData(dfm6_full, data_name = 'M6 family (full)', min_size = 3, max_size = 12, color = 'cyan', opacity = .2, marker_style = 'circle', show_tracks = False)\n",
    "# sun = StarClusterData(dfsun, data_name = 'Sun', min_size = 0, max_size = 7, color = 'yellow', opacity = 1, marker_style = 'circle', show_tracks = False)\n",
    "\n",
    "# sc = StarClusterCollection([cr135, gamma, t10, cr135_full, m6_full, sun])"
   ]
  },
  {
   "cell_type": "code",
   "execution_count": 29,
   "metadata": {},
   "outputs": [],
   "source": [
    "# read in Annie's paths\n",
    "#path_annie = '/Users/cam/Downloads/all_paths/'\n",
    "annie_data = pd.read_csv('/Users/cam/Downloads/all_cluster_info.csv')\n",
    "annie_data.rename(columns={'age[Myr]' : 'age_myr', 'x_helio[pc]' : 'x', 'y_helio[pc]' : 'y', 'z_helio[pc]' : 'z', 'U_helio[km/s]' : 'U', 'V_helio[km/s]' : 'V', 'W_helio[km/s]' : 'W', 'Name':'name'}, inplace=True)\n",
    "\n",
    "stars = annie_data.loc[annie_data['name'].isin(['zeta pup', 'Gamma2 Vel'])]\n",
    "#clusters = annie_data.loc[~annie_data['name'].isin(['zeta pup', 'Gamma2 Vel'])]\n",
    "\n",
    "# cr135_clusters = annie_data.loc[annie_data['name'].isin(['Alessi_36', 'Collinder_135', 'NGC_2451B', 'OC_0450'])]\n",
    "# gamma_vel_clusters = annie_data.loc[annie_data['name'].isin(['CWNU_1083', 'CWNU_1096', 'OC_0470', 'OC_0479', 'Pozzo_1'])]\n",
    "# t10_cluster = annie_data.loc[annie_data['name'].isin(['Trumpler_10'])]\n",
    "cr135_clusters = dfme.loc[dfme['name'].isin(['Alessi_36', 'Collinder_135', 'Collinder_140', 'NGC_2451B', 'OC_0450', 'OCSN_82'])]\n",
    "gamma_vel_clusters = dfme.loc[dfme['name'].isin(['CWNU_1083', 'CWNU_1096', 'OC_0470', 'OC_0479', 'Pozzo_1'])]\n",
    "t10_cluster = dfme.loc[dfme['name'].isin(['Trumpler_10'])]\n",
    "\n",
    "\n",
    "stars = StarClusterData(stars, data_name = 'Stars', min_size = 3, max_size = 12, color = 'forestgreen', opacity = 1, marker_style = 'circle', show_tracks = True)\n",
    "cr135 = StarClusterData(cr135_clusters, data_name = 'Cr135 family', min_size = 3, max_size = 12, color = 'purple', opacity = 1, marker_style = 'circle', show_tracks = True)\n",
    "gamma_vel = StarClusterData(gamma_vel_clusters, data_name = 'Gamma Vel family', min_size = 3, max_size = 12, color = 'crimson', opacity = 1, marker_style = 'circle', show_tracks = True)\n",
    "t10 = StarClusterData(t10_cluster, data_name = 'Trumpler 10', min_size = 3, max_size = 12, color = 'darkcyan', opacity = 1, marker_style = 'circle', show_tracks = True)\n",
    "sc = StarClusterCollection([cr135, gamma_vel, t10, stars])"
   ]
  },
  {
   "cell_type": "code",
   "execution_count": 30,
   "metadata": {},
   "outputs": [],
   "source": [
    "# in LSR frame\n",
    "\n",
    "# Create traces\n",
    "static_traces = []\n",
    "static_trace_times = []\n",
    "\n",
    "\n",
    "time_show_ivs = np.round(np.arange(0., -4., -0.5), 1)\n",
    "\n",
    "ivs = pd.read_csv('/Users/cam/Downloads/npix128boundary_mean_sigma10.csv')\n",
    "ivs = pd.read_csv('/Users/cam/Downloads/peaks_meanmap_xyz.csv')\n",
    "#ivs_out = pd.read_csv('/Users/cam/Downloads/npix128boundaryout_mean_sigma10.csv')\n",
    "#ivs = pd.concat([ivs, ivs_out])\n",
    "ivs = ivs.sample(frac=.7)\n",
    "scatter_ivs = go.Scatter3d(\n",
    "    x = ivs['x[pc]'].values,\n",
    "    y = ivs['y[pc]'].values,\n",
    "    z = ivs['z[pc]'].values,\n",
    "    mode='markers',\n",
    "    marker=dict(size=.3,\n",
    "                color='dodgerblue',\n",
    "                symbol='circle',\n",
    "                opacity=.3),\n",
    "    name='IVS',\n",
    "    visible = True,\n",
    "    hoverinfo='skip'\n",
    "    )\n",
    "static_traces.append(scatter_ivs)\n",
    "static_trace_times.append([0])\n",
    "\n",
    "\n",
    "scatter_sun_dir = go.Scatter3d(\n",
    "    x = [-44, 0],\n",
    "    y = [-242, 0],\n",
    "    z = [-47, 0],\n",
    "    mode='lines',\n",
    "    line=dict(color='yellow', width=10),\n",
    "    name='Sun direction',\n",
    "    visible = 'legendonly',\n",
    "    hoverinfo='skip'\n",
    "    )\n",
    "static_traces.append(scatter_sun_dir)\n",
    "static_trace_times.append([0])\n",
    "\n",
    "# annotate_sun_dir = go.Scatter3d(\n",
    "#     x = [-40],\n",
    "#     y = [-242],\n",
    "#     z = [-20],\n",
    "#     mode='text',\n",
    "#     text=['Towards Sun'],\n",
    "#     #textposition='top center',\n",
    "#     textfont=dict(size=12, color='black'),\n",
    "#     name='Sun direction',\n",
    "#     visible = True,\n",
    "#     hovertext='Sun direction',\n",
    "#     hoverinfo='skip'\n",
    "#     )\n",
    "# static_traces.append(annotate_sun_dir)\n",
    "# static_trace_times.append([0])\n"
   ]
  },
  {
   "cell_type": "code",
   "execution_count": 31,
   "metadata": {},
   "outputs": [],
   "source": [
    "time_int = np.round(np.arange(0., -30.5, -0.5),1)"
   ]
  },
  {
   "cell_type": "code",
   "execution_count": 32,
   "metadata": {},
   "outputs": [],
   "source": [
    "# #xyz_widths = (500, 500, 300)\n",
    "# #xyz_ranges = ([-300, 300], [-800, -200], [-300, 300])\n",
    "# xyz_ranges = (\n",
    "#     [np.nanmedian(ivs['x[pc]']) - 201, np.nanmedian(ivs['x[pc]']) + 201],\n",
    "#     [np.nanmedian(ivs['y[pc]']) - 201, np.nanmedian(ivs['y[pc]']) + 201],\n",
    "#     [np.nanmedian(ivs['z[pc]']) - 150, np.nanmedian(ivs['z[pc]']) + 150]\n",
    "# )\n",
    "\n",
    "# plot_3d = StarClusters3DPlotter(\n",
    "#     data_collection = sc, \n",
    "#     #xyz_widths = xyz_widths, \n",
    "#     figure_title='Interactive Figure 8 from Gao et al. (2024)',\n",
    "#     xyz_ranges=xyz_ranges,\n",
    "#     figure_theme = 'light', \n",
    "#     #trace_grouping_dict=grouping_dict\n",
    "#     trace_grouping_dict=None\n",
    "#     )\n",
    "\n",
    "# #save_name = '/Users/cam/Downloads/ivs_clusters_movie_LSR_frame.html'\n",
    "# save_name = '/Users/cam/Desktop/astro_research/radcliffe/cam_website_clone/cam_website/ivs_plots/ivs_clusters_movie_LSR_frame.html'\n",
    "\n",
    "\n",
    "# fig3d = plot_3d.generate_3d_plot(\n",
    "#     time = time_int,\n",
    "#     show = False, \n",
    "#     save_name =save_name, \n",
    "#     static_traces = static_traces, \n",
    "#     static_traces_times = static_trace_times,\n",
    "#     static_traces_legendonly=False,\n",
    "#     #focus_group = 'Gamma Vel family (IVS)',\n",
    "#     focus_group = None,\n",
    "#     fade_in_time = 0, # Myr,\n",
    "#     show_gc_line=False,\n",
    "#     fade_in_and_out = False\n",
    "# )"
   ]
  },
  {
   "cell_type": "code",
   "execution_count": 33,
   "metadata": {},
   "outputs": [
    {
     "name": "stderr",
     "output_type": "stream",
     "text": [
      "                                     \r"
     ]
    }
   ],
   "source": [
    "xyz_widths = (201, 201, 151)\n",
    "\n",
    "plot_3d = StarClusters3DPlotter(\n",
    "    data_collection = sc, \n",
    "    figure_title='Interactive Figure 8 from Gao et al. (2024) - Gamma Vel frame',\n",
    "    xyz_widths = xyz_widths, \n",
    "    #xyz_ranges=xyz_ranges,\n",
    "    figure_theme = 'light', \n",
    "    trace_grouping_dict=None)\n",
    "\n",
    "#save_name = '/Users/cam/Downloads/ivs_clusters_movie_gvel_frame.html'\n",
    "save_name = '/Users/cam/Desktop/astro_research/radcliffe/cam_website_clone/cam_website/ivs_plots/ivs_clusters_movie_gvel_frame_updated.html'\n",
    "\n",
    "\n",
    "fig3d = plot_3d.generate_3d_plot(\n",
    "    time = time_int,\n",
    "    show = False, \n",
    "    save_name =save_name, \n",
    "    static_traces = static_traces, \n",
    "    static_traces_times = static_trace_times,\n",
    "    static_traces_legendonly=False,\n",
    "    focus_group = 'Gamma Vel family',\n",
    "    #focus_group = None,\n",
    "    fade_in_time = 0, # Myr,\n",
    "    show_gc_line=False,\n",
    "    fade_in_and_out = False\n",
    ")"
   ]
  },
  {
   "cell_type": "code",
   "execution_count": null,
   "metadata": {},
   "outputs": [],
   "source": []
  }
 ],
 "metadata": {
  "kernelspec": {
   "display_name": "p311",
   "language": "python",
   "name": "python3"
  },
  "language_info": {
   "codemirror_mode": {
    "name": "ipython",
    "version": 3
   },
   "file_extension": ".py",
   "mimetype": "text/x-python",
   "name": "python",
   "nbconvert_exporter": "python",
   "pygments_lexer": "ipython3",
   "version": "3.11.0"
  }
 },
 "nbformat": 4,
 "nbformat_minor": 2
}
