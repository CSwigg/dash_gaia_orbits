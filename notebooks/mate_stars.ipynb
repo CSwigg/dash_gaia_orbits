{
 "cells": [
  {
   "cell_type": "code",
   "execution_count": 21,
   "metadata": {},
   "outputs": [],
   "source": [
    "import numpy as np \n",
    "import pandas as pd\n",
    "import sys\n",
    "from astropy.io import fits\n",
    "import plotly.graph_objects as go\n",
    "sys.path.append('../../dash_gaia_orbits/')\n",
    "\n",
    "# Package imports\n",
    "from dash_gaia_orbits.dash_test import create_dash_app\n",
    "from dash_gaia_orbits import StarClusterData, StarClusterCollection, StarClusters3DPlotter\n",
    "\n",
    "column_renaming_dict = {'n_stars_hunt' : 'n_stars', 'U_new' : 'U', 'V_new' : 'V', 'W_new' : 'W', 'x_hunt_50' : 'x', 'y_hunt_50' : 'y', 'z_hunt_50' : 'z', 'U_err_new' : 'U_err', 'V_err_new' : 'V_err', 'W_err_new' : 'W_err'}"
   ]
  },
  {
   "cell_type": "code",
   "execution_count": 22,
   "metadata": {},
   "outputs": [],
   "source": [
    "static_traces = []\n",
    "static_traces_times = []\n",
    "\n",
    "\n",
    "# read in Gordian scatter map\n",
    "dfv = pd.read_csv('/Users/cam/Downloads/edenhofer_dust_scatter_new.csv')\n",
    "#dfv = dfv.loc[dfv['extinction'].between(0.0003, 1)]\n",
    "dfv = dfv.loc[dfv['extinction'].between(0.0007, 1)]\n",
    "ds_index = 2\n",
    "scatter_edenhofer = go.Scatter3d(\n",
    "    x=dfv['X'].values[::ds_index],\n",
    "    y=dfv['Y'].values[::ds_index],\n",
    "    z=dfv['Z'].values[::ds_index],\n",
    "    mode='markers',\n",
    "    marker=dict(size=5.,\n",
    "                color='gray',\n",
    "                # color=dfv['extinction'].values[::ds_index],\n",
    "                # colorscale='Gray_r',\n",
    "                cmin = 0.0007,\n",
    "                cmax = 0.005,\n",
    "                symbol='circle',\n",
    "                opacity=.01),\n",
    "    line = dict(color = 'gray', width = 0.),\n",
    "    name='Edenhofer Dust',\n",
    "    visible = True,\n",
    "    hovertext='Edenhofer Dust',\n",
    "    hoverinfo='skip'\n",
    "    )\n",
    "static_traces.append(scatter_edenhofer)\n",
    "static_traces_times.append([0.]) # only show at t=0\n",
    "\n",
    "\n",
    "# read in leike map\n",
    "\n",
    "\n",
    "\n",
    "\n",
    "\n",
    "\n",
    "hdu = fits.open('/Users/cam/Downloads/Local_Bubble_Pelgrims2020.fits')\n",
    "x = hdu[1].data['x'][::4]\n",
    "y = hdu[1].data['y'][::4]\n",
    "z = hdu[1].data['z'][::4]\n",
    "\n",
    "scatter_lb = go.Scatter3d(\n",
    "    x=x,\n",
    "    y=y,\n",
    "    z=z,\n",
    "    mode='markers',\n",
    "    marker=dict(size=1,\n",
    "                color='#6495ED',\n",
    "                symbol='circle',\n",
    "                opacity=.05),\n",
    "    name='Local Bubble',\n",
    "    visible = 'legendonly',\n",
    "    hovertext='Local Bubble')\n",
    "static_traces.append(scatter_lb)\n",
    "static_traces_times.append([0.]) # only show at t=0"
   ]
  },
  {
   "cell_type": "code",
   "execution_count": 23,
   "metadata": {},
   "outputs": [],
   "source": [
    "df = pd.read_csv('/Users/cam/Downloads/lacerta_members_3dvelocities_new.csv')\n",
    "df_med = df.groupby('label').median().reset_index()\n",
    "#df_med['age_myr'] = 10**df_med['age_myr']/1e6\n",
    "df_med = df_med.rename(columns={'x_helioc' : 'x', 'y_helioc' : 'y', 'z_helioc' : 'z', 'u_hel' : 'U', 'v_hel' : 'V', 'w_hel' : 'W', 'label' : 'name'})\n",
    "df_med = df_med.drop(columns=['source_id'])\n",
    "#df_med = df_med.loc[df_med['name'] != 4]\n"
   ]
  },
  {
   "cell_type": "code",
   "execution_count": 24,
   "metadata": {},
   "outputs": [],
   "source": [
    "df_hunt_gagne = pd.read_csv('/Users/cam/Downloads/cluster_sample_data.csv')\n",
    "df_hunt_gagne = df_hunt_gagne[['name', 'family', 'age_myr', 'U', 'V', 'W', 'x_helio', 'y_helio', 'z_helio', 'n_stars']]\n",
    "df_hunt_gagne = df_hunt_gagne.rename(columns={'x_helio' : 'x', 'y_helio' : 'y', 'z_helio' : 'z'})\n",
    "\n",
    "sun = pd.DataFrame({'name' : ['Sun'], 'x' : [0], 'y' : [0], 'z' : [0], 'U' : [0], 'V' : [0], 'W' : [0], 'age_myr' : [4600], 'n_stars' : [1]})"
   ]
  },
  {
   "cell_type": "code",
   "execution_count": 25,
   "metadata": {},
   "outputs": [],
   "source": [
    "lacerta = StarClusterData(df_med, data_name = 'Lacerta clusters', min_size=0, max_size = 10, color = 'violet')\n",
    "clusters = StarClusterData(df_hunt_gagne, data_name = 'Hunt & Gagne clusters', min_size=0, max_size = 5, color = 'gray', opacity = 1.)\n",
    "sun_data = StarClusterData(sun, data_name = 'Sun', min_size = 0, max_size = 7, color = 'yellow', opacity = 1., marker_style = 'circle')\n",
    "sc = StarClusterCollection([lacerta, clusters, sun_data])"
   ]
  },
  {
   "cell_type": "code",
   "execution_count": 26,
   "metadata": {},
   "outputs": [
    {
     "name": "stderr",
     "output_type": "stream",
     "text": [
      "                                                   \r"
     ]
    }
   ],
   "source": [
    "xyz_widths = (400, 400, 300)\n",
    "plot_3d = StarClusters3DPlotter(\n",
    "    data_collection = sc, \n",
    "    xyz_widths = xyz_widths, \n",
    "    figure_theme = 'dark', \n",
    "    trace_grouping_dict=None)\n",
    "\n",
    "\n",
    "save_name = '/Users/cam/Downloads/lacerta_mate_zoom.html'\n",
    "#save_name = '/Users/cam/Downloads/gamma_vel_movie.html'\n",
    "time_int = np.round(np.arange(0., -40.5, -0.5), 1)\n",
    "#time_int = np.round(np.arange(0., -20.1, -0.1), 1)\n",
    "scatter_edenhofer['marker']['color'] = 'gray'\n",
    "scatter_edenhofer['marker']['size'] = 15\n",
    "scatter_edenhofer['marker']['opacity'] = 0.02\n",
    "\n",
    "fig3d_m6 = plot_3d.generate_3d_plot(\n",
    "    time = time_int,\n",
    "    show = False, \n",
    "    save_name =save_name, \n",
    "    static_traces = static_traces, \n",
    "    static_traces_times = static_traces_times, \n",
    "    static_traces_legendonly=False,\n",
    "    focus_group = 'Lacerta clusters',\n",
    "    fade_in_time = 10, # Myr,\n",
    "    fade_in_and_out = False\n",
    ")"
   ]
  },
  {
   "cell_type": "code",
   "execution_count": 27,
   "metadata": {},
   "outputs": [],
   "source": [
    "# xyz_widths = (1300, 1300, 300)\n",
    "# plot_3d = StarClusters3DPlotter(\n",
    "#     data_collection = sc, \n",
    "#     xyz_widths = xyz_widths, \n",
    "#     figure_theme = 'dark', \n",
    "#     trace_grouping_dict=None)\n",
    "\n",
    "\n",
    "# save_name = '/Users/cam/Downloads/lacerta_mate.html'\n",
    "# #save_name = '/Users/cam/Downloads/gamma_vel_movie.html'\n",
    "# time_int = np.round(np.arange(0., -40.5, -0.5), 1)\n",
    "# #time_int = np.round(np.arange(0., -20.1, -0.1), 1)\n",
    "# scatter_edenhofer['marker']['color'] = 'white'\n",
    "# scatter_edenhofer['marker']['opacity'] = 0.004\n",
    "\n",
    "# fig3d_m6 = plot_3d.generate_3d_plot(\n",
    "#     time = time_int,\n",
    "#     show = False, \n",
    "#     save_name =save_name, \n",
    "#     static_traces = static_traces, \n",
    "#     static_traces_times = static_traces_times, \n",
    "#     static_traces_legendonly=False,\n",
    "#     focus_group = None,\n",
    "#     fade_in_time = 10, # Myr,\n",
    "#     fade_in_and_out = False\n",
    "# )"
   ]
  },
  {
   "cell_type": "code",
   "execution_count": null,
   "metadata": {},
   "outputs": [],
   "source": []
  },
  {
   "cell_type": "code",
   "execution_count": null,
   "metadata": {},
   "outputs": [],
   "source": []
  }
 ],
 "metadata": {
  "kernelspec": {
   "display_name": "p311",
   "language": "python",
   "name": "python3"
  },
  "language_info": {
   "codemirror_mode": {
    "name": "ipython",
    "version": 3
   },
   "file_extension": ".py",
   "mimetype": "text/x-python",
   "name": "python",
   "nbconvert_exporter": "python",
   "pygments_lexer": "ipython3",
   "version": "3.11.0"
  }
 },
 "nbformat": 4,
 "nbformat_minor": 2
}
