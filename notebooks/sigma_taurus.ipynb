{
 "cells": [
  {
   "cell_type": "code",
   "execution_count": 1,
   "metadata": {},
   "outputs": [
    {
     "name": "stdout",
     "output_type": "stream",
     "text": [
      "\u001b[91mA new version of galpy (1.10.1) is available, please upgrade using pip/conda/... to get the latest features and bug fixes!\u001b[0m\n"
     ]
    }
   ],
   "source": [
    "import numpy as np \n",
    "import pandas as pd\n",
    "import sys\n",
    "from astropy.io import fits\n",
    "from astropy.coordinates import SkyCoord\n",
    "from astropy import units as u\n",
    "import plotly.graph_objects as go\n",
    "sys.path.append('../../dash_gaia_orbits/')\n",
    "\n",
    "from dash_gaia_orbits.dash_test import create_dash_app\n",
    "from dash_gaia_orbits import StarClusterData, StarClusterCollection, StarClusters3DPlotter"
   ]
  },
  {
   "cell_type": "code",
   "execution_count": 2,
   "metadata": {},
   "outputs": [],
   "source": [
    "df = pd.read_csv('/Users/cam/Downloads/taurus_core_sigma_final_age.csv')\n",
    "a = df[['X', 'Y', 'Z', 'U', 'V', 'W', 'labels', 'age_myr']]\n",
    "a = a.rename(columns={'X' : 'x', 'Y' : 'y', 'Z' : 'z', 'labels' : 'name'})\n",
    "# for k in df.keys():\n",
    "#     print(k)"
   ]
  },
  {
   "cell_type": "code",
   "execution_count": 3,
   "metadata": {},
   "outputs": [],
   "source": [
    "# spica\n",
    "ra = 201.2983\n",
    "dec = -11.1612\n",
    "pmra = -41.58\n",
    "pmdec = -30.35\n",
    "parallax = 12.50\n",
    "\n",
    "i = SkyCoord(\n",
    "    ra = ra*u.deg,\n",
    "    dec = dec*u.deg,\n",
    "    distance = (1000/parallax)*u.pc,\n",
    "    pm_ra_cosdec = pmra*(u.mas/u.yr),\n",
    "    pm_dec = pmdec*(u.mas/u.yr),\n",
    "    radial_velocity = -0.5*u.km/u.s,\n",
    "    frame = 'icrs'\n",
    ")\n",
    "g = i.transform_to('galactic')\n",
    "g.representation_type = 'cartesian'\n",
    "g.differential_type = 'cartesian'\n",
    "spica = pd.DataFrame({\n",
    "    'x' : [g.u.value],\n",
    "    'y' : [g.v.value],\n",
    "    'z' : [g.w.value],\n",
    "    'U' : [g.U.value],\n",
    "    'V' : [g.V.value],\n",
    "    'W' : [g.W.value],\n",
    "    'name' : 'spica',\n",
    "    'age_myr' : 1000\n",
    "})"
   ]
  },
  {
   "cell_type": "code",
   "execution_count": 4,
   "metadata": {},
   "outputs": [],
   "source": [
    "# spica\n",
    "ra = 201.2983\n",
    "dec = -11.1612\n",
    "pmra = -41.58\n",
    "pmdec = -30.35\n",
    "parallax = 12.50\n",
    "\n",
    "i = SkyCoord(\n",
    "    ra = ra*u.deg,\n",
    "    dec = dec*u.deg,\n",
    "    distance = (1000/parallax)*u.pc,\n",
    "    pm_ra_cosdec = pmra*(u.mas/u.yr),\n",
    "    pm_dec = pmdec*(u.mas/u.yr),\n",
    "    radial_velocity = -3*u.km/u.s,\n",
    "    frame = 'icrs'\n",
    ")\n",
    "g = i.transform_to('galactic')\n",
    "g.representation_type = 'cartesian'\n",
    "g.differential_type = 'cartesian'\n",
    "spica2 = pd.DataFrame({\n",
    "    'x' : [g.u.value],\n",
    "    'y' : [g.v.value],\n",
    "    'z' : [g.w.value],\n",
    "    'U' : [g.U.value],\n",
    "    'V' : [g.V.value],\n",
    "    'W' : [g.W.value],\n",
    "    'name' : 'spica',\n",
    "    'age_myr' : 1000\n",
    "})"
   ]
  },
  {
   "cell_type": "code",
   "execution_count": 5,
   "metadata": {},
   "outputs": [],
   "source": [
    "# spica\n",
    "ra = 201.2983\n",
    "dec = -11.1612\n",
    "pmra = -41.58\n",
    "pmdec = -30.35\n",
    "parallax = 12.50\n",
    "\n",
    "i = SkyCoord(\n",
    "    ra = ra*u.deg,\n",
    "    dec = dec*u.deg,\n",
    "    distance = (1000/parallax)*u.pc,\n",
    "    pm_ra_cosdec = pmra*(u.mas/u.yr),\n",
    "    pm_dec = pmdec*(u.mas/u.yr),\n",
    "    radial_velocity = 2*u.km/u.s,\n",
    "    frame = 'icrs'\n",
    ")\n",
    "g = i.transform_to('galactic')\n",
    "g.representation_type = 'cartesian'\n",
    "g.differential_type = 'cartesian'\n",
    "spica3 = pd.DataFrame({\n",
    "    'x' : [g.u.value],\n",
    "    'y' : [g.v.value],\n",
    "    'z' : [g.w.value],\n",
    "    'U' : [g.U.value],\n",
    "    'V' : [g.V.value],\n",
    "    'W' : [g.W.value],\n",
    "    'name' : 'spica',\n",
    "    'age_myr' : 1000\n",
    "})"
   ]
  },
  {
   "cell_type": "code",
   "execution_count": 6,
   "metadata": {},
   "outputs": [],
   "source": [
    "taurus = a.groupby('name').median().reset_index()\n",
    "taurus['U_err'] = a.groupby('name')['U'].std() / np.sqrt(a.groupby('name')['U'].count())\n",
    "taurus['V_err'] = a.groupby('name')['V'].std() / np.sqrt(a.groupby('name')['V'].count())\n",
    "taurus['W_err'] = a.groupby('name')['W'].std() / np.sqrt(a.groupby('name')['W'].count())"
   ]
  },
  {
   "cell_type": "code",
   "execution_count": 7,
   "metadata": {},
   "outputs": [],
   "source": [
    "df_hunt_gagne = pd.read_csv('/Users/cam/Downloads/cluster_sample_data.csv')\n",
    "df_hunt_gagne = df_hunt_gagne[['name', 'family', 'age_myr', 'U', 'V', 'W', 'x_helio', 'y_helio', 'z_helio', 'n_stars']]\n",
    "df_hunt_gagne = df_hunt_gagne.rename(columns={'x_helio' : 'x', 'y_helio' : 'y', 'z_helio' : 'z'})\n",
    "ap = df_hunt_gagne.loc[df_hunt_gagne['family'] == 'alphaPer']\n",
    "ap = ap.loc[ap['age_myr'] < 15]\n",
    "m6 = df_hunt_gagne.loc[df_hunt_gagne['family'] == 'm6']\n",
    "cr135 = df_hunt_gagne.loc[df_hunt_gagne['family'] == 'cr135']"
   ]
  },
  {
   "cell_type": "code",
   "execution_count": 8,
   "metadata": {},
   "outputs": [
    {
     "name": "stderr",
     "output_type": "stream",
     "text": [
      "                                                   \r"
     ]
    }
   ],
   "source": [
    "taurus_data = StarClusterData(taurus, data_name = 'Taurus', min_size = 0, max_size = 12, color = 'white', opacity = 1., marker_style = 'circle')\n",
    "ap_data = StarClusterData(ap, data_name = 'Alpha Persei family', min_size = 2, max_size = 9, color = 'violet', opacity = .5, marker_style = 'circle')\n",
    "m6_data = StarClusterData(m6, data_name = 'M6 family', min_size = 0, max_size = 9, color = 'cyan', opacity = .5, marker_style = 'circle')\n",
    "cr135_data = StarClusterData(cr135, data_name = 'Cr135 family', min_size = 0, max_size = 9, color = 'orange', opacity = .5, marker_style = 'circle')\n",
    "full_data = StarClusterData(df_hunt_gagne, data_name = 'All clusters (Swiggum+24)', min_size = 0, max_size = 9, color = 'grey', opacity = .5, marker_style = 'circle')\n",
    "spica_data = StarClusterData(spica, data_name = 'Spica', min_size = 0, max_size = 15, color = 'turquoise', opacity = 1, marker_style = 'circle')\n",
    "spica2_data = StarClusterData(spica2, data_name = 'Spica 2', min_size = 0, max_size = 15, color = 'blue', opacity = 1, marker_style = 'circle')\n",
    "spica3_data = StarClusterData(spica3, data_name = 'Spica 3', min_size = 0, max_size = 15, color = 'blue', opacity = 1, marker_style = 'circle')\n",
    "\n",
    "sc = StarClusterCollection([full_data, spica_data, ap_data])\n",
    "\n",
    "plot_3d = StarClusters3DPlotter(\n",
    "    data_collection = sc, \n",
    "    xyz_widths = (1000, 1000, 400), \n",
    "    figure_theme = 'dark', \n",
    "    trace_grouping_dict=None)\n",
    "\n",
    "save_name = '/Users/cam/Downloads/spica.html'\n",
    "time_int = np.round(np.arange(0., -60, -1), 1)\n",
    "\n",
    "fig3d = plot_3d.generate_3d_plot(\n",
    "    time = time_int,\n",
    "    show = False, \n",
    "    save_name =save_name, \n",
    "    static_traces = None, \n",
    "    static_traces_times = None, \n",
    "    static_traces_legendonly=True,\n",
    "    focus_group = None,\n",
    "    fade_in_time = 5, # Myr,\n",
    "    fade_in_and_out = False,\n",
    "    show_gc_line = True\n",
    ")"
   ]
  },
  {
   "cell_type": "code",
   "execution_count": null,
   "metadata": {},
   "outputs": [],
   "source": []
  }
 ],
 "metadata": {
  "kernelspec": {
   "display_name": "p311",
   "language": "python",
   "name": "python3"
  },
  "language_info": {
   "codemirror_mode": {
    "name": "ipython",
    "version": 3
   },
   "file_extension": ".py",
   "mimetype": "text/x-python",
   "name": "python",
   "nbconvert_exporter": "python",
   "pygments_lexer": "ipython3",
   "version": "3.11.0"
  }
 },
 "nbformat": 4,
 "nbformat_minor": 2
}
