{
 "cells": [
  {
   "cell_type": "code",
   "execution_count": 1,
   "metadata": {},
   "outputs": [
    {
     "name": "stdout",
     "output_type": "stream",
     "text": [
      "\u001b[91mA new version of galpy (1.9.2) is available, please upgrade using pip/conda/... to get the latest features and bug fixes!\u001b[0m\n"
     ]
    }
   ],
   "source": [
    "import numpy as np \n",
    "import pandas as pd\n",
    "from astropy.io import fits\n",
    "import sys\n",
    "import plotly.graph_objects as go\n",
    "sys.path.append('../../dash_gaia_orbits/')\n",
    "\n",
    "# Package imports\n",
    "from dash_gaia_orbits import StarClusterData, StarClusterCollection, StarClusters3DPlotter"
   ]
  },
  {
   "cell_type": "code",
   "execution_count": null,
   "metadata": {},
   "outputs": [],
   "source": [
    "static_traces = []\n",
    "static_traces_times = []\n",
    "\n",
    "\n",
    "# read in Gordian scatter map\n",
    "dfv = pd.read_csv('/Users/cam/Downloads/edenhofer_dust_scatter_new.csv')\n",
    "#dfv = dfv.loc[dfv['extinction'].between(0.0003, 1)]\n",
    "dfv = dfv.loc[dfv['extinction'].between(0.0007, 1)]\n",
    "ds_index = 2\n",
    "scatter_edenhofer = go.Scatter3d(\n",
    "    x=dfv['X'].values[::ds_index],\n",
    "    y=dfv['Y'].values[::ds_index],\n",
    "    z=dfv['Z'].values[::ds_index],\n",
    "    mode='markers',\n",
    "    marker=dict(size=5.,\n",
    "                color='gray',\n",
    "                # color=dfv['extinction'].values[::ds_index],\n",
    "                # colorscale='Gray_r',\n",
    "                cmin = 0.0007,\n",
    "                cmax = 0.005,\n",
    "                symbol='circle',\n",
    "                opacity=.01),\n",
    "    line = dict(color = 'gray', width = 0.),\n",
    "    name='Edenhofer Dust',\n",
    "    visible = True,\n",
    "    hovertext='Edenhofer Dust',\n",
    "    hoverinfo='skip'\n",
    "    )\n",
    "static_traces.append(scatter_edenhofer)\n",
    "static_traces_times.append([0.]) # only show at t=0\n",
    "\n",
    "\n",
    "hdu = fits.open('/Users/cam/Downloads/Local_Bubble_Pelgrims2020.fits')\n",
    "x = hdu[1].data['x'][::4]\n",
    "y = hdu[1].data['y'][::4]\n",
    "z = hdu[1].data['z'][::4]\n",
    "\n",
    "scatter_lb = go.Scatter3d(\n",
    "    x=x,\n",
    "    y=y,\n",
    "    z=z,\n",
    "    mode='markers',\n",
    "    marker=dict(size=1,\n",
    "                color='#6495ED',\n",
    "                symbol='circle',\n",
    "                opacity=.05),\n",
    "    name='Local Bubble',\n",
    "    visible = 'legendonly',\n",
    "    hovertext='Local Bubble')\n",
    "static_traces.append(scatter_lb)\n",
    "static_traces_times.append([0.]) # only show at t=0"
   ]
  },
  {
   "cell_type": "code",
   "execution_count": null,
   "metadata": {},
   "outputs": [],
   "source": [
    "# RW/Split/CS clusters\n",
    "rw_region = pd.read_csv('/Users/cam/Downloads/rw_clusters.csv')\n",
    "rw = rw_region.loc[rw_region.age_myr < 15]\n",
    "remove = ['Theia_6', 'Teutsch_39', 'OCSN_32', 'Aveni-Hunter_1', 'IC_5146', 'Collinder_419', 'Dolidze_8', 'Theia_1920', 'Collinder_95', 'Mon_OB1-D', 'NGC_2264']\n",
    "rw = rw[~rw['name'].isin(remove)]\n",
    "rw = rw.rename(columns = column_renaming_dict)\n",
    "#lacerta = ['HSC_661', 'vdBergh_152', 'HSC_705', 'OCSN_32', 'UBC_159', 'UPK_168', 'UPK_166', 'Teutch_39', 'Theia_100']\n",
    "\n",
    "# The Split\n",
    "split_region = pd.read_csv('/Users/cam/Downloads/the_split_selection.csv')\n",
    "split = split_region.loc[split_region.age_myr < 15]\n",
    "split = split.rename(columns = column_renaming_dict)\n",
    "\n",
    "# Cepheus spur\n",
    "cepheus_region = pd.read_csv('/Users/cam/Downloads/cepheus_spur_region.csv')\n",
    "cepheus_spur = cepheus_region.loc[cepheus_region.age_myr < 30]\n",
    "cepheus_spur = cepheus_spur.rename(columns = column_renaming_dict)"
   ]
  },
  {
   "cell_type": "code",
   "execution_count": null,
   "metadata": {},
   "outputs": [],
   "source": [
    "df_hunt_full = pd.read_csv('/Users/cam/Downloads/hunt_catalog_oct_13.csv')\n",
    "df_hunt_full = df_hunt_full.rename(columns={'n_stars_hunt' : 'n_stars', 'U_new' : 'U', 'V_new' : 'V', 'W_new' : 'W', 'x_hunt_50' : 'x', 'y_hunt_50' : 'y', 'z_hunt_50' : 'z', 'U_err_new' : 'U_err', 'V_err_new' : 'V_err', 'W_err_new' : 'W_err'})\n",
    "\n",
    "df_hunt_good = df_hunt_full.loc[\n",
    "    (df_hunt_full['n_rv_gaia_apogee_galah'] >= 2) & \n",
    "    (df_hunt_full['U_err'] < 10) & \n",
    "    (df_hunt_full['V_err'] < 10) & \n",
    "    (df_hunt_full['W_err'] < 10)\n",
    "    ]\n",
    "df_hunt_young = df_hunt_good.loc[df_hunt_good['age_myr'] < 15]\n",
    "df_hunt_middle_aged = df_hunt_good.loc[df_hunt_good['age_myr'].between(15, 60)]\n",
    "df_hunt_older = df_hunt_good.loc[df_hunt_good['age_myr'].between(0, 60)]\n",
    "df_hunt_older.to_csv('/Users/cam/Downloads/hunt_catalog_0_30_myr.csv', index=False)"
   ]
  },
  {
   "cell_type": "code",
   "execution_count": null,
   "metadata": {},
   "outputs": [],
   "source": [
    "df_hunt_gagne = pd.read_csv('/Users/cam/Downloads/cluster_sample_data.csv')\n",
    "df_hunt_gagne = df_hunt_gagne[['name', 'family', 'age_myr', 'U', 'V', 'W', 'x_helio', 'y_helio', 'z_helio', 'n_stars']]\n",
    "df_hunt_gagne = df_hunt_gagne.rename(columns={'x_helio' : 'x', 'y_helio' : 'y', 'z_helio' : 'z'})\n",
    "\n",
    "m6 = df_hunt_gagne[df_hunt_gagne['family'] == 'm6']\n",
    "cr135 = df_hunt_gagne[df_hunt_gagne['family'] == 'cr135']\n",
    "ap = df_hunt_gagne[df_hunt_gagne['family'] == 'alphaPer']\n",
    "gamma_vel = df_hunt_gagne[df_hunt_gagne['family'] == 'gamma_velorum']\n",
    "\n",
    "df_hunt_partIII = pd.read_csv('/Users/cam/Downloads/hunt_part3_clusters.csv')\n",
    "df_hunt_partIII_to_merge = df_hunt_partIII[['name', 'kind']]\n",
    "m6 = m6.merge(df_hunt_partIII_to_merge, on='name', how='left')\n",
    "\n",
    "sun = pd.DataFrame({'name' : ['Sun'], 'family' : ['Sun'], 'age_myr' : [8000], 'U' : [0.], 'V' : [0.], 'W' : [0.], 'x' : [0.], 'y' : [0.], 'z' : [0.], 'n_stars' : [1]})\n"
   ]
  },
  {
   "cell_type": "code",
   "execution_count": null,
   "metadata": {},
   "outputs": [],
   "source": [
    "rw_data = StarClusterData(rw, data_name = 'Radcliffe Wave', min_size = 0, max_size = 9, color = 'red', opacity = 1., marker_style = 'circle')\n",
    "split_data = StarClusterData(split, data_name = 'The Split', min_size = 0, max_size = 9, color = '#FFA07A', opacity = 1., marker_style = 'circle')\n",
    "cepheus_spur_data = StarClusterData(cepheus_spur, data_name = 'Cepheus Spur', min_size = 0, max_size = 9, color = 'cyan', opacity = 1., marker_style = 'circle')\n",
    "\n",
    "ap_data = StarClusterData(ap, data_name = '⍺Per', min_size = 0, max_size = 7, color = 'violet', opacity = 1., marker_style = 'circle')\n",
    "m6_data = StarClusterData(m6, data_name = 'M6', min_size = 0, max_size = 7, color = 'cyan', opacity = 1., marker_style = 'circle')\n",
    "cr135_data = StarClusterData(cr135, data_name = 'Cr135', min_size = 0, max_size = 7, color = 'orange', opacity = 1., marker_style = 'circle')\n",
    "gamma_vel_data = StarClusterData(gamma_vel, data_name = '𝝲Vel', min_size = 0, max_size = 7, color = 'red', opacity = 1., marker_style = 'circle')\n",
    "young_data = StarClusterData(df_hunt_young, data_name = 'Young clusters', min_size = 2., max_size = 7, color = 'black', opacity = 1., marker_style = 'circle')\n",
    "older_data = StarClusterData(df_hunt_older, data_name = 'Older clusters', min_size = 0., max_size = 7, color = 'black', opacity = 1., marker_style = 'circle')\n",
    "sun_data = StarClusterData(sun, data_name = 'Sun', min_size = 0, max_size = 7, color = 'yellow', opacity = 1., marker_style = 'circle')\n",
    "\n",
    "\n",
    "sc = StarClusterCollection([young_data, older_data, sun_data, ap_data, m6_data, cr135_data, gamma_vel_data, rw_data, split_data, cepheus_spur_data])\n",
    "grouping_dict = {\n",
    "    'Cluster families' : ['⍺Per', 'M6', 'Cr135', '𝝲Vel', 'Sun'],\n",
    "    'Dust spurs/spines' : ['Young clusters', 'Radcliffe Wave', 'The Split', 'Cepheus Spur', 'Sun'],\n",
    "    'Older clusters' : ['Older clusters', 'Sun']\n",
    "}"
   ]
  }
 ],
 "metadata": {
  "kernelspec": {
   "display_name": "p311",
   "language": "python",
   "name": "python3"
  },
  "language_info": {
   "codemirror_mode": {
    "name": "ipython",
    "version": 3
   },
   "file_extension": ".py",
   "mimetype": "text/x-python",
   "name": "python",
   "nbconvert_exporter": "python",
   "pygments_lexer": "ipython3",
   "version": "3.11.0"
  }
 },
 "nbformat": 4,
 "nbformat_minor": 2
}
