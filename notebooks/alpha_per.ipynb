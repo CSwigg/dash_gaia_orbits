{
 "cells": [
  {
   "cell_type": "code",
   "execution_count": 1,
   "metadata": {},
   "outputs": [
    {
     "name": "stdout",
     "output_type": "stream",
     "text": [
      "\u001b[91mA new version of galpy (1.10.0) is available, please upgrade using pip/conda/... to get the latest features and bug fixes!\u001b[0m\n"
     ]
    }
   ],
   "source": [
    "import numpy as np \n",
    "import pandas as pd\n",
    "import copy\n",
    "import sys\n",
    "from astropy.io import fits\n",
    "import plotly.graph_objects as go\n",
    "from astropy.coordinates import SkyCoord, GalacticLSR, Galactic\n",
    "import astropy.units as u\n",
    "sys.path.append('../../dash_gaia_orbits/')\n",
    "\n",
    "# Package imports\n",
    "import dash_gaia_orbits\n",
    "from dash_gaia_orbits import StarClusterData, StarClusterCollection, StarClusters3DPlotter\n",
    "\n",
    "column_renaming_dict = {'n_stars_hunt' : 'n_stars', 'U_new' : 'U', 'V_new' : 'V', 'W_new' : 'W', 'x_hunt_50' : 'x', 'y_hunt_50' : 'y', 'z_hunt_50' : 'z', 'U_err_new' : 'U_err', 'V_err_new' : 'V_err', 'W_err_new' : 'W_err'}"
   ]
  },
  {
   "cell_type": "code",
   "execution_count": 2,
   "metadata": {},
   "outputs": [
    {
     "data": {
      "text/plain": [
       "<module 'dash_gaia_orbits' from '/Users/cam/Desktop/astro_research/radcliffe/traceback_orbits_package/dash_gaia_orbits/notebooks/../../dash_gaia_orbits/dash_gaia_orbits/__init__.py'>"
      ]
     },
     "execution_count": 2,
     "metadata": {},
     "output_type": "execute_result"
    }
   ],
   "source": [
    "import importlib\n",
    "importlib.reload(dash_gaia_orbits)"
   ]
  },
  {
   "cell_type": "code",
   "execution_count": 3,
   "metadata": {},
   "outputs": [],
   "source": [
    "time_int = np.round(np.arange(0., -60.5, -0.5), 1)"
   ]
  },
  {
   "cell_type": "code",
   "execution_count": 4,
   "metadata": {},
   "outputs": [],
   "source": [
    "dfme = pd.read_csv('/Users/cam/Downloads/cluster_sample_data.csv')\n",
    "dfme = dfme.drop(columns=['x', 'y', 'z'])\n",
    "dfme = dfme[['name', 'family', 'age_myr', 'U', 'V', 'W', 'x_helio', 'y_helio', 'z_helio', 'n_stars', 'mass_50']]\n",
    "dfme = dfme.rename(columns={'x_helio' : 'x', 'y_helio' : 'y', 'z_helio' : 'z'})\n",
    "\n",
    "df_ap = dfme.loc[dfme['name'] == 'Melotte_20']\n",
    "df_apfam = dfme.loc[dfme['family'] == 'alphaPer']\n",
    "dfsun = pd.DataFrame({'name' : ['Sun'], 'age_myr' : [100000], 'U' : [0], 'V' : [0], 'W' : [0], 'x' : [0], 'y' : [0], 'z' : [0], 'n_stars' : [1]})"
   ]
  },
  {
   "cell_type": "code",
   "execution_count": 5,
   "metadata": {},
   "outputs": [],
   "source": [
    "static_traces = []\n",
    "static_traces_times = []\n",
    "\n",
    "dfv = pd.read_csv('/Users/cam/Desktop/astro_research/radcliffe/mustache_work/figures/cubes/edenhofer_xyz_4pc.csv')\n",
    "dfv = dfv.loc[dfv['e'].between(0.003, 1)]\n",
    "dfv = dfv.loc[\n",
    "    (dfv['x'].between(df_ap['x'].iloc[0] - 1000, df_ap['x'].iloc[0] + 1000)) &\n",
    "    (dfv['y'].between(df_ap['y'].iloc[0] - 1000, df_ap['y'].iloc[0] + 1000)) &\n",
    "    (dfv['z'].between(df_ap['z'].iloc[0] - 1000, df_ap['z'].iloc[0] + 1000))\n",
    "]\n",
    "ds_index = 1\n",
    "scatter_edenhofer = go.Scatter3d(\n",
    "    x=dfv['x'].values[::ds_index],\n",
    "    y=dfv['y'].values[::ds_index],\n",
    "    z=dfv['z'].values[::ds_index],\n",
    "    mode='markers',\n",
    "    marker=dict(size=.5,\n",
    "                #color='gray',\n",
    "                symbol='circle',\n",
    "                opacity=.8),\n",
    "    line = dict(color = 'gray', width = 0.),\n",
    "    name='Edenhofer Dust',\n",
    "    visible = True,\n",
    "    hovertext='Edenhofer Dust',\n",
    "    hoverinfo='skip'\n",
    "    )\n",
    "static_traces.append(scatter_edenhofer)\n",
    "static_traces_times.append([0]) # only show at t=0"
   ]
  },
  {
   "cell_type": "code",
   "execution_count": 6,
   "metadata": {},
   "outputs": [
    {
     "name": "stderr",
     "output_type": "stream",
     "text": [
      "                                      \r"
     ]
    }
   ],
   "source": [
    "ap_fam = StarClusterData(df_apfam, data_name = 'Alpha Persei Family', min_size = 2, max_size = 25, color = 'violet', opacity = 1., marker_style = 'circle', show_tracks=False, size_by_n_stars=True)\n",
    "# ap = StarClusterData(df_ap, data_name = 'Alpha Persei Cluster', min_size = 0, max_size = 18, color = 'violet', opacity = 1., marker_style = 'circle', show_tracks = True)\n",
    "# sun = StarClusterData(dfsun, data_name = 'Sun', min_size = 0, max_size = 10, color = 'yellow', opacity = 1, marker_style = 'circle', show_tracks = False)\n",
    "\n",
    "sc = StarClusterCollection([ap_fam])\n",
    "#sc = StarClusterCollection([ap, ap_fam, sun])\n",
    "\n",
    "\n",
    "\n",
    "\n",
    "xyz_widths = (1001, 1001, 201)\n",
    "# xyz_ranges = [\n",
    "#     (df_ap['x'].iloc[0] - 400, df_ap['x'].iloc[0] + 400),\n",
    "#     (df_ap['y'].iloc[0] - 400, df_ap['y'].iloc[0] + 400),\n",
    "#     (df_ap['z'].iloc[0] - 400, df_ap['z'].iloc[0] + 400)\n",
    "# ]\n",
    "\n",
    "plot_3d = StarClusters3DPlotter(\n",
    "    data_collection = sc, \n",
    "    xyz_widths = xyz_widths, \n",
    "    #xyz_ranges = xyz_ranges,\n",
    "    figure_theme = 'dark', \n",
    "    trace_grouping_dict=None)\n",
    "\n",
    "save_name = '/Users/cam/Downloads/alpha_per.html'\n",
    "\n",
    "fig3d_m6 = plot_3d.generate_3d_plot(\n",
    "    time = time_int,\n",
    "    show = False, \n",
    "    save_name =save_name, \n",
    "    static_traces = static_traces, \n",
    "    static_traces_times = static_traces_times, \n",
    "    static_traces_legendonly=False,\n",
    "    show_gc_line=False,\n",
    "    #focus_group = 'Alpha Persei Family',\n",
    "    focus_group = None,\n",
    "    fade_in_time = 10, # Myr,\n",
    "    fade_in_and_out = False\n",
    ")"
   ]
  }
 ],
 "metadata": {
  "kernelspec": {
   "display_name": "p311",
   "language": "python",
   "name": "python3"
  },
  "language_info": {
   "codemirror_mode": {
    "name": "ipython",
    "version": 3
   },
   "file_extension": ".py",
   "mimetype": "text/x-python",
   "name": "python",
   "nbconvert_exporter": "python",
   "pygments_lexer": "ipython3",
   "version": "3.11.0"
  }
 },
 "nbformat": 4,
 "nbformat_minor": 2
}
