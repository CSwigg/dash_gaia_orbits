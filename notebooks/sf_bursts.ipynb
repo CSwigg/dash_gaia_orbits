{
 "cells": [
  {
   "cell_type": "code",
   "execution_count": 17,
   "metadata": {},
   "outputs": [],
   "source": [
    "import numpy as np \n",
    "import pandas as pd\n",
    "import sys\n",
    "from astropy.io import fits\n",
    "import plotly.graph_objects as go\n",
    "sys.path.append('../../dash_gaia_orbits/')\n",
    "\n",
    "# Package imports\n",
    "from dash_gaia_orbits.dash_test import create_dash_app\n",
    "from dash_gaia_orbits import StarClusterData, StarClusterCollection, StarClusters3DPlotter\n",
    "\n",
    "column_renaming_dict = {'n_stars_hunt' : 'n_stars', 'U_new' : 'U', 'V_new' : 'V', 'W_new' : 'W', 'x_hunt_50' : 'x', 'y_hunt_50' : 'y', 'z_hunt_50' : 'z', 'U_err_new' : 'U_err', 'V_err_new' : 'V_err', 'W_err_new' : 'W_err'}"
   ]
  },
  {
   "cell_type": "code",
   "execution_count": 18,
   "metadata": {},
   "outputs": [],
   "source": [
    "static_traces = []\n",
    "static_traces_times = []\n",
    "\n",
    "\n",
    "# read in Gordian scatter map\n",
    "dfv = pd.read_csv('/Users/cam/Downloads/edenhofer_dust_scatter_new.csv')\n",
    "#dfv = dfv.loc[dfv['extinction'].between(0.0003, 1)]\n",
    "dfv = dfv.loc[dfv['extinction'].between(0.0007, 1)]\n",
    "ds_index = 2\n",
    "scatter_edenhofer = go.Scatter3d(\n",
    "    x=dfv['X'].values[::ds_index],\n",
    "    y=dfv['Y'].values[::ds_index],\n",
    "    z=dfv['Z'].values[::ds_index],\n",
    "    mode='markers',\n",
    "    marker=dict(size=5.,\n",
    "                color='gray',\n",
    "                # color=dfv['extinction'].values[::ds_index],\n",
    "                # colorscale='Gray_r',\n",
    "                cmin = 0.0007,\n",
    "                cmax = 0.005,\n",
    "                symbol='circle',\n",
    "                opacity=.01),\n",
    "    line = dict(color = 'gray', width = 0.),\n",
    "    name='Edenhofer Dust',\n",
    "    visible = True,\n",
    "    hovertext='Edenhofer Dust',\n",
    "    hoverinfo='skip'\n",
    "    )\n",
    "static_traces.append(scatter_edenhofer)\n",
    "static_traces_times.append([0.]) # only show at t=0\n",
    "\n",
    "\n",
    "hdu = fits.open('/Users/cam/Downloads/Local_Bubble_Pelgrims2020.fits')\n",
    "x = hdu[1].data['x'][::4]\n",
    "y = hdu[1].data['y'][::4]\n",
    "z = hdu[1].data['z'][::4]\n",
    "\n",
    "scatter_lb = go.Scatter3d(\n",
    "    x=x,\n",
    "    y=y,\n",
    "    z=z,\n",
    "    mode='markers',\n",
    "    marker=dict(size=1,\n",
    "                color='#6495ED',\n",
    "                symbol='circle',\n",
    "                opacity=.05),\n",
    "    name='Local Bubble',\n",
    "    visible = 'legendonly',\n",
    "    hovertext='Local Bubble')\n",
    "static_traces.append(scatter_lb)\n",
    "static_traces_times.append([0.]) # only show at t=0"
   ]
  },
  {
   "cell_type": "code",
   "execution_count": 19,
   "metadata": {},
   "outputs": [],
   "source": [
    "df_hunt_full = pd.read_csv('/Users/cam/Downloads/hunt_catalog_oct_13.csv')\n",
    "df_hunt_full = df_hunt_full.rename(columns={'n_stars_hunt' : 'n_stars', 'U_new' : 'U', 'V_new' : 'V', 'W_new' : 'W', 'x_hunt_50' : 'x', 'y_hunt_50' : 'y', 'z_hunt_50' : 'z', 'U_err_new' : 'U_err', 'V_err_new' : 'V_err', 'W_err_new' : 'W_err'})\n",
    "\n",
    "df_hunt_good = df_hunt_full.loc[\n",
    "    (df_hunt_full['n_rv_gaia_apogee_galah'] >= 2) & \n",
    "    (df_hunt_full['U_err'] < 10) & \n",
    "    (df_hunt_full['V_err'] < 10) & \n",
    "    (df_hunt_full['W_err'] < 10)\n",
    "    ]\n",
    "df_hunt_young = df_hunt_good.loc[df_hunt_good['age_myr'] < 15]\n",
    "df_hunt_middle_aged = df_hunt_good.loc[df_hunt_good['age_myr'].between(15, 70)]\n",
    "df_hunt_older = df_hunt_good.loc[df_hunt_good['age_myr'].between(0, 70)]\n",
    "df_hunt_older.to_csv('/Users/cam/Downloads/hunt_catalog_0_70_myr.csv', index=False)"
   ]
  },
  {
   "cell_type": "code",
   "execution_count": 20,
   "metadata": {},
   "outputs": [],
   "source": [
    "df_hunt_gagne = pd.read_csv('/Users/cam/Downloads/cluster_sample_data.csv')\n",
    "df_hunt_gagne = df_hunt_gagne[['name', 'family', 'age_myr', 'U', 'V', 'W', 'x_helio', 'y_helio', 'z_helio', 'n_stars']]\n",
    "df_hunt_gagne = df_hunt_gagne.rename(columns={'x_helio' : 'x', 'y_helio' : 'y', 'z_helio' : 'z'})\n",
    "\n",
    "m6 = df_hunt_gagne[df_hunt_gagne['family'] == 'm6']\n",
    "cr135 = df_hunt_gagne[df_hunt_gagne['family'] == 'cr135']\n",
    "ap = df_hunt_gagne[df_hunt_gagne['family'] == 'alphaPer']\n",
    "gamma_vel = df_hunt_gagne[df_hunt_gagne['family'] == 'gamma_velorum']\n",
    "\n",
    "df_hunt_partIII = pd.read_csv('/Users/cam/Downloads/hunt_part3_clusters.csv')\n",
    "df_hunt_partIII_to_merge = df_hunt_partIII[['name', 'kind']]\n",
    "m6 = m6.merge(df_hunt_partIII_to_merge, on='name', how='left')\n",
    "\n",
    "sun = pd.DataFrame({'name' : ['Sun'], 'family' : ['Sun'], 'age_myr' : [8000], 'U' : [0.], 'V' : [0.], 'W' : [0.], 'x' : [0.], 'y' : [0.], 'z' : [0.], 'n_stars' : [1]})\n"
   ]
  },
  {
   "cell_type": "code",
   "execution_count": 21,
   "metadata": {},
   "outputs": [],
   "source": [
    "# RW/Split/CS clusters\n",
    "rw_region = pd.read_csv('/Users/cam/Downloads/rw_clusters.csv')\n",
    "rw = rw_region.loc[rw_region.age_myr < 15]\n",
    "remove = ['Theia_6', 'Teutsch_39', 'OCSN_32', 'Aveni-Hunter_1', 'IC_5146', 'Collinder_419', 'Dolidze_8', 'Theia_1920', 'Collinder_95', 'Mon_OB1-D', 'NGC_2264', 'UBC_159']\n",
    "rw = rw[~rw['name'].isin(remove)]\n",
    "rw = rw.rename(columns = column_renaming_dict)\n",
    "#lacerta = ['HSC_661', 'vdBergh_152', 'HSC_705', 'OCSN_32', 'UBC_159', 'UPK_168', 'UPK_166', 'Teutch_39', 'Theia_100']\n",
    "\n",
    "# The Split\n",
    "split_region = pd.read_csv('/Users/cam/Downloads/the_split_selection.csv')\n",
    "split = split_region.loc[split_region.age_myr < 15]\n",
    "split = split.rename(columns = column_renaming_dict)\n",
    "\n",
    "# Cepheus spur\n",
    "cepheus_region = pd.read_csv('/Users/cam/Downloads/cepheus_spur_region.csv')\n",
    "cepheus_spur = cepheus_region.loc[cepheus_region.age_myr < 30]\n",
    "cepheus_spur = cepheus_spur.rename(columns = column_renaming_dict)\n",
    "\n",
    "\n",
    "# new spur?\n",
    "spur_clusters = ['Pismis_5', 'Collinder_197', 'FSR_1421', 'BH_56', 'HSC_2144', 'ASCC_79', 'UPK_604', 'FSR_1694', 'NGC_6178', 'OC_0684', 'HSC_2911', 'CWNU_170', 'NGC_6383']\n",
    "spur = df_hunt_full.loc[df_hunt_full['name'].isin(spur_clusters)]\n",
    "spur = spur.rename(columns = column_renaming_dict)"
   ]
  },
  {
   "cell_type": "code",
   "execution_count": 22,
   "metadata": {},
   "outputs": [],
   "source": [
    "# new families\n",
    "new_fam_1 = ['HSC_1373', 'OCSN_50', 'ASCC_24', 'HSC_1460', 'Theia_71', 'HSC_1340', 'CWNU_1057', 'CWNU_1111', 'CWNU_1092', 'HSC_1481', 'HSC_921', 'NGC_2232']\n",
    "df_new_fam_1 = df_hunt_full.loc[df_hunt_full['name'].isin(new_fam_1)]\n",
    "\n",
    "lacerta = ['HSC_661', 'vdBergh_152', 'HSC_705', 'OCSN_32', 'UBC_159', 'UPK_168', 'UPK_166', 'Teutch_39', 'Theia_100', 'HSC_699', 'CWNU_311', 'Teutsch_39', 'Aveni-Hunter_1', 'HSC_886']\n",
    "df_lacerta = df_hunt_full.loc[df_hunt_full['name'].isin(lacerta)]\n",
    "\n",
    "alphaPer_interloper = ['CWNU_1183', 'HSC_633', 'HSC_693', 'HSC_674', 'RSG_5', 'Theia_96', 'HSC_782', 'CWNU_519']\n",
    "df_ap_interloper= df_hunt_full.loc[df_hunt_full['name'].isin(alphaPer_interloper)]\n"
   ]
  },
  {
   "cell_type": "markdown",
   "metadata": {},
   "source": [
    "# Dark plot"
   ]
  },
  {
   "cell_type": "code",
   "execution_count": 23,
   "metadata": {},
   "outputs": [],
   "source": [
    "# spurs\n",
    "rw_data = StarClusterData(rw, data_name = 'Radcliffe Wave', min_size = 0, max_size = 9, color = 'white', opacity = 1., marker_style = 'circle')\n",
    "split_data = StarClusterData(split, data_name = 'The Split', min_size = 0, max_size = 9, color = '#FFA07A', opacity = 1., marker_style = 'circle')\n",
    "cepheus_spur_data = StarClusterData(cepheus_spur, data_name = 'Cepheus Spur', min_size = 0, max_size = 9, color = 'cyan', opacity = 1., marker_style = 'circle')\n",
    "new_spur = StarClusterData(spur, data_name = 'Spur (?)', min_size = 0, max_size = 9, color = '#90EE90', opacity = 1., marker_style = 'circle')\n",
    "\n",
    "# families\n",
    "ap_data = StarClusterData(ap, data_name = '⍺Per', min_size = 0, max_size = 7, color = 'violet', opacity = 1., marker_style = 'circle')\n",
    "m6_data = StarClusterData(m6, data_name = 'M6', min_size = 0, max_size = 7, color = 'cyan', opacity = 1., marker_style = 'circle')\n",
    "cr135_data = StarClusterData(cr135, data_name = 'Cr135', min_size = 0, max_size = 7, color = 'orange', opacity = 1., marker_style = 'circle')\n",
    "gamma_vel_data = StarClusterData(gamma_vel, data_name = '𝝲Vel', min_size = 0, max_size = 7, color = 'lime', opacity = 1., marker_style = 'circle')\n",
    "\n",
    "# new families\n",
    "unnamed_family_1= StarClusterData(df_new_fam_1, data_name = 'Unnamed family 1', min_size = 0, max_size = 7, color = '#90EE90', opacity = 1., marker_style = 'circle')\n",
    "lacerta = StarClusterData(df_lacerta, data_name = 'Lacerta', min_size = 0, max_size = 7, color = 'coral', opacity = 1., marker_style = 'circle')\n",
    "ap_interloper = StarClusterData(df_ap_interloper, data_name = '⍺Per interloper', min_size = 0, max_size = 7, color = '#191970', opacity = 1., marker_style = 'circle')\n",
    "\n",
    "young_data = StarClusterData(df_hunt_young, data_name = 'Clusters (< 15 Myr)', min_size = 0., max_size = 7, color = 'black', opacity = 1., marker_style = 'circle')\n",
    "older_data = StarClusterData(df_hunt_older, data_name = 'Clusters (< 70 Myr)', min_size = 0., max_size = 7, color = 'black', opacity = 1., marker_style = 'circle')\n",
    "sun_data = StarClusterData(sun, data_name = 'Sun', min_size = 0, max_size = 7, color = 'yellow', opacity = 1., marker_style = 'circle')\n",
    "\n",
    "\n",
    "sc = StarClusterCollection([young_data, older_data, sun_data, ap_data, m6_data, cr135_data, gamma_vel_data, rw_data, split_data, cepheus_spur_data, new_spur, unnamed_family_1, lacerta, ap_interloper])\n",
    "grouping_dict = {\n",
    "    'Cluster families' : ['⍺Per', 'M6', 'Cr135', '𝝲Vel', 'Lacerta', '⍺Per interloper', 'Unnamed family 1', 'Sun']\n",
    "    # 'Dust structures' : ['Young clusters', 'Radcliffe Wave', 'The Split', 'Cepheus Spur', 'Spur (?)', 'Sun'],\n",
    "}\n",
    "#grouping_dict = None"
   ]
  },
  {
   "cell_type": "code",
   "execution_count": 24,
   "metadata": {},
   "outputs": [
    {
     "name": "stderr",
     "output_type": "stream",
     "text": [
      "  0%|          | 0/208 [00:00<?, ?it/s]"
     ]
    },
    {
     "name": "stderr",
     "output_type": "stream",
     "text": [
      "                                                   \r"
     ]
    }
   ],
   "source": [
    "xyz_widths = (1300, 1300, 300)\n",
    "plot_3d = StarClusters3DPlotter(\n",
    "    data_collection = sc, \n",
    "    xyz_widths = xyz_widths, \n",
    "    figure_theme = 'gray', \n",
    "    trace_grouping_dict=grouping_dict)\n",
    "\n",
    "scatter_edenhofer['marker']['color'] = 'white'\n",
    "scatter_edenhofer['marker']['opacity'] = 0.004\n",
    "\n",
    "save_name = '/Users/cam/Downloads/gal_movie_sf_bursts.html'\n",
    "#save_name = '/Users/cam/Downloads/gamma_vel_movie.html'\n",
    "time_int = np.round(np.arange(0., -60.5, -0.5), 1)\n",
    "#time_int = np.round(np.arange(0., -20.1, -0.1), 1)\n",
    "\n",
    "fig3d_m6 = plot_3d.generate_3d_plot(\n",
    "    time = time_int,\n",
    "    show = False, \n",
    "    save_name =save_name, \n",
    "    static_traces = None, \n",
    "    static_traces_times = None, \n",
    "    static_traces_legendonly=False,\n",
    "    focus_group = None,\n",
    "    fade_in_time = 15, # Myr,\n",
    "    fade_in_and_out = True\n",
    ")"
   ]
  }
 ],
 "metadata": {
  "kernelspec": {
   "display_name": "p311",
   "language": "python",
   "name": "python3"
  },
  "language_info": {
   "codemirror_mode": {
    "name": "ipython",
    "version": 3
   },
   "file_extension": ".py",
   "mimetype": "text/x-python",
   "name": "python",
   "nbconvert_exporter": "python",
   "pygments_lexer": "ipython3",
   "version": "3.11.0"
  }
 },
 "nbformat": 4,
 "nbformat_minor": 2
}
