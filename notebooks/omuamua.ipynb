{
 "cells": [
  {
   "cell_type": "code",
   "execution_count": 57,
   "metadata": {},
   "outputs": [],
   "source": [
    "import numpy as np \n",
    "import pandas as pd\n",
    "import copy\n",
    "import sys\n",
    "from astropy.io import fits\n",
    "import plotly.graph_objects as go\n",
    "from astropy.coordinates import SkyCoord, GalacticLSR, Galactic\n",
    "import astropy.units as u\n",
    "import matplotlib.pyplot as plt\n",
    "plt.style.use('dark_background')\n",
    "%matplotlib widget\n",
    "sys.path.append('../../dash_gaia_orbits/')\n",
    "\n",
    "# Package imports\n",
    "from dash_gaia_orbits.dash_test import create_dash_app\n",
    "from dash_gaia_orbits import StarClusterData, StarClusterCollection, StarClusters3DPlotter\n",
    "\n",
    "column_renaming_dict = {'n_stars_hunt' : 'n_stars', 'U_new' : 'U', 'V_new' : 'V', 'W_new' : 'W', 'x_hunt_50' : 'x', 'y_hunt_50' : 'y', 'z_hunt_50' : 'z', 'U_err_new' : 'U_err', 'V_err_new' : 'V_err', 'W_err_new' : 'W_err'}"
   ]
  },
  {
   "cell_type": "code",
   "execution_count": 58,
   "metadata": {},
   "outputs": [],
   "source": [
    "df_hunt_full = pd.read_csv('/Users/cam/Downloads/hunt_catalog_oct_13.csv')\n",
    "#df_hunt_full = pd.read_csv('/Users/cam/Downloads/hunt_sample_chronos_ages.csv')\n",
    "df_hunt_full = df_hunt_full.rename(columns={'n_stars_hunt' : 'n_stars', 'U_new' : 'U', 'V_new' : 'V', 'W_new' : 'W', 'x_hunt_50' : 'x', 'y_hunt_50' : 'y', 'z_hunt_50' : 'z', 'U_err_new' : 'U_err', 'V_err_new' : 'V_err', 'W_err_new' : 'W_err'})\n",
    "\n",
    "df_hunt_good = df_hunt_full.loc[\n",
    "    (df_hunt_full['n_rv_gaia_apogee_galah'] >= 5) & \n",
    "    (df_hunt_full['U_err'] < 5) & \n",
    "    (df_hunt_full['V_err'] < 5) & \n",
    "    (df_hunt_full['W_err'] < 5) &\n",
    "    (df_hunt_full['age_myr'] < 200) &\n",
    "    (df_hunt_full['n_stars'] > 500)\n",
    "    ]"
   ]
  },
  {
   "cell_type": "code",
   "execution_count": 59,
   "metadata": {},
   "outputs": [],
   "source": [
    "dfme = pd.read_csv('/Users/cam/Downloads/cluster_sample_data.csv')\n",
    "# dfme = dfme.loc[dfme['n_stars'] >= 50]\n",
    "dfme = dfme.drop(columns=['x', 'y', 'z'])\n",
    "dfme = dfme[['name', 'family', 'age_myr', 'U', 'V', 'W', 'x_helio', 'y_helio', 'z_helio', 'n_stars', 'mass_50', 'n_sne_50']]\n",
    "dfme = dfme.rename(columns={'x_helio' : 'x', 'y_helio' : 'y', 'z_helio' : 'z'})\n",
    "\n",
    "df_ap = dfme.loc[dfme['family'] == 'alphaPer']\n",
    "df_ap_cluster = dfme.loc[dfme['name'] == 'Melotte_20']\n",
    "df_carina_and_columba = dfme.loc[dfme['name'].isin(['CAR', 'COL'])]\n",
    "\n",
    "# omuamua\n",
    "x,y,z = 0., 0., 0.\n",
    "U, V, W = -11.622, -22.461, -7.824\n",
    "# U, V, W = 33.1, -6.8, 8.3\n",
    "name = 'Oumuamua'\n",
    "age = 1000.\n",
    "df_omuamua = pd.DataFrame({'name' : [name], 'family' : ['Oumuamua'], 'age_myr' : [age], 'U' : [U], 'V' : [V], 'W' : [W], 'x' : [x], 'y' : [y], 'z' : [z], 'n_stars' : [1]})\n",
    "\n",
    "dfsun = pd.DataFrame({'name' : ['Sun'], 'age_myr' : [100000], 'U' : [0], 'V' : [0], 'W' : [0], 'x' : [0], 'y' : [0], 'z' : [0], 'n_stars' : [1]})"
   ]
  },
  {
   "cell_type": "code",
   "execution_count": 60,
   "metadata": {},
   "outputs": [],
   "source": [
    "ap = StarClusterData(df_ap, data_name = 'Alpha Persei Family', min_size = 0, max_size = 8, color = 'violet', opacity = .5, marker_style = 'circle', show_tracks = True)\n",
    "ap_cluster = StarClusterData(df_ap_cluster, data_name = 'Alpha Persei Cluster', min_size = 0, max_size = 14, color = 'violet', opacity = 1, marker_style = 'circle', show_tracks = True)\n",
    "car_and_col = StarClusterData(df_carina_and_columba, data_name = 'Carina and Columba', min_size = 0, max_size = 8, color = 'violet', opacity = 1, marker_style = 'circle', show_tracks = True)\n",
    "\n",
    "omuamua = StarClusterData(df_omuamua, data_name = 'Oumuamua', min_size = 0, max_size = 14, color = 'pink', opacity = 1, marker_style = 'circle', show_tracks = False)\n",
    "sun = StarClusterData(dfsun, data_name = 'Sun', min_size = 0, max_size = 14, color = 'yellow', opacity = 1, marker_style = 'circle', show_tracks = False)\n",
    "clusters = StarClusterData(dfme, data_name = 'Clusters', min_size = 0, max_size = 8, color = 'gray', opacity = .5, marker_style = 'circle', show_tracks = False)\n",
    "clusters_full = StarClusterData(df_hunt_good, data_name='Clusters Full', min_size = 0, max_size = 8, color = 'gray', opacity = .5, marker_style = 'circle', show_tracks = False)\n",
    "sc = StarClusterCollection([clusters, ap, ap_cluster, car_and_col, omuamua, sun])"
   ]
  },
  {
   "cell_type": "code",
   "execution_count": 61,
   "metadata": {},
   "outputs": [
    {
     "name": "stderr",
     "output_type": "stream",
     "text": [
      "                                                  \r"
     ]
    }
   ],
   "source": [
    "time_int = np.arange(0., -100, -1.)\n",
    "xyz_widths = (800, 800, 300)\n",
    "#xyz_ranges = ([-300, 300], [-300, 300], [-300, 300])\n",
    "\n",
    "plot_3d = StarClusters3DPlotter(\n",
    "    data_collection = sc, \n",
    "    xyz_widths = xyz_widths, \n",
    "    figure_title='Orbits in reference frame of Oumuamua',\n",
    "    #xyz_ranges=xyz_ranges,\n",
    "    figure_theme = 'dark', \n",
    "    trace_grouping_dict=None)\n",
    "\n",
    "#save_name = '/Users/cam/Downloads/ivs_clusters_movie_LSR_frame.html'\n",
    "save_name = '/Users/cam/Desktop/astro_research/radcliffe/cam_website_clone/cam_website/interactive_figures/oumuamua_animation.html'\n",
    "\n",
    "\n",
    "fig3d = plot_3d.generate_3d_plot(\n",
    "    time = time_int,\n",
    "    show = False, \n",
    "    save_name =save_name, \n",
    "    static_traces = None, \n",
    "    static_traces_times = None,\n",
    "    static_traces_legendonly=False,\n",
    "    #focus_group = 'Gamma Vel family (IVS)',\n",
    "    focus_group = 'Oumuamua',\n",
    "    fade_in_time = 8, # Myr,\n",
    "    show_gc_line=False,\n",
    "    fade_in_and_out = False\n",
    ")"
   ]
  },
  {
   "cell_type": "code",
   "execution_count": 62,
   "metadata": {},
   "outputs": [],
   "source": [
    "apci = ap_cluster.df_int\n",
    "oui = omuamua.df_int\n",
    "\n",
    "s = []\n",
    "for t in time_int:\n",
    "    xyz_a = apci.loc[apci['time'] == t][['x', 'y', 'z']].values[0]\n",
    "    xyz_o = oui.loc[oui['time'] == t][['x', 'y', 'z']].values[0]\n",
    "    s.append(np.linalg.norm(xyz_a - xyz_o))"
   ]
  },
  {
   "cell_type": "code",
   "execution_count": 63,
   "metadata": {},
   "outputs": [],
   "source": [
    "# plt.figure(figsize=(6,6))\n",
    "# plt.plot(time_int, s, lw=2, color = 'magenta')\n",
    "# plt.axhline(df_full.loc[df_full.name == 'Melotte_20'].radius_total_pc.values*2, color='gray', linestyle='--', lw=1)\n",
    "# plt.xlabel('Time (Myr)')\n",
    "# plt.ylabel('Distance (pc)')\n",
    "# plt.title('Distance between Oumuamua and Alpha Persei Cluster')\n",
    "# plt.text(-20, 74, 'Present-Day Diameter of Alpha Persei Cluster', color='gray', ha='center', va='center')\n",
    "# plt.show()"
   ]
  },
  {
   "cell_type": "code",
   "execution_count": 64,
   "metadata": {},
   "outputs": [],
   "source": [
    "# clusters_ci = clusters_full.df_int\n",
    "# cluster_names = clusters_ci['name'].unique()\n",
    "# oui = omuamua.df_int\n",
    "\n",
    "# s = []\n",
    "# for t in time_int:\n",
    "#     xyz_a = clusters_ci.loc[clusters_ci['time'] == t][['x', 'y', 'z']]\n",
    "#     xyz_o = oui.loc[oui['time'] == t][['x', 'y', 'z']].values\n",
    "#     s.append(np.linalg.norm(xyz_a - xyz_o, axis = 1))\n",
    "# distance_df = pd.DataFrame(s, columns=cluster_names, index=time_int).T"
   ]
  },
  {
   "cell_type": "code",
   "execution_count": 65,
   "metadata": {},
   "outputs": [],
   "source": [
    "# distance_df_cut = distance_df.applymap(lambda x: x if x < 100 else np.nan)\n",
    "# d = distance_df_cut.T.values\n",
    "# d_flat = d.flatten()\n",
    "# # plt.figure()\n",
    "# # plt.hist(d_flat, bins=100)\n",
    "# # plt.show()"
   ]
  },
  {
   "cell_type": "code",
   "execution_count": 66,
   "metadata": {},
   "outputs": [],
   "source": [
    "# # Extract non-NaN values and their corresponding times\n",
    "# non_nan_values = distance_df_cut.stack().reset_index()\n",
    "# non_nan_values.columns = ['Cluster', 'Time', 'Distance']\n",
    "\n",
    "# # Plot the non-NaN values\n",
    "# plt.figure(figsize=(10, 6))\n",
    "# plt.scatter(non_nan_values['Time'], non_nan_values['Distance'], alpha=1, s=.5)\n",
    "# plt.xlabel('Time (Myr)')\n",
    "# plt.ylabel('Distance (pc)')\n",
    "# plt.title('Non-NaN Distances Over Time')\n",
    "# plt.show()"
   ]
  }
 ],
 "metadata": {
  "kernelspec": {
   "display_name": "p311",
   "language": "python",
   "name": "python3"
  },
  "language_info": {
   "codemirror_mode": {
    "name": "ipython",
    "version": 3
   },
   "file_extension": ".py",
   "mimetype": "text/x-python",
   "name": "python",
   "nbconvert_exporter": "python",
   "pygments_lexer": "ipython3",
   "version": "3.11.0"
  }
 },
 "nbformat": 4,
 "nbformat_minor": 2
}
