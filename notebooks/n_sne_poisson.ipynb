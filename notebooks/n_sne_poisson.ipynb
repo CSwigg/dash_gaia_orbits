{
 "cells": [
  {
   "cell_type": "code",
   "execution_count": 3,
   "metadata": {},
   "outputs": [],
   "source": [
    "import numpy as np\n",
    "import matplotlib.pyplot as plt\n",
    "from scipy.stats import poisson, norm\n",
    "%matplotlib widget"
   ]
  },
  {
   "cell_type": "code",
   "execution_count": 4,
   "metadata": {},
   "outputs": [
    {
     "data": {
      "text/plain": [
       "<bound method rv_continuous.cdf of <scipy.stats._continuous_distns.norm_gen object at 0x17b7f0490>>"
      ]
     },
     "execution_count": 4,
     "metadata": {},
     "output_type": "execute_result"
    }
   ],
   "source": [
    "norm.cdf"
   ]
  },
  {
   "cell_type": "code",
   "execution_count": 5,
   "metadata": {},
   "outputs": [],
   "source": [
    "def pmf(l, x):\n",
    "    return (l**x * np.exp(-l)) / np.math.factorial(x)\n",
    "\n",
    "l_cr135 = [0.11, 0.11, 0.17, 0.42, 0.12]\n",
    "l_gamma_vel = [0.08, .04, .41, .24, .44]\n",
    "l_t10 = [2.73]\n",
    "l = l_gamma_vel + l_cr135\n",
    "\n",
    "x0 = 0\n"
   ]
  },
  {
   "cell_type": "code",
   "execution_count": 6,
   "metadata": {},
   "outputs": [
    {
     "name": "stdout",
     "output_type": "stream",
     "text": [
      "Probability of at least 1 SN in gamma-velocity: 0.7\n",
      "Probability of at least 1 SN in CR135: 0.61\n",
      "Probability of at least 1 SN in both: 0.88\n",
      "Probability of at least 1 SN in T10: 0.93\n"
     ]
    }
   ],
   "source": [
    "# Calculate cumulative Poisson probability for at least 20 SNe (k >= 20)\n",
    "gamma_vel_cdf = poisson.cdf(x0, l_gamma_vel)\n",
    "cr135_cdf = poisson.cdf(x0, l_cr135)\n",
    "cdf_both = poisson.cdf(x0, l)\n",
    "\n",
    "t10_cdf = poisson.cdf(x0, l_t10)\n",
    "\n",
    "\n",
    "gamma_vel_prob_1_sne = np.round(1 - np.prod(gamma_vel_cdf), 2)\n",
    "cr135_prob_1_sne = np.round(1 - np.prod(cr135_cdf), 2)\n",
    "prob_both = np.round(1 - np.prod(cdf_both), 2)\n",
    "t10_prob = np.round(1 - np.prod(t10_cdf), 2)\n",
    "print(f\"Probability of at least {x0 + 1} SN in gamma-velocity: {gamma_vel_prob_1_sne}\")\n",
    "print(f\"Probability of at least {x0 + 1} SN in CR135: {cr135_prob_1_sne}\")\n",
    "print(f\"Probability of at least {x0 + 1} SN in both: {prob_both}\")\n",
    "print(f\"Probability of at least {x0 + 1} SN in T10: {t10_prob}\")\n"
   ]
  },
  {
   "cell_type": "code",
   "execution_count": null,
   "metadata": {},
   "outputs": [],
   "source": []
  }
 ],
 "metadata": {
  "kernelspec": {
   "display_name": "p311",
   "language": "python",
   "name": "python3"
  },
  "language_info": {
   "codemirror_mode": {
    "name": "ipython",
    "version": 3
   },
   "file_extension": ".py",
   "mimetype": "text/x-python",
   "name": "python",
   "nbconvert_exporter": "python",
   "pygments_lexer": "ipython3",
   "version": "3.11.0"
  }
 },
 "nbformat": 4,
 "nbformat_minor": 2
}
