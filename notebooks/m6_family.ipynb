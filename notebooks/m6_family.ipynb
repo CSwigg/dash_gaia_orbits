{
 "cells": [
  {
   "cell_type": "code",
   "execution_count": 1,
   "metadata": {},
   "outputs": [
    {
     "name": "stdout",
     "output_type": "stream",
     "text": [
      "\u001b[91mA new version of galpy (1.9.2) is available, please upgrade using pip/conda/... to get the latest features and bug fixes!\u001b[0m\n"
     ]
    }
   ],
   "source": [
    "import numpy as np \n",
    "import pandas as pd\n",
    "import sys\n",
    "from astropy.io import fits\n",
    "import plotly.graph_objects as go\n",
    "sys.path.append('../../dash_gaia_orbits/')\n",
    "\n",
    "# Package imports\n",
    "from dash_gaia_orbits.dash_test import create_dash_app\n",
    "from dash_gaia_orbits import StarClusterData, StarClusterCollection, StarClusters3DPlotter"
   ]
  },
  {
   "cell_type": "code",
   "execution_count": 2,
   "metadata": {},
   "outputs": [],
   "source": [
    "# basic custom layout properties\n",
    "width = 800\n",
    "height = 800\n",
    "x_width = 700\n",
    "y_width = x_width\n",
    "z_width = 400\n",
    "z_aspect = 1.*(z_width/x_width)"
   ]
  },
  {
   "cell_type": "code",
   "execution_count": 3,
   "metadata": {},
   "outputs": [],
   "source": [
    "plotly_template = 'plotly_dark'\n",
    "color = 'white' if plotly_template == 'plotly_dark' else 'black'"
   ]
  },
  {
   "cell_type": "code",
   "execution_count": 4,
   "metadata": {},
   "outputs": [],
   "source": [
    "# define custom layout\n",
    "        # plotly scene, layout, and camera\n",
    "camera = dict(\n",
    "    up=dict(x=0, y=1, z=0),\n",
    "    center=dict(x=0, y=0, z=0),\n",
    "    eye=dict(x=0., y=-.8, z=1.5),\n",
    "    projection = dict(type = 'perspective')\n",
    ") \n",
    "\n",
    "scene = dict(\n",
    "    camera = camera,\n",
    "    aspectmode = 'manual',\n",
    "    aspectratio = dict(x=1, y=1, z=z_aspect),\n",
    "    xaxis=dict(\n",
    "        title='X\\' (pc)', \n",
    "        range = [-x_width, x_width],\n",
    "        showgrid=False,\n",
    "        gridcolor = color,\n",
    "        zeroline=True,\n",
    "        zerolinecolor = color,\n",
    "        showline = True,\n",
    "        mirror = True,\n",
    "        showspikes = False,\n",
    "        nticks = 5,\n",
    "        linecolor = color,\n",
    "        linewidth = 2.,\n",
    "    ), \n",
    "    yaxis=dict(\n",
    "        title='Y\\' (pc)', \n",
    "        range = [-y_width, y_width],\n",
    "        showgrid=False,\n",
    "        gridcolor = color,\n",
    "        zeroline=True,\n",
    "        zerolinecolor = color,\n",
    "        showline = True,\n",
    "        mirror = True,\n",
    "        showspikes = False,\n",
    "        nticks = 5,\n",
    "        linecolor = color,\n",
    "        linewidth = 2.,\n",
    "    ), \n",
    "    zaxis=dict(\n",
    "        title='Z\\' (pc)', \n",
    "        range = [-z_width, z_width],\n",
    "        showgrid=False,\n",
    "        gridcolor = color,\n",
    "        zeroline=True,\n",
    "        zerolinecolor = color,\n",
    "        showline = True,\n",
    "        showspikes = False,\n",
    "        mirror = True,\n",
    "        nticks = 5,\n",
    "        linecolor = color,\n",
    "        linewidth = 2.,\n",
    "    )\n",
    ")\n",
    "\n",
    "legend = dict(\n",
    "    x = 0,\n",
    "    y = 1,\n",
    "    title = dict(\n",
    "        text = 'Click to toggle traces on/off',\n",
    "        font = dict(\n",
    "            size = 18,  \n",
    "            color = color\n",
    "        ),  \n",
    "        side = 'top'\n",
    "    ),\n",
    "    font = dict(\n",
    "        size = 14,\n",
    "        family = 'Helvetica',\n",
    "        color = color\n",
    "    ),\n",
    "    itemsizing = 'constant',\n",
    "    bgcolor = 'rgba(0,0,0,0)' # transparent legend\n",
    ")\n",
    "\n",
    "layout = dict(\n",
    "    scene = scene,\n",
    "    template = plotly_template, \n",
    "    dragmode = 'turntable',\n",
    "    legend = legend,\n",
    "    width = width,\n",
    "    height = height\n",
    ")"
   ]
  },
  {
   "cell_type": "code",
   "execution_count": 5,
   "metadata": {},
   "outputs": [],
   "source": [
    "static_traces = []\n",
    "static_traces_times = []\n",
    "\n",
    "\n",
    "# read in Gordian scatter map\n",
    "dfv = pd.read_csv('/Users/cam/Downloads/edenhofer_dust_scatter_new.csv')\n",
    "#dfv = dfv.loc[dfv['extinction'].between(0.0003, 1)]\n",
    "dfv = dfv.loc[dfv['extinction'].between(0.0005, 1)]\n",
    "ds_index = 2\n",
    "scatter_edenhofer = go.Scatter3d(\n",
    "    x=dfv['X'].values[::ds_index],\n",
    "    y=dfv['Y'].values[::ds_index],\n",
    "    z=dfv['Z'].values[::ds_index],\n",
    "    mode='markers',\n",
    "    marker=dict(size=4.,\n",
    "                #color='gray',\n",
    "                color=dfv['extinction'].values[::ds_index],\n",
    "                colorscale='Gray',\n",
    "                cmin = 0.0005,\n",
    "                cmax = 0.005,\n",
    "                symbol='circle',\n",
    "                opacity=.04),\n",
    "    line = dict(color = 'gray', width = 0.),\n",
    "    name='Edenhofer Dust',\n",
    "    visible = True,\n",
    "    hovertext='Edenhofer Dust',\n",
    "    hoverinfo='skip'\n",
    "    )\n",
    "static_traces.append(scatter_edenhofer)\n",
    "static_traces_times.append([0.]) # only show at t=0\n",
    "\n",
    "\n",
    "hdu = fits.open('/Users/cam/Downloads/Local_Bubble_Pelgrims2020.fits')\n",
    "x = hdu[1].data['x'][::4]\n",
    "y = hdu[1].data['y'][::4]\n",
    "z = hdu[1].data['z'][::4]\n",
    "\n",
    "scatter_lb = go.Scatter3d(\n",
    "    x=x,\n",
    "    y=y,\n",
    "    z=z,\n",
    "    mode='markers',\n",
    "    marker=dict(size=1,\n",
    "                color='#6495ED',\n",
    "                symbol='circle',\n",
    "                opacity=.05),\n",
    "    name='Local Bubble',\n",
    "    visible = 'legendonly',\n",
    "    hovertext='Local Bubble')\n",
    "static_traces.append(scatter_lb)\n",
    "static_traces_times.append([0.]) # only show at t=0"
   ]
  },
  {
   "cell_type": "code",
   "execution_count": 6,
   "metadata": {},
   "outputs": [],
   "source": [
    "df_hunt_gagne = pd.read_csv('/Users/cam/Downloads/cluster_sample_data.csv')\n",
    "# limit to only necessary columns\n",
    "df_hunt_gagne = df_hunt_gagne[['name', 'family', 'age_myr', 'U', 'V', 'W', 'x_helio', 'y_helio', 'z_helio', 'n_stars']]\n",
    "# rename columns if necessary to be consistent with the package\n",
    "df_hunt_gagne = df_hunt_gagne.rename(columns={'x_helio' : 'x', 'y_helio' : 'y', 'z_helio' : 'z'})\n",
    "\n",
    "m6 = df_hunt_gagne[df_hunt_gagne['family'] == 'm6']\n",
    "cr135 = df_hunt_gagne[df_hunt_gagne['family'] == 'cr135']\n",
    "ap = df_hunt_gagne[df_hunt_gagne['family'] == 'alphaPer']\n",
    "\n",
    "df_hunt_partIII = pd.read_csv('/Users/cam/Downloads/hunt_part3_clusters.csv')\n",
    "df_hunt_partIII_to_merge = df_hunt_partIII[['name', 'kind']]\n",
    "m6 = m6.merge(df_hunt_partIII_to_merge, on='name', how='left')\n",
    "\n",
    "sun = pd.DataFrame({'name' : ['Sun'], 'family' : ['Sun'], 'age_myr' : [8000], 'U' : [0.], 'V' : [0.], 'W' : [0.], 'x' : [0.], 'y' : [0.], 'z' : [0.], 'n_stars' : [1]})\n",
    "\n",
    "#m6_reference_frame = m6[['x', 'y', 'z', 'U', 'V', 'W']].median().values"
   ]
  },
  {
   "cell_type": "code",
   "execution_count": 7,
   "metadata": {},
   "outputs": [
    {
     "name": "stderr",
     "output_type": "stream",
     "text": [
      "                                      \r"
     ]
    }
   ],
   "source": [
    "m6 = StarClusterData(m6, data_name = 'M6', min_size = 0, max_size = 12, color = 'cyan', opacity = 1.)\n",
    "sun_data = StarClusterData(sun, data_name = 'Sun', min_size = 0, max_size = 6, color = 'yellow', opacity = 1.)\n",
    "\n",
    "sc_m6 = StarClusterCollection([m6, sun_data])\n",
    "plot_3d = StarClusters3DPlotter(data_collection = sc_m6)\n",
    "\n",
    "save_name = '/Users/cam/Downloads/m6_3d_plot.html'\n",
    "time_int = np.round(np.arange(0., -60.5, -0.5), 1)\n",
    "fig3d_m6 = plot_3d.generate_3d_plot(\n",
    "    time = time_int,\n",
    "    show = False, \n",
    "    save_name =save_name, \n",
    "    figure_layout=layout, \n",
    "    static_traces = static_traces, \n",
    "    static_traces_times = static_traces_times, \n",
    "    focus_group = 'M6'\n",
    ")"
   ]
  },
  {
   "cell_type": "code",
   "execution_count": 8,
   "metadata": {},
   "outputs": [
    {
     "data": {
      "text/plain": [
       "array([  44.99629761, -387.09166252,  -26.99161595,  -24.9792708 ,\n",
       "        -17.13778873,   -9.78807908])"
      ]
     },
     "execution_count": 8,
     "metadata": {},
     "output_type": "execute_result"
    }
   ],
   "source": [
    "m6.df[['x', 'y', 'z', 'U', 'V', 'W']].median().values"
   ]
  },
  {
   "cell_type": "code",
   "execution_count": null,
   "metadata": {},
   "outputs": [],
   "source": []
  }
 ],
 "metadata": {
  "kernelspec": {
   "display_name": "p311",
   "language": "python",
   "name": "python3"
  },
  "language_info": {
   "codemirror_mode": {
    "name": "ipython",
    "version": 3
   },
   "file_extension": ".py",
   "mimetype": "text/x-python",
   "name": "python",
   "nbconvert_exporter": "python",
   "pygments_lexer": "ipython3",
   "version": "3.11.0"
  }
 },
 "nbformat": 4,
 "nbformat_minor": 2
}
