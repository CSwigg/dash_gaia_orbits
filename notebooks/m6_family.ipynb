{
 "cells": [
  {
   "cell_type": "code",
   "execution_count": 1,
   "metadata": {},
   "outputs": [
    {
     "name": "stdout",
     "output_type": "stream",
     "text": [
      "\u001b[91mA new version of galpy (1.9.2) is available, please upgrade using pip/conda/... to get the latest features and bug fixes!\u001b[0m\n"
     ]
    }
   ],
   "source": [
    "import numpy as np \n",
    "import pandas as pd\n",
    "import sys\n",
    "from astropy.io import fits\n",
    "import plotly.graph_objects as go\n",
    "sys.path.append('../../dash_gaia_orbits/')\n",
    "\n",
    "# Package imports\n",
    "from dash_gaia_orbits.dash_test import create_dash_app\n",
    "from dash_gaia_orbits import StarClusterData, StarClusterCollection, StarClusters3DPlotter"
   ]
  },
  {
   "cell_type": "code",
   "execution_count": 2,
   "metadata": {},
   "outputs": [],
   "source": [
    "df_hunt_gagne = pd.read_csv('/Users/cam/Downloads/cluster_sample_data.csv')\n",
    "# limit to only necessary columns\n",
    "df_hunt_gagne = df_hunt_gagne[['name', 'family', 'age_myr', 'U', 'V', 'W', 'x_helio', 'y_helio', 'z_helio', 'n_stars']]\n",
    "# rename columns if necessary to be consistent with the package\n",
    "df_hunt_gagne = df_hunt_gagne.rename(columns={'x_helio' : 'x', 'y_helio' : 'y', 'z_helio' : 'z'})\n",
    "\n",
    "cr135 = df_hunt_gagne[df_hunt_gagne['family'] == 'cr135']\n",
    "m6 = df_hunt_gagne[df_hunt_gagne['family'] == 'm6']\n",
    "ap = df_hunt_gagne[df_hunt_gagne['family'] == 'alphaPer']\n",
    "\n",
    "m6_reference_frame = m6[['x', 'y', 'z', 'U', 'V', 'W']].mean().values"
   ]
  },
  {
   "cell_type": "code",
   "execution_count": null,
   "metadata": {},
   "outputs": [],
   "source": [
    "m6_data = StarClusterData(m6, data_name = 'M6 family', min_size = 0, max_size = 5, color = 'cyan', opacity = 1)\n",
    "sc_m6 = StarClusterCollection([m6_data])\n",
    "sc_m6.integrate_all_orbits(time=np.arange(0., -61., -1.), reference_frame_center=m6_reference_frame)\n",
    "fig3d_m6 = plot_3d.generate_3d_plot(collection = sc_m6, show = True, save_name =save_name, figure_layout=layout, static_traces = static_traces, static_traces_times = static_traces_times, reference_frame_center = m6_reference_frame)"
   ]
  }
 ],
 "metadata": {
  "kernelspec": {
   "display_name": "p311",
   "language": "python",
   "name": "python3"
  },
  "language_info": {
   "codemirror_mode": {
    "name": "ipython",
    "version": 3
   },
   "file_extension": ".py",
   "mimetype": "text/x-python",
   "name": "python",
   "nbconvert_exporter": "python",
   "pygments_lexer": "ipython3",
   "version": "3.11.0"
  }
 },
 "nbformat": 4,
 "nbformat_minor": 2
}
