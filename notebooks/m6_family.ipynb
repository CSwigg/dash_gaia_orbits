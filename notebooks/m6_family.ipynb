{
 "cells": [
  {
   "cell_type": "code",
   "execution_count": 1,
   "metadata": {},
   "outputs": [
    {
     "name": "stdout",
     "output_type": "stream",
     "text": [
      "\u001b[91mA new version of galpy (1.9.2) is available, please upgrade using pip/conda/... to get the latest features and bug fixes!\u001b[0m\n"
     ]
    }
   ],
   "source": [
    "import numpy as np \n",
    "import pandas as pd\n",
    "import sys\n",
    "from astropy.io import fits\n",
    "import plotly.graph_objects as go\n",
    "sys.path.append('../../dash_gaia_orbits/')\n",
    "\n",
    "# Package imports\n",
    "from dash_gaia_orbits.dash_test import create_dash_app\n",
    "from dash_gaia_orbits import StarClusterData, StarClusterCollection, StarClusters3DPlotter"
   ]
  },
  {
   "cell_type": "code",
   "execution_count": 2,
   "metadata": {},
   "outputs": [],
   "source": [
    "df_hunt_gagne = pd.read_csv('/Users/cam/Downloads/cluster_sample_data.csv')\n",
    "# limit to only necessary columns\n",
    "df_hunt_gagne = df_hunt_gagne[['name', 'family', 'age_myr', 'U', 'V', 'W', 'x_helio', 'y_helio', 'z_helio', 'n_stars', 'mass_50']]\n",
    "# rename columns if necessary to be consistent with the package\n",
    "df_hunt_gagne = df_hunt_gagne.rename(columns={'x_helio' : 'x', 'y_helio' : 'y', 'z_helio' : 'z'})\n",
    "\n",
    "m6 = df_hunt_gagne[df_hunt_gagne['family'] == 'm6']\n",
    "\n",
    "df_hunt_partIII = pd.read_csv('/Users/cam/Downloads/hunt_part3_clusters.csv')\n",
    "df_hunt_partIII_to_merge = df_hunt_partIII[['name', 'kind']]\n",
    "m6 = m6.merge(df_hunt_partIII_to_merge, on='name', how='left')\n",
    "\n",
    "m6_reference_frame = m6[['x', 'y', 'z', 'U', 'V', 'W']].mean().values\n",
    "m6_open_clusters = m6.loc[m6['kind'] == 'o']\n",
    "m6_moving_groups = m6.loc[m6['kind'] == 'm']"
   ]
  },
  {
   "cell_type": "code",
   "execution_count": 3,
   "metadata": {},
   "outputs": [],
   "source": [
    "# basic custom layout properties\n",
    "width = 800\n",
    "height = 800\n",
    "x_width = 700\n",
    "y_width = x_width\n",
    "z_width = 400\n",
    "z_aspect = 1.*(z_width/x_width)"
   ]
  },
  {
   "cell_type": "code",
   "execution_count": 4,
   "metadata": {},
   "outputs": [],
   "source": [
    "# define custom layout\n",
    "        # plotly scene, layout, and camera\n",
    "camera = dict(\n",
    "    up=dict(x=0, y=1, z=0),\n",
    "    center=dict(x=0, y=0, z=0),\n",
    "    eye=dict(x=0., y=-.8, z=1.5),\n",
    "    projection = dict(type = 'perspective')\n",
    ") \n",
    "\n",
    "scene = dict(\n",
    "    camera = camera,\n",
    "    aspectmode = 'manual',\n",
    "    aspectratio = dict(x=1, y=1, z=z_aspect),\n",
    "    xaxis=dict(\n",
    "        title='X\\' (pc)', \n",
    "        range = [-x_width, x_width],\n",
    "        showgrid=False,\n",
    "        zeroline=False,\n",
    "        showline = True,\n",
    "        mirror = True,\n",
    "        showspikes = False,\n",
    "        nticks = 5,\n",
    "        linecolor = 'white',\n",
    "        linewidth = 2.,\n",
    "    ), \n",
    "    yaxis=dict(\n",
    "        title='Y\\' (pc)', \n",
    "        range = [-y_width, y_width],\n",
    "        showgrid=False,\n",
    "        zeroline=False,\n",
    "        showline = True,\n",
    "        mirror = True,\n",
    "        showspikes = False,\n",
    "        nticks = 5,\n",
    "        linecolor = 'white',\n",
    "        linewidth = 2.,\n",
    "    ), \n",
    "    zaxis=dict(\n",
    "        title='Z\\' (pc)', \n",
    "        range = [-z_width, z_width],\n",
    "        showgrid=False,\n",
    "        zeroline=False,\n",
    "        showline = True,\n",
    "        showspikes = False,\n",
    "        mirror = True,\n",
    "        nticks = 5,\n",
    "        linecolor = 'white',\n",
    "        linewidth = 2.,\n",
    "    )\n",
    ")\n",
    "\n",
    "legend = dict(\n",
    "    x = 0,\n",
    "    y = 1,\n",
    "    title = dict(\n",
    "        text = 'Click to toggle traces on/off',\n",
    "        font = dict(\n",
    "            size = 18,  \n",
    "            color = 'white'\n",
    "        ),  \n",
    "        side = 'top'\n",
    "    ),\n",
    "    font = dict(\n",
    "        size = 14,\n",
    "        family = 'Arial',\n",
    "        color = 'white'\n",
    "    ),\n",
    "    itemsizing = 'constant',\n",
    "    bgcolor = 'rgba(0,0,0,0)' # transparent legend\n",
    ")\n",
    "\n",
    "layout = dict(\n",
    "    scene = scene,\n",
    "    template = 'plotly_dark', \n",
    "    dragmode = 'turntable',\n",
    "    legend = legend,\n",
    "    width = width,\n",
    "    height = height\n",
    ")"
   ]
  },
  {
   "cell_type": "code",
   "execution_count": 5,
   "metadata": {},
   "outputs": [
    {
     "name": "stderr",
     "output_type": "stream",
     "text": [
      "                                      \r"
     ]
    },
    {
     "ename": "KeyError",
     "evalue": "'size'",
     "output_type": "error",
     "traceback": [
      "\u001b[0;31m---------------------------------------------------------------------------\u001b[0m",
      "\u001b[0;31mKeyError\u001b[0m                                  Traceback (most recent call last)",
      "File \u001b[0;32m~/opt/miniconda3/envs/p311/lib/python3.11/site-packages/pandas/core/indexes/base.py:3802\u001b[0m, in \u001b[0;36mIndex.get_loc\u001b[0;34m(self, key)\u001b[0m\n\u001b[1;32m   3801\u001b[0m \u001b[38;5;28;01mtry\u001b[39;00m:\n\u001b[0;32m-> 3802\u001b[0m     \u001b[38;5;28;01mreturn\u001b[39;00m \u001b[38;5;28;43mself\u001b[39;49m\u001b[38;5;241;43m.\u001b[39;49m\u001b[43m_engine\u001b[49m\u001b[38;5;241;43m.\u001b[39;49m\u001b[43mget_loc\u001b[49m\u001b[43m(\u001b[49m\u001b[43mcasted_key\u001b[49m\u001b[43m)\u001b[49m\n\u001b[1;32m   3803\u001b[0m \u001b[38;5;28;01mexcept\u001b[39;00m \u001b[38;5;167;01mKeyError\u001b[39;00m \u001b[38;5;28;01mas\u001b[39;00m err:\n",
      "File \u001b[0;32mindex.pyx:153\u001b[0m, in \u001b[0;36mpandas._libs.index.IndexEngine.get_loc\u001b[0;34m()\u001b[0m\n",
      "File \u001b[0;32mindex.pyx:182\u001b[0m, in \u001b[0;36mpandas._libs.index.IndexEngine.get_loc\u001b[0;34m()\u001b[0m\n",
      "File \u001b[0;32mpandas/_libs/hashtable_class_helper.pxi:7081\u001b[0m, in \u001b[0;36mpandas._libs.hashtable.PyObjectHashTable.get_item\u001b[0;34m()\u001b[0m\n",
      "File \u001b[0;32mpandas/_libs/hashtable_class_helper.pxi:7089\u001b[0m, in \u001b[0;36mpandas._libs.hashtable.PyObjectHashTable.get_item\u001b[0;34m()\u001b[0m\n",
      "\u001b[0;31mKeyError\u001b[0m: 'size'",
      "\nThe above exception was the direct cause of the following exception:\n",
      "\u001b[0;31mKeyError\u001b[0m                                  Traceback (most recent call last)",
      "Cell \u001b[0;32mIn[5], line 7\u001b[0m\n\u001b[1;32m      5\u001b[0m sc_m6 \u001b[38;5;241m=\u001b[39m StarClusterCollection([m6_oc_data, m6_mg_data])\n\u001b[1;32m      6\u001b[0m sc_m6\u001b[38;5;241m.\u001b[39mintegrate_all_orbits(time\u001b[38;5;241m=\u001b[39mnp\u001b[38;5;241m.\u001b[39marange(\u001b[38;5;241m0.\u001b[39m, \u001b[38;5;241m-\u001b[39m\u001b[38;5;241m61.\u001b[39m, \u001b[38;5;241m-\u001b[39m\u001b[38;5;241m1.\u001b[39m), reference_frame_center\u001b[38;5;241m=\u001b[39mm6_reference_frame)\n\u001b[0;32m----> 7\u001b[0m fig3d_m6 \u001b[38;5;241m=\u001b[39m \u001b[43mplot_3d\u001b[49m\u001b[38;5;241;43m.\u001b[39;49m\u001b[43mgenerate_3d_plot\u001b[49m\u001b[43m(\u001b[49m\u001b[43mcollection\u001b[49m\u001b[43m \u001b[49m\u001b[38;5;241;43m=\u001b[39;49m\u001b[43m \u001b[49m\u001b[43msc_m6\u001b[49m\u001b[43m,\u001b[49m\u001b[43m \u001b[49m\u001b[43mshow\u001b[49m\u001b[43m \u001b[49m\u001b[38;5;241;43m=\u001b[39;49m\u001b[43m \u001b[49m\u001b[38;5;28;43;01mTrue\u001b[39;49;00m\u001b[43m,\u001b[49m\u001b[43m \u001b[49m\u001b[43msave_name\u001b[49m\u001b[43m \u001b[49m\u001b[38;5;241;43m=\u001b[39;49m\u001b[43msave_name\u001b[49m\u001b[43m,\u001b[49m\u001b[43m \u001b[49m\u001b[43mfigure_layout\u001b[49m\u001b[38;5;241;43m=\u001b[39;49m\u001b[43mlayout\u001b[49m\u001b[43m,\u001b[49m\u001b[43m \u001b[49m\u001b[43mstatic_traces\u001b[49m\u001b[43m \u001b[49m\u001b[38;5;241;43m=\u001b[39;49m\u001b[43m \u001b[49m\u001b[38;5;28;43;01mNone\u001b[39;49;00m\u001b[43m,\u001b[49m\u001b[43m \u001b[49m\u001b[43mstatic_traces_times\u001b[49m\u001b[43m \u001b[49m\u001b[38;5;241;43m=\u001b[39;49m\u001b[43m \u001b[49m\u001b[38;5;28;43;01mNone\u001b[39;49;00m\u001b[43m,\u001b[49m\u001b[43m \u001b[49m\u001b[43mreference_frame_center\u001b[49m\u001b[43m \u001b[49m\u001b[38;5;241;43m=\u001b[39;49m\u001b[43m \u001b[49m\u001b[43mm6_reference_frame\u001b[49m\u001b[43m)\u001b[49m\n",
      "File \u001b[0;32m~/Desktop/astro_research/radcliffe/traceback_orbits_package/dash_gaia_orbits/notebooks/../../dash_gaia_orbits/dash_gaia_orbits/StarClusters3DPlotter.py:202\u001b[0m, in \u001b[0;36mStarClusters3DPlotter.generate_3d_plot\u001b[0;34m(self, collection, figure_layout, show, save_name, static_traces, static_traces_times, reference_frame_center)\u001b[0m\n\u001b[1;32m    193\u001b[0m         \u001b[38;5;28;01mcontinue\u001b[39;00m\n\u001b[1;32m    195\u001b[0m     df_t \u001b[38;5;241m=\u001b[39m df_int[df_int[\u001b[38;5;124m'\u001b[39m\u001b[38;5;124mtime\u001b[39m\u001b[38;5;124m'\u001b[39m] \u001b[38;5;241m==\u001b[39m t]\n\u001b[1;32m    196\u001b[0m     scatter_cluster_group_t \u001b[38;5;241m=\u001b[39m go\u001b[38;5;241m.\u001b[39mScatter3d(\n\u001b[1;32m    197\u001b[0m         x\u001b[38;5;241m=\u001b[39mdf_t[\u001b[38;5;124m'\u001b[39m\u001b[38;5;124mx\u001b[39m\u001b[38;5;124m'\u001b[39m],\n\u001b[1;32m    198\u001b[0m         y\u001b[38;5;241m=\u001b[39mdf_t[\u001b[38;5;124m'\u001b[39m\u001b[38;5;124my\u001b[39m\u001b[38;5;124m'\u001b[39m],\n\u001b[1;32m    199\u001b[0m         z\u001b[38;5;241m=\u001b[39mdf_t[\u001b[38;5;124m'\u001b[39m\u001b[38;5;124mz\u001b[39m\u001b[38;5;124m'\u001b[39m],\n\u001b[1;32m    200\u001b[0m         mode\u001b[38;5;241m=\u001b[39m\u001b[38;5;124m'\u001b[39m\u001b[38;5;124mmarkers\u001b[39m\u001b[38;5;124m'\u001b[39m,\n\u001b[1;32m    201\u001b[0m         marker \u001b[38;5;241m=\u001b[39m \u001b[38;5;28mdict\u001b[39m(\n\u001b[0;32m--> 202\u001b[0m             size \u001b[38;5;241m=\u001b[39m \u001b[43mdf_t\u001b[49m\u001b[43m[\u001b[49m\u001b[38;5;124;43m'\u001b[39;49m\u001b[38;5;124;43msize\u001b[39;49m\u001b[38;5;124;43m'\u001b[39;49m\u001b[43m]\u001b[49m,\n\u001b[1;32m    203\u001b[0m             color \u001b[38;5;241m=\u001b[39m cluster_group\u001b[38;5;241m.\u001b[39mcolor,\n\u001b[1;32m    204\u001b[0m             opacity \u001b[38;5;241m=\u001b[39m cluster_group\u001b[38;5;241m.\u001b[39mopacity,\n\u001b[1;32m    205\u001b[0m             line \u001b[38;5;241m=\u001b[39m \u001b[38;5;28mdict\u001b[39m(\n\u001b[1;32m    206\u001b[0m                 color \u001b[38;5;241m=\u001b[39m \u001b[38;5;124m'\u001b[39m\u001b[38;5;124mblack\u001b[39m\u001b[38;5;124m'\u001b[39m,\n\u001b[1;32m    207\u001b[0m                 width \u001b[38;5;241m=\u001b[39m \u001b[38;5;241m0.0\u001b[39m\n\u001b[1;32m    208\u001b[0m             )\n\u001b[1;32m    209\u001b[0m         ),\n\u001b[1;32m    210\u001b[0m         hovertext \u001b[38;5;241m=\u001b[39m df_t[\u001b[38;5;124m'\u001b[39m\u001b[38;5;124mname\u001b[39m\u001b[38;5;124m'\u001b[39m],\n\u001b[1;32m    211\u001b[0m         name\u001b[38;5;241m=\u001b[39mcluster_group\u001b[38;5;241m.\u001b[39mdata_name\n\u001b[1;32m    212\u001b[0m     ) \n\u001b[1;32m    213\u001b[0m     scatter_list\u001b[38;5;241m.\u001b[39mappend(scatter_cluster_group_t)\n\u001b[1;32m    214\u001b[0m frame[\u001b[38;5;124m'\u001b[39m\u001b[38;5;124mdata\u001b[39m\u001b[38;5;124m'\u001b[39m] \u001b[38;5;241m=\u001b[39m scatter_list \n",
      "File \u001b[0;32m~/opt/miniconda3/envs/p311/lib/python3.11/site-packages/pandas/core/frame.py:4090\u001b[0m, in \u001b[0;36mDataFrame.__getitem__\u001b[0;34m(self, key)\u001b[0m\n\u001b[1;32m   4088\u001b[0m \u001b[38;5;28;01mif\u001b[39;00m \u001b[38;5;28mself\u001b[39m\u001b[38;5;241m.\u001b[39mcolumns\u001b[38;5;241m.\u001b[39mnlevels \u001b[38;5;241m>\u001b[39m \u001b[38;5;241m1\u001b[39m:\n\u001b[1;32m   4089\u001b[0m     \u001b[38;5;28;01mreturn\u001b[39;00m \u001b[38;5;28mself\u001b[39m\u001b[38;5;241m.\u001b[39m_getitem_multilevel(key)\n\u001b[0;32m-> 4090\u001b[0m indexer \u001b[38;5;241m=\u001b[39m \u001b[38;5;28;43mself\u001b[39;49m\u001b[38;5;241;43m.\u001b[39;49m\u001b[43mcolumns\u001b[49m\u001b[38;5;241;43m.\u001b[39;49m\u001b[43mget_loc\u001b[49m\u001b[43m(\u001b[49m\u001b[43mkey\u001b[49m\u001b[43m)\u001b[49m\n\u001b[1;32m   4091\u001b[0m \u001b[38;5;28;01mif\u001b[39;00m is_integer(indexer):\n\u001b[1;32m   4092\u001b[0m     indexer \u001b[38;5;241m=\u001b[39m [indexer]\n",
      "File \u001b[0;32m~/opt/miniconda3/envs/p311/lib/python3.11/site-packages/pandas/core/indexes/base.py:3809\u001b[0m, in \u001b[0;36mIndex.get_loc\u001b[0;34m(self, key)\u001b[0m\n\u001b[1;32m   3804\u001b[0m     \u001b[38;5;28;01mif\u001b[39;00m \u001b[38;5;28misinstance\u001b[39m(casted_key, \u001b[38;5;28mslice\u001b[39m) \u001b[38;5;129;01mor\u001b[39;00m (\n\u001b[1;32m   3805\u001b[0m         \u001b[38;5;28misinstance\u001b[39m(casted_key, abc\u001b[38;5;241m.\u001b[39mIterable)\n\u001b[1;32m   3806\u001b[0m         \u001b[38;5;129;01mand\u001b[39;00m \u001b[38;5;28many\u001b[39m(\u001b[38;5;28misinstance\u001b[39m(x, \u001b[38;5;28mslice\u001b[39m) \u001b[38;5;28;01mfor\u001b[39;00m x \u001b[38;5;129;01min\u001b[39;00m casted_key)\n\u001b[1;32m   3807\u001b[0m     ):\n\u001b[1;32m   3808\u001b[0m         \u001b[38;5;28;01mraise\u001b[39;00m InvalidIndexError(key)\n\u001b[0;32m-> 3809\u001b[0m     \u001b[38;5;28;01mraise\u001b[39;00m \u001b[38;5;167;01mKeyError\u001b[39;00m(key) \u001b[38;5;28;01mfrom\u001b[39;00m \u001b[38;5;21;01merr\u001b[39;00m\n\u001b[1;32m   3810\u001b[0m \u001b[38;5;28;01mexcept\u001b[39;00m \u001b[38;5;167;01mTypeError\u001b[39;00m:\n\u001b[1;32m   3811\u001b[0m     \u001b[38;5;66;03m# If we have a listlike key, _check_indexing_error will raise\u001b[39;00m\n\u001b[1;32m   3812\u001b[0m     \u001b[38;5;66;03m#  InvalidIndexError. Otherwise we fall through and re-raise\u001b[39;00m\n\u001b[1;32m   3813\u001b[0m     \u001b[38;5;66;03m#  the TypeError.\u001b[39;00m\n\u001b[1;32m   3814\u001b[0m     \u001b[38;5;28mself\u001b[39m\u001b[38;5;241m.\u001b[39m_check_indexing_error(key)\n",
      "\u001b[0;31mKeyError\u001b[0m: 'size'"
     ]
    }
   ],
   "source": [
    "save_name = 'm6_3d_plot.html'\n",
    "plot_3d = StarClusters3DPlotter()\n",
    "m6_oc_data = StarClusterData(m6_open_clusters, data_name = 'OCs', min_size = 0, max_size = 10, color = 'cyan', opacity = 1)\n",
    "m6_mg_data = StarClusterData(m6_moving_groups, data_name = 'MGs', min_size = 0, max_size = 5, color = 'cyan', opacity = 1.)\n",
    "sc_m6 = StarClusterCollection([m6_oc_data, m6_mg_data])\n",
    "sc_m6.integrate_all_orbits(time=np.arange(0., -61., -1.), reference_frame_center=m6_reference_frame)\n",
    "fig3d_m6 = plot_3d.generate_3d_plot(collection = sc_m6, show = True, save_name =save_name, figure_layout=layout, static_traces = None, static_traces_times = None, reference_frame_center = m6_reference_frame)"
   ]
  },
  {
   "cell_type": "code",
   "execution_count": null,
   "metadata": {},
   "outputs": [],
   "source": []
  }
 ],
 "metadata": {
  "kernelspec": {
   "display_name": "p311",
   "language": "python",
   "name": "python3"
  },
  "language_info": {
   "codemirror_mode": {
    "name": "ipython",
    "version": 3
   },
   "file_extension": ".py",
   "mimetype": "text/x-python",
   "name": "python",
   "nbconvert_exporter": "python",
   "pygments_lexer": "ipython3",
   "version": "3.11.0"
  }
 },
 "nbformat": 4,
 "nbformat_minor": 2
}
