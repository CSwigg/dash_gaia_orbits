{
 "cells": [
  {
   "cell_type": "code",
   "execution_count": 1,
   "metadata": {},
   "outputs": [],
   "source": [
    "import unittest\n",
    "import pandas as pd\n",
    "import numpy as np\n",
    "import sys\n",
    "sys.path.append('../../dash_gaia_orbits/')\n",
    "\n",
    "from cluster_traces import StarClusterData, StarClusterCollection"
   ]
  },
  {
   "cell_type": "code",
   "execution_count": 2,
   "metadata": {},
   "outputs": [],
   "source": [
    "time_array = np.arange(0, 30e6, 1e6)"
   ]
  },
  {
   "cell_type": "code",
   "execution_count": 3,
   "metadata": {},
   "outputs": [],
   "source": [
    "cr135 = pd.read_csv('/Users/cam/Downloads/cr135_family_nov17.csv')\n",
    "m6 = pd.read_csv('/Users/cam/Downloads/m6_family_nov17.csv')\n",
    "cr135 = cr135[['name', 'age_myr', 'x', 'y', 'z', 'U', 'V', 'W']]\n",
    "m6 = m6[['name', 'age_myr', 'x', 'y', 'z', 'U', 'V', 'W']]"
   ]
  },
  {
   "cell_type": "code",
   "execution_count": 4,
   "metadata": {},
   "outputs": [
    {
     "name": "stderr",
     "output_type": "stream",
     "text": [
      "  0%|          | 0/39 [00:00<?, ?it/s]"
     ]
    },
    {
     "name": "stderr",
     "output_type": "stream",
     "text": [
      "                                      \r"
     ]
    }
   ],
   "source": [
    "cr135_sc = StarClusterData(cr135, 'Cr135')\n",
    "m6_sc = StarClusterData(m6, 'M6')\n",
    "sc_collection = StarClusterCollection([cr135_sc, m6_sc])\n",
    "sc_collection.integrate_all_orbits(time_array)"
   ]
  }
 ],
 "metadata": {
  "kernelspec": {
   "display_name": "p311",
   "language": "python",
   "name": "python3"
  },
  "language_info": {
   "codemirror_mode": {
    "name": "ipython",
    "version": 3
   },
   "file_extension": ".py",
   "mimetype": "text/x-python",
   "name": "python",
   "nbconvert_exporter": "python",
   "pygments_lexer": "ipython3",
   "version": "3.11.0"
  }
 },
 "nbformat": 4,
 "nbformat_minor": 2
}
