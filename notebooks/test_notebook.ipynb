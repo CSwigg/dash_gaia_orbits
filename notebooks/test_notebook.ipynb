{
 "cells": [
  {
   "cell_type": "code",
   "execution_count": 14,
   "metadata": {},
   "outputs": [],
   "source": [
    "import pandas as pd\n",
    "import numpy as np\n",
    "import sys\n",
    "from dash_gaia_orbits.dash_test import create_dash_app\n",
    "sys.path.append('../../dash_gaia_orbits/')\n",
    "\n",
    "from dash_gaia_orbits import StarClusterData, StarClusterCollection, StarClusters3DPlotter"
   ]
  },
  {
   "cell_type": "code",
   "execution_count": 15,
   "metadata": {},
   "outputs": [],
   "source": [
    "time_array = np.arange(0, -60.5, -0.5)\n",
    "cr135 = pd.read_csv('/Users/cam/Downloads/cr135_family_nov17.csv')\n",
    "m6 = pd.read_csv('/Users/cam/Downloads/m6_family_nov17.csv')\n",
    "cr135 = cr135[['name', 'age_myr', 'n_stars', 'x', 'y', 'z', 'U', 'V', 'W']]\n",
    "m6 = m6[['name', 'age_myr', 'n_stars', 'x', 'y', 'z', 'U', 'V', 'W']]"
   ]
  },
  {
   "cell_type": "code",
   "execution_count": 16,
   "metadata": {},
   "outputs": [
    {
     "name": "stderr",
     "output_type": "stream",
     "text": [
      "                                      \r"
     ]
    }
   ],
   "source": [
    "cr135_sc = StarClusterData(cr135, 'Cr135', color = 'orange', opacity = 1., min_size = 1., max_size = 5.)\n",
    "m6_sc = StarClusterData(m6, 'M6', color = 'cyan', opacity = 1., min_size = 1., max_size = 5.)\n",
    "sc_collection = StarClusterCollection([cr135_sc, m6_sc])\n",
    "sc_collection.integrate_all_orbits(time_array)"
   ]
  },
  {
   "cell_type": "code",
   "execution_count": 17,
   "metadata": {},
   "outputs": [],
   "source": [
    "fig3d = StarClusters3DPlotter()\n",
    "#fig3d.generate_3d_plot(sc_collection)"
   ]
  },
  {
   "cell_type": "code",
   "execution_count": 18,
   "metadata": {},
   "outputs": [],
   "source": [
    "a = create_dash_app(sc_collection, fig3d)"
   ]
  },
  {
   "cell_type": "code",
   "execution_count": 19,
   "metadata": {},
   "outputs": [
    {
     "data": {
      "text/html": [
       "\n",
       "        <iframe\n",
       "            width=\"100%\"\n",
       "            height=\"650\"\n",
       "            src=\"http://127.0.0.1:8050/\"\n",
       "            frameborder=\"0\"\n",
       "            allowfullscreen\n",
       "            \n",
       "        ></iframe>\n",
       "        "
      ],
      "text/plain": [
       "<IPython.lib.display.IFrame at 0x1853894d0>"
      ]
     },
     "metadata": {},
     "output_type": "display_data"
    }
   ],
   "source": [
    "a.run()"
   ]
  },
  {
   "cell_type": "code",
   "execution_count": null,
   "metadata": {},
   "outputs": [],
   "source": []
  }
 ],
 "metadata": {
  "kernelspec": {
   "display_name": "p311",
   "language": "python",
   "name": "python3"
  },
  "language_info": {
   "codemirror_mode": {
    "name": "ipython",
    "version": 3
   },
   "file_extension": ".py",
   "mimetype": "text/x-python",
   "name": "python",
   "nbconvert_exporter": "python",
   "pygments_lexer": "ipython3",
   "version": "3.11.0"
  }
 },
 "nbformat": 4,
 "nbformat_minor": 2
}
