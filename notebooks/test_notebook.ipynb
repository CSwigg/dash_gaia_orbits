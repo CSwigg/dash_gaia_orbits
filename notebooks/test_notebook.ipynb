{
 "cells": [
  {
   "cell_type": "code",
   "execution_count": 14,
   "metadata": {},
   "outputs": [],
   "source": [
    "import pandas as pd\n",
    "import numpy as np\n",
    "import sys\n",
    "sys.path.append('../../dash_gaia_orbits/')\n",
    "\n",
    "from dash_gaia_orbits.dash_test import create_dash_app\n",
    "from dash_gaia_orbits import StarClusterData, StarClusterCollection, StarClusters3DPlotter"
   ]
  },
  {
   "cell_type": "markdown",
   "metadata": {},
   "source": [
    "# Read data"
   ]
  },
  {
   "cell_type": "code",
   "execution_count": 15,
   "metadata": {},
   "outputs": [],
   "source": [
    "time_array = np.arange(0, -60.5, -0.5)\n",
    "columns = ['name', 'age_myr', 'n_stars', 'x', 'y', 'z', 'U', 'V', 'W']\n",
    "cr135 = pd.read_csv('/Users/cam/Downloads/cr135_family_nov17.csv')\n",
    "m6 = pd.read_csv('/Users/cam/Downloads/m6_family_nov17.csv')\n",
    "cr135 = cr135[columns]\n",
    "m6 = m6[columns]"
   ]
  },
  {
   "cell_type": "code",
   "execution_count": 16,
   "metadata": {},
   "outputs": [],
   "source": [
    "# reading and manipulating full cluster catalog from Hunt + Reffert 2023\n",
    "df_hunt_full = pd.read_csv('/Users/cam/Downloads/hunt_clusters.csv')\n",
    "younger_clusters = df_hunt_full.loc[\n",
    "    (df_hunt_full['n_stars'] > 5) & \n",
    "    (df_hunt_full['U_err'] < 10) & \n",
    "    (df_hunt_full['V_err'] < 10) & \n",
    "    (df_hunt_full['W_err'] < 10) & \n",
    "    (np.abs(df_hunt_full['U']) < 100) & \n",
    "    (np.abs(df_hunt_full['V']) < 100) & \n",
    "    (np.abs(df_hunt_full['W']) < 100) & \n",
    "    (df_hunt_full.age_myr.between(0, 100)) &\n",
    "    (df_hunt_full.x.between(-1000, 1000)) &\n",
    "    (df_hunt_full.y.between(-1000, 1000)) &\n",
    "    (df_hunt_full.z.between(-1000, 1000))]\n",
    "younger_clusters = younger_clusters[columns]"
   ]
  },
  {
   "cell_type": "code",
   "execution_count": 17,
   "metadata": {},
   "outputs": [
    {
     "name": "stderr",
     "output_type": "stream",
     "text": [
      "  0%|          | 0/765 [00:00<?, ?it/s]"
     ]
    },
    {
     "name": "stderr",
     "output_type": "stream",
     "text": [
      "                                                   \r"
     ]
    }
   ],
   "source": [
    "younger_sc = StarClusterData(younger_clusters, 'Hunt', color = 'white', opacity = 1., min_size = 0.5, max_size = 5.)\n",
    "cr135_sc = StarClusterData(cr135, 'Cr135', color = 'orange', opacity = 1., min_size = 0.5, max_size = 5.)\n",
    "m6_sc = StarClusterData(m6, 'M6', color = 'cyan', opacity = 1., min_size = 0.5, max_size = 5.)\n",
    "sc_collection = StarClusterCollection([younger_sc, cr135_sc, m6_sc])\n",
    "sc_collection.integrate_all_orbits(time_array)"
   ]
  },
  {
   "cell_type": "code",
   "execution_count": 18,
   "metadata": {},
   "outputs": [],
   "source": [
    "fig3d = StarClusters3DPlotter()\n",
    "fig3d.generate_3d_plot(sc_collection, save = True, save_name = '/Users/cam/Downloads/cluster_test_plot.html')"
   ]
  },
  {
   "cell_type": "code",
   "execution_count": 19,
   "metadata": {},
   "outputs": [],
   "source": [
    "a = create_dash_app(sc_collection, fig3d)"
   ]
  },
  {
   "cell_type": "code",
   "execution_count": 20,
   "metadata": {},
   "outputs": [
    {
     "data": {
      "text/html": [
       "\n",
       "        <iframe\n",
       "            width=\"100%\"\n",
       "            height=\"650\"\n",
       "            src=\"http://127.0.0.1:8050/\"\n",
       "            frameborder=\"0\"\n",
       "            allowfullscreen\n",
       "            \n",
       "        ></iframe>\n",
       "        "
      ],
      "text/plain": [
       "<IPython.lib.display.IFrame at 0x18336be10>"
      ]
     },
     "metadata": {},
     "output_type": "display_data"
    }
   ],
   "source": [
    "a.run()"
   ]
  },
  {
   "cell_type": "code",
   "execution_count": null,
   "metadata": {},
   "outputs": [],
   "source": []
  }
 ],
 "metadata": {
  "kernelspec": {
   "display_name": "p311",
   "language": "python",
   "name": "python3"
  },
  "language_info": {
   "codemirror_mode": {
    "name": "ipython",
    "version": 3
   },
   "file_extension": ".py",
   "mimetype": "text/x-python",
   "name": "python",
   "nbconvert_exporter": "python",
   "pygments_lexer": "ipython3",
   "version": "3.11.0"
  }
 },
 "nbformat": 4,
 "nbformat_minor": 2
}
