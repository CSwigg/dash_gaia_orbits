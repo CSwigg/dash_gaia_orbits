{
 "cells": [
  {
   "cell_type": "code",
   "execution_count": 1,
   "metadata": {},
   "outputs": [],
   "source": [
    "import unittest\n",
    "import pandas as pd\n",
    "import numpy as np\n",
    "import sys\n",
    "sys.path.append('../../dash_gaia_orbits/')\n",
    "\n",
    "from cluster_traces import StarClusterData, StarClusterCollection, StarClusters3DPlotter"
   ]
  },
  {
   "cell_type": "code",
   "execution_count": 2,
   "metadata": {},
   "outputs": [],
   "source": [
    "time_array = np.arange(0, -60.5, -0.5)\n",
    "cr135 = pd.read_csv('/Users/cam/Downloads/cr135_family_nov17.csv')\n",
    "m6 = pd.read_csv('/Users/cam/Downloads/m6_family_nov17.csv')\n",
    "cr135 = cr135[['name', 'age_myr', 'n_stars', 'x', 'y', 'z', 'U', 'V', 'W']]\n",
    "m6 = m6[['name', 'age_myr', 'n_stars', 'x', 'y', 'z', 'U', 'V', 'W']]"
   ]
  },
  {
   "cell_type": "code",
   "execution_count": 3,
   "metadata": {},
   "outputs": [
    {
     "name": "stderr",
     "output_type": "stream",
     "text": [
      "                                      \r"
     ]
    }
   ],
   "source": [
    "cr135_sc = StarClusterData(cr135, 'Cr135', color = 'orange', opacity = 1., min_size = 1., max_size = 5.)\n",
    "m6_sc = StarClusterData(m6, 'M6', color = 'cyan', opacity = 1., min_size = 1., max_size = 5.)\n",
    "sc_collection = StarClusterCollection([cr135_sc, m6_sc])\n",
    "sc_collection.integrate_all_orbits(time_array)\n",
    "# m6_sc.set_age_based_sizes(use_n_stars = False)\n",
    "# cr135_sc.set_age_based_sizes(use_n_stars = False)"
   ]
  },
  {
   "cell_type": "code",
   "execution_count": 4,
   "metadata": {},
   "outputs": [],
   "source": [
    "fig3d = StarClusters3DPlotter()\n",
    "#fig3d.generate_3d_plot(sc_collection)"
   ]
  },
  {
   "cell_type": "code",
   "execution_count": 5,
   "metadata": {},
   "outputs": [],
   "source": [
    "from cluster_traces.dash_test import create_dash_app"
   ]
  },
  {
   "cell_type": "code",
   "execution_count": 6,
   "metadata": {},
   "outputs": [],
   "source": [
    "a = create_dash_app(sc_collection, fig3d)"
   ]
  },
  {
   "cell_type": "code",
   "execution_count": 7,
   "metadata": {},
   "outputs": [
    {
     "data": {
      "text/html": [
       "\n",
       "        <iframe\n",
       "            width=\"100%\"\n",
       "            height=\"650\"\n",
       "            src=\"http://127.0.0.1:8050/\"\n",
       "            frameborder=\"0\"\n",
       "            allowfullscreen\n",
       "            \n",
       "        ></iframe>\n",
       "        "
      ],
      "text/plain": [
       "<IPython.lib.display.IFrame at 0x1803f4590>"
      ]
     },
     "metadata": {},
     "output_type": "display_data"
    }
   ],
   "source": [
    "a.run()"
   ]
  },
  {
   "cell_type": "code",
   "execution_count": null,
   "metadata": {},
   "outputs": [],
   "source": []
  }
 ],
 "metadata": {
  "kernelspec": {
   "display_name": "p311",
   "language": "python",
   "name": "python3"
  },
  "language_info": {
   "codemirror_mode": {
    "name": "ipython",
    "version": 3
   },
   "file_extension": ".py",
   "mimetype": "text/x-python",
   "name": "python",
   "nbconvert_exporter": "python",
   "pygments_lexer": "ipython3",
   "version": "3.11.0"
  }
 },
 "nbformat": 4,
 "nbformat_minor": 2
}
