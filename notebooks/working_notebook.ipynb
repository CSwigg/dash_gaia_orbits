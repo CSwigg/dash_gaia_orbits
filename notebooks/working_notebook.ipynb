{
 "cells": [
  {
   "cell_type": "code",
   "execution_count": 1,
   "metadata": {},
   "outputs": [
    {
     "name": "stdout",
     "output_type": "stream",
     "text": [
      "\u001b[91mA new version of galpy (1.9.2) is available, please upgrade using pip/conda/... to get the latest features and bug fixes!\u001b[0m\n"
     ]
    }
   ],
   "source": [
    "import numpy as np \n",
    "import pandas as pd\n",
    "import sys\n",
    "from astropy.io import fits\n",
    "import plotly.graph_objects as go\n",
    "sys.path.append('../../dash_gaia_orbits/')\n",
    "\n",
    "# Package imports\n",
    "from dash_gaia_orbits.dash_test import create_dash_app\n",
    "from dash_gaia_orbits import StarClusterData, StarClusterCollection, StarClusters3DPlotter"
   ]
  },
  {
   "cell_type": "markdown",
   "metadata": {},
   "source": [
    "# Read in cluster data"
   ]
  },
  {
   "cell_type": "code",
   "execution_count": 2,
   "metadata": {},
   "outputs": [],
   "source": [
    "df_hunt_gagne = pd.read_csv('/Users/cam/Downloads/cluster_sample_data.csv')\n",
    "# limit to only necessary columns\n",
    "df_hunt_gagne = df_hunt_gagne[['name', 'family', 'age_myr', 'U', 'V', 'W', 'x_helio', 'y_helio', 'z_helio', 'n_stars']]\n",
    "# rename columns if necessary to be consistent with the package\n",
    "df_hunt_gagne = df_hunt_gagne.rename(columns={'x_helio' : 'x', 'y_helio' : 'y', 'z_helio' : 'z'})\n",
    "\n",
    "cr135 = df_hunt_gagne[df_hunt_gagne['family'] == 'cr135']\n",
    "m6 = df_hunt_gagne[df_hunt_gagne['family'] == 'm6']\n",
    "ap = df_hunt_gagne[df_hunt_gagne['family'] == 'alphaPer']\n",
    "\n",
    "#m6_reference_frame = m6[['x', 'y', 'z', 'U', 'V', 'W']].mean().values"
   ]
  },
  {
   "cell_type": "code",
   "execution_count": 3,
   "metadata": {},
   "outputs": [],
   "source": [
    "# full cluster catalog\n",
    "df_hunt_full = pd.read_csv('/Users/cam/Downloads/hunt_catalog_oct_13.csv')\n",
    "df_hunt_full = df_hunt_full.rename(columns={'n_stars_hunt' : 'n_stars', 'U_new' : 'U', 'V_new' : 'V', 'W_new' : 'W', 'x_hunt_50' : 'x', 'y_hunt_50' : 'y', 'z_hunt_50' : 'z', 'U_err_new' : 'U_err', 'V_err_new' : 'V_err', 'W_err_new' : 'W_err'})"
   ]
  },
  {
   "cell_type": "markdown",
   "metadata": {},
   "source": [
    "# Create star cluster objects"
   ]
  },
  {
   "cell_type": "code",
   "execution_count": 4,
   "metadata": {},
   "outputs": [
    {
     "name": "stderr",
     "output_type": "stream",
     "text": [
      "                                      "
     ]
    },
    {
     "name": "stderr",
     "output_type": "stream",
     "text": [
      "                                      \r"
     ]
    }
   ],
   "source": [
    "cr135_data = StarClusterData(cr135, data_name = 'Cr135 family', min_size = 0, max_size = 5, color = 'orange', opacity = 1)\n",
    "m6_data = StarClusterData(m6, data_name = 'M6 family', min_size = 0, max_size = 5, color = 'cyan', opacity = 1)\n",
    "ap_data = StarClusterData(ap, data_name = '⍺Per family', min_size = 0, max_size = 5, color = 'violet', opacity = 1)\n",
    "\n",
    "sc = StarClusterCollection([cr135_data, m6_data, ap_data])\n",
    "sc.integrate_all_orbits(time=np.arange(0., -61., -1.), reference_frame_center=None)"
   ]
  },
  {
   "cell_type": "markdown",
   "metadata": {},
   "source": [
    "# Make 3D plot"
   ]
  },
  {
   "cell_type": "code",
   "execution_count": 5,
   "metadata": {},
   "outputs": [],
   "source": [
    "# basic custom layout properties\n",
    "width = 800\n",
    "height = 800\n",
    "x_width = 1000\n",
    "y_width = x_width\n",
    "z_width = 600\n",
    "z_aspect = 1.*(z_width/x_width)"
   ]
  },
  {
   "cell_type": "code",
   "execution_count": 6,
   "metadata": {},
   "outputs": [],
   "source": [
    "# define custom layout\n",
    "        # plotly scene, layout, and camera\n",
    "camera = dict(\n",
    "    up=dict(x=0, y=1, z=0),\n",
    "    center=dict(x=0, y=0, z=0),\n",
    "    eye=dict(x=0., y=-.8, z=1.5),\n",
    "    projection = dict(type = 'perspective')\n",
    ") \n",
    "\n",
    "scene = dict(\n",
    "    camera = camera,\n",
    "    aspectmode = 'manual',\n",
    "    aspectratio = dict(x=1, y=1, z=z_aspect),\n",
    "    xaxis=dict(\n",
    "        title='X\\' (pc)', \n",
    "        range = [-x_width, x_width],\n",
    "        showgrid=False,\n",
    "        zeroline=False,\n",
    "        showline = True,\n",
    "        mirror = True,\n",
    "        showspikes = False,\n",
    "        nticks = 5,\n",
    "        linecolor = 'white',\n",
    "        linewidth = 2.,\n",
    "    ), \n",
    "    yaxis=dict(\n",
    "        title='Y\\' (pc)', \n",
    "        range = [-y_width, y_width],\n",
    "        showgrid=False,\n",
    "        zeroline=False,\n",
    "        showline = True,\n",
    "        mirror = True,\n",
    "        showspikes = False,\n",
    "        nticks = 5,\n",
    "        linecolor = 'white',\n",
    "        linewidth = 2.,\n",
    "    ), \n",
    "    zaxis=dict(\n",
    "        title='Z\\' (pc)', \n",
    "        range = [-z_width, z_width],\n",
    "        showgrid=False,\n",
    "        zeroline=False,\n",
    "        showline = True,\n",
    "        showspikes = False,\n",
    "        mirror = True,\n",
    "        nticks = 5,\n",
    "        linecolor = 'white',\n",
    "        linewidth = 2.,\n",
    "    )\n",
    ")\n",
    "\n",
    "legend = dict(\n",
    "    x = 0,\n",
    "    y = 1,\n",
    "    title = dict(\n",
    "        text = 'Click to toggle traces on/off',\n",
    "        font = dict(\n",
    "            size = 18,  \n",
    "            color = 'white'\n",
    "        ),  \n",
    "        side = 'top'\n",
    "    ),\n",
    "    font = dict(\n",
    "        size = 14,\n",
    "        family = 'Arial',\n",
    "        color = 'white'\n",
    "    ),\n",
    "    itemsizing = 'constant',\n",
    "    bgcolor = 'rgba(0,0,0,0)' # transparent legend\n",
    ")\n",
    "\n",
    "layout = dict(\n",
    "    scene = scene,\n",
    "    template = 'plotly_dark', \n",
    "    dragmode = 'turntable',\n",
    "    legend = legend,\n",
    "    width = width,\n",
    "    height = height\n",
    ")"
   ]
  },
  {
   "cell_type": "markdown",
   "metadata": {},
   "source": [
    "## Create static traces with Plotly"
   ]
  },
  {
   "cell_type": "code",
   "execution_count": 7,
   "metadata": {},
   "outputs": [],
   "source": [
    "static_traces = []\n",
    "static_traces_times = []\n",
    "\n",
    "\n",
    "# read in Gordian scatter map\n",
    "dfv = pd.read_csv('/Users/cam/Downloads/edenhofer_dust_scatter_new.csv')\n",
    "dfv = dfv.loc[dfv['extinction'].between(0.0007, 1)]\n",
    "ds_index = 2\n",
    "scatter_edenhofer = go.Scatter3d(\n",
    "    x=dfv['X'].values[::ds_index],\n",
    "    y=dfv['Y'].values[::ds_index],\n",
    "    z=dfv['Z'].values[::ds_index],\n",
    "    mode='markers',\n",
    "    marker=dict(size=4.,\n",
    "                #color='gray',\n",
    "                color=dfv['extinction'].values[::ds_index],\n",
    "                colorscale='Ice',\n",
    "                cmin = 0.0007,\n",
    "                cmax = 0.005,\n",
    "                symbol='circle',\n",
    "                opacity=.02),\n",
    "    line = dict(color = 'gray', width = 0.),\n",
    "    name='Edenhofer Dust',\n",
    "    visible = True,\n",
    "    hovertext='Edenhofer Dust',\n",
    "    hoverinfo='skip'\n",
    "    )\n",
    "static_traces.append(scatter_edenhofer)\n",
    "static_traces_times.append([0.]) # only show at t=0\n",
    "\n",
    "dfv = pd.read_csv('/Users/cam/Downloads/vergely_dust_scatter_large.csv')\n",
    "dfv = dfv.loc[dfv['e'].between(0, .01)]\n",
    "e = dfv['e'].values\n",
    "scatter_vergely = go.Scatter3d(\n",
    "    x=dfv['X'].values[::3],\n",
    "    y=dfv['Y'].values[::3],\n",
    "    z=dfv['Z'].values[::3],\n",
    "    mode='markers',\n",
    "    marker=dict(size=7.5,\n",
    "                color='gray',\n",
    "                symbol='circle',\n",
    "                opacity=.04),\n",
    "    line = dict(color = 'gray', width = 0.),\n",
    "    name='Vergeley Dust',\n",
    "    visible = 'legendonly',\n",
    "    hovertext='Vergeley Dust')\n",
    "# static_traces.append(scatter_vergely)\n",
    "# static_traces_times.append([0.]) # only show at t=0\n",
    "\n",
    "# read in zucker clouds\n",
    "zucker_clouds = pd.read_csv('/Users/cam/Downloads/zucker_clouds.csv')\n",
    "scatter_zucker = go.Scatter3d(\n",
    "    x=zucker_clouds['X'].values,\n",
    "    y=zucker_clouds['Y'].values,\n",
    "    z=zucker_clouds['Z'].values,\n",
    "    mode='markers',\n",
    "    marker=dict(size=5.,\n",
    "                color='red',\n",
    "                symbol='circle',\n",
    "                opacity=.5),\n",
    "    line = dict(color = 'red', width = 0.),\n",
    "    name='Zucker Clouds',\n",
    "    visible = True,\n",
    "    hovertext=zucker_clouds['name'])\n",
    "# static_traces.append(scatter_zucker)\n",
    "# static_traces_times.append([0.]) # only show at t=0\n",
    "\n",
    "hdu = fits.open('/Users/cam/Downloads/Local_Bubble_Pelgrims2020.fits')\n",
    "x = hdu[1].data['x'][::4]\n",
    "y = hdu[1].data['y'][::4]\n",
    "z = hdu[1].data['z'][::4]\n",
    "\n",
    "scatter_lb = go.Scatter3d(\n",
    "    x=x,\n",
    "    y=y,\n",
    "    z=z,\n",
    "    mode='markers',\n",
    "    marker=dict(size=1,\n",
    "                color='#6495ED',\n",
    "                symbol='circle',\n",
    "                opacity=.03),\n",
    "    name='Local Bubble',\n",
    "    visible = 'legendonly',\n",
    "    hovertext='Local Bubble')\n",
    "static_traces.append(scatter_lb)\n",
    "static_traces_times.append([0.]) # only show at t=0\n",
    "\n"
   ]
  },
  {
   "cell_type": "code",
   "execution_count": 8,
   "metadata": {},
   "outputs": [],
   "source": [
    "plot_3d = StarClusters3DPlotter()\n",
    "save_name = '/Users/cam/Downloads/cluster_orbits_figure.html'\n",
    "fig3d = plot_3d.generate_3d_plot(collection = sc, show = False, save_name =save_name, figure_layout=layout, static_traces = static_traces, static_traces_times = static_traces_times, reference_frame_center = None)"
   ]
  }
 ],
 "metadata": {
  "kernelspec": {
   "display_name": "p311",
   "language": "python",
   "name": "python3"
  },
  "language_info": {
   "codemirror_mode": {
    "name": "ipython",
    "version": 3
   },
   "file_extension": ".py",
   "mimetype": "text/x-python",
   "name": "python",
   "nbconvert_exporter": "python",
   "pygments_lexer": "ipython3",
   "version": "3.11.0"
  }
 },
 "nbformat": 4,
 "nbformat_minor": 2
}
